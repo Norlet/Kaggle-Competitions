{
  "metadata": {
    "papermill": {
      "default_parameters": {},
      "duration": 103.043844,
      "end_time": "2023-05-19T11:08:07.227081",
      "environment_variables": {},
      "exception": null,
      "input_path": "__notebook__.ipynb",
      "output_path": "__notebook__.ipynb",
      "parameters": {},
      "start_time": "2023-05-19T11:06:24.183237",
      "version": "2.4.0"
    },
    "kernelspec": {
      "name": "python",
      "display_name": "Python (Pyodide)",
      "language": "python"
    },
    "language_info": {
      "codemirror_mode": {
        "name": "python",
        "version": 3
      },
      "file_extension": ".py",
      "mimetype": "text/x-python",
      "name": "python",
      "nbconvert_exporter": "python",
      "pygments_lexer": "ipython3",
      "version": "3.8"
    },
    "colab": {
      "provenance": []
    }
  },
  "nbformat_minor": 5,
  "nbformat": 4,
  "cells": [
    {
      "cell_type": "markdown",
      "source": [
        "## Загрузка библиотек"
      ],
      "metadata": {
        "papermill": {
          "duration": 0.01552,
          "end_time": "2023-05-19T11:06:38.426433",
          "exception": false,
          "start_time": "2023-05-19T11:06:38.410913",
          "status": "completed"
        },
        "pycharm": {
          "name": "#%% md\n"
        },
        "tags": [],
        "id": "2d1072ab"
      },
      "id": "2d1072ab"
    },
    {
      "cell_type": "code",
      "source": [
        "import numpy as np\n",
        "import pandas as pd\n",
        "from matplotlib import pyplot as plt\n",
        "%pip install seaborn\n",
        "import seaborn as sns\n",
        "from statsmodels.graphics import tsaplots\n",
        "from statsmodels.tsa.arima.model import ARIMA\n",
        "from statsmodels.tsa.stattools import adfuller, kpss"
      ],
      "metadata": {
        "papermill": {
          "duration": 2.361072,
          "end_time": "2023-05-19T11:06:40.802752",
          "exception": false,
          "start_time": "2023-05-19T11:06:38.441680",
          "status": "completed"
        },
        "tags": [],
        "trusted": true,
        "colab": {
          "base_uri": "https://localhost:8080/"
        },
        "id": "413c8cdb",
        "outputId": "f346a592-4973-4846-f23d-986704d6ee8f"
      },
      "execution_count": 2,
      "outputs": [
        {
          "output_type": "stream",
          "name": "stdout",
          "text": [
            "Looking in indexes: https://pypi.org/simple, https://us-python.pkg.dev/colab-wheels/public/simple/\n",
            "Requirement already satisfied: seaborn in /usr/local/lib/python3.10/dist-packages (0.12.2)\n",
            "Requirement already satisfied: numpy!=1.24.0,>=1.17 in /usr/local/lib/python3.10/dist-packages (from seaborn) (1.22.4)\n",
            "Requirement already satisfied: pandas>=0.25 in /usr/local/lib/python3.10/dist-packages (from seaborn) (1.5.3)\n",
            "Requirement already satisfied: matplotlib!=3.6.1,>=3.1 in /usr/local/lib/python3.10/dist-packages (from seaborn) (3.7.1)\n",
            "Requirement already satisfied: contourpy>=1.0.1 in /usr/local/lib/python3.10/dist-packages (from matplotlib!=3.6.1,>=3.1->seaborn) (1.0.7)\n",
            "Requirement already satisfied: cycler>=0.10 in /usr/local/lib/python3.10/dist-packages (from matplotlib!=3.6.1,>=3.1->seaborn) (0.11.0)\n",
            "Requirement already satisfied: fonttools>=4.22.0 in /usr/local/lib/python3.10/dist-packages (from matplotlib!=3.6.1,>=3.1->seaborn) (4.39.3)\n",
            "Requirement already satisfied: kiwisolver>=1.0.1 in /usr/local/lib/python3.10/dist-packages (from matplotlib!=3.6.1,>=3.1->seaborn) (1.4.4)\n",
            "Requirement already satisfied: packaging>=20.0 in /usr/local/lib/python3.10/dist-packages (from matplotlib!=3.6.1,>=3.1->seaborn) (23.1)\n",
            "Requirement already satisfied: pillow>=6.2.0 in /usr/local/lib/python3.10/dist-packages (from matplotlib!=3.6.1,>=3.1->seaborn) (8.4.0)\n",
            "Requirement already satisfied: pyparsing>=2.3.1 in /usr/local/lib/python3.10/dist-packages (from matplotlib!=3.6.1,>=3.1->seaborn) (3.0.9)\n",
            "Requirement already satisfied: python-dateutil>=2.7 in /usr/local/lib/python3.10/dist-packages (from matplotlib!=3.6.1,>=3.1->seaborn) (2.8.2)\n",
            "Requirement already satisfied: pytz>=2020.1 in /usr/local/lib/python3.10/dist-packages (from pandas>=0.25->seaborn) (2022.7.1)\n",
            "Requirement already satisfied: six>=1.5 in /usr/local/lib/python3.10/dist-packages (from python-dateutil>=2.7->matplotlib!=3.6.1,>=3.1->seaborn) (1.16.0)\n"
          ]
        }
      ],
      "id": "413c8cdb"
    },
    {
      "cell_type": "markdown",
      "source": [
        "## Загрузка данных"
      ],
      "metadata": {
        "id": "a9524a8f-6289-4129-a218-611b93ea0bfe"
      },
      "id": "a9524a8f-6289-4129-a218-611b93ea0bfe"
    },
    {
      "cell_type": "code",
      "source": [
        "!pip install pydrive\n",
        "# these classes allow you to request the Google drive API\n",
        "from pydrive.auth import GoogleAuth\n",
        "from pydrive.drive import GoogleDrive \n",
        "from google.colab import auth \n",
        "from oauth2client.client import GoogleCredentials\n",
        "  \n",
        "# 1. Authenticate and create the PyDrive client.\n",
        "auth.authenticate_user()\n",
        "gauth = GoogleAuth()\n",
        "gauth.credentials = GoogleCredentials.get_application_default()\n",
        "drive = GoogleDrive(gauth)\n",
        "file_id = '1lDBaeAnEXntW02PEAt_1nJLJteGdGof2'\n",
        "downloaded = drive.CreateFile({'id': file_id})\n",
        "# allows you to temporarily load your file in the notebook VM\n",
        "\n",
        "# assume the file is called file.csv and it's located at the root of your drive\n",
        "downloaded.GetContentFile('train.csv')\n",
        "\n",
        "train_df = pd.read_csv('train.csv')\n",
        "train_df"
      ],
      "metadata": {
        "colab": {
          "base_uri": "https://localhost:8080/",
          "height": 842
        },
        "id": "R2PkdRegeCrY",
        "outputId": "87d9801f-c819-49a0-ff9b-016359bb40eb"
      },
      "id": "R2PkdRegeCrY",
      "execution_count": 4,
      "outputs": [
        {
          "output_type": "stream",
          "name": "stdout",
          "text": [
            "Looking in indexes: https://pypi.org/simple, https://us-python.pkg.dev/colab-wheels/public/simple/\n",
            "Requirement already satisfied: pydrive in /usr/local/lib/python3.10/dist-packages (1.3.1)\n",
            "Requirement already satisfied: google-api-python-client>=1.2 in /usr/local/lib/python3.10/dist-packages (from pydrive) (2.84.0)\n",
            "Requirement already satisfied: oauth2client>=4.0.0 in /usr/local/lib/python3.10/dist-packages (from pydrive) (4.1.3)\n",
            "Requirement already satisfied: PyYAML>=3.0 in /usr/local/lib/python3.10/dist-packages (from pydrive) (6.0)\n",
            "Requirement already satisfied: httplib2<1dev,>=0.15.0 in /usr/local/lib/python3.10/dist-packages (from google-api-python-client>=1.2->pydrive) (0.21.0)\n",
            "Requirement already satisfied: google-auth<3.0.0dev,>=1.19.0 in /usr/local/lib/python3.10/dist-packages (from google-api-python-client>=1.2->pydrive) (2.17.3)\n",
            "Requirement already satisfied: google-auth-httplib2>=0.1.0 in /usr/local/lib/python3.10/dist-packages (from google-api-python-client>=1.2->pydrive) (0.1.0)\n",
            "Requirement already satisfied: google-api-core!=2.0.*,!=2.1.*,!=2.2.*,!=2.3.0,<3.0.0dev,>=1.31.5 in /usr/local/lib/python3.10/dist-packages (from google-api-python-client>=1.2->pydrive) (2.11.0)\n",
            "Requirement already satisfied: uritemplate<5,>=3.0.1 in /usr/local/lib/python3.10/dist-packages (from google-api-python-client>=1.2->pydrive) (4.1.1)\n",
            "Requirement already satisfied: pyasn1>=0.1.7 in /usr/local/lib/python3.10/dist-packages (from oauth2client>=4.0.0->pydrive) (0.5.0)\n",
            "Requirement already satisfied: pyasn1-modules>=0.0.5 in /usr/local/lib/python3.10/dist-packages (from oauth2client>=4.0.0->pydrive) (0.3.0)\n",
            "Requirement already satisfied: rsa>=3.1.4 in /usr/local/lib/python3.10/dist-packages (from oauth2client>=4.0.0->pydrive) (4.9)\n",
            "Requirement already satisfied: six>=1.6.1 in /usr/local/lib/python3.10/dist-packages (from oauth2client>=4.0.0->pydrive) (1.16.0)\n",
            "Requirement already satisfied: googleapis-common-protos<2.0dev,>=1.56.2 in /usr/local/lib/python3.10/dist-packages (from google-api-core!=2.0.*,!=2.1.*,!=2.2.*,!=2.3.0,<3.0.0dev,>=1.31.5->google-api-python-client>=1.2->pydrive) (1.59.0)\n",
            "Requirement already satisfied: protobuf!=3.20.0,!=3.20.1,!=4.21.0,!=4.21.1,!=4.21.2,!=4.21.3,!=4.21.4,!=4.21.5,<5.0.0dev,>=3.19.5 in /usr/local/lib/python3.10/dist-packages (from google-api-core!=2.0.*,!=2.1.*,!=2.2.*,!=2.3.0,<3.0.0dev,>=1.31.5->google-api-python-client>=1.2->pydrive) (3.20.3)\n",
            "Requirement already satisfied: requests<3.0.0dev,>=2.18.0 in /usr/local/lib/python3.10/dist-packages (from google-api-core!=2.0.*,!=2.1.*,!=2.2.*,!=2.3.0,<3.0.0dev,>=1.31.5->google-api-python-client>=1.2->pydrive) (2.27.1)\n",
            "Requirement already satisfied: cachetools<6.0,>=2.0.0 in /usr/local/lib/python3.10/dist-packages (from google-auth<3.0.0dev,>=1.19.0->google-api-python-client>=1.2->pydrive) (5.3.0)\n",
            "Requirement already satisfied: pyparsing!=3.0.0,!=3.0.1,!=3.0.2,!=3.0.3,<4,>=2.4.2 in /usr/local/lib/python3.10/dist-packages (from httplib2<1dev,>=0.15.0->google-api-python-client>=1.2->pydrive) (3.0.9)\n",
            "Requirement already satisfied: urllib3<1.27,>=1.21.1 in /usr/local/lib/python3.10/dist-packages (from requests<3.0.0dev,>=2.18.0->google-api-core!=2.0.*,!=2.1.*,!=2.2.*,!=2.3.0,<3.0.0dev,>=1.31.5->google-api-python-client>=1.2->pydrive) (1.26.15)\n",
            "Requirement already satisfied: certifi>=2017.4.17 in /usr/local/lib/python3.10/dist-packages (from requests<3.0.0dev,>=2.18.0->google-api-core!=2.0.*,!=2.1.*,!=2.2.*,!=2.3.0,<3.0.0dev,>=1.31.5->google-api-python-client>=1.2->pydrive) (2022.12.7)\n",
            "Requirement already satisfied: charset-normalizer~=2.0.0 in /usr/local/lib/python3.10/dist-packages (from requests<3.0.0dev,>=2.18.0->google-api-core!=2.0.*,!=2.1.*,!=2.2.*,!=2.3.0,<3.0.0dev,>=1.31.5->google-api-python-client>=1.2->pydrive) (2.0.12)\n",
            "Requirement already satisfied: idna<4,>=2.5 in /usr/local/lib/python3.10/dist-packages (from requests<3.0.0dev,>=2.18.0->google-api-core!=2.0.*,!=2.1.*,!=2.2.*,!=2.3.0,<3.0.0dev,>=1.31.5->google-api-python-client>=1.2->pydrive) (3.4)\n"
          ]
        },
        {
          "output_type": "execute_result",
          "data": {
            "text/plain": [
              "              id        date  store_nbr                      family     sales  \\\n",
              "0              0  2013-01-01          1                  AUTOMOTIVE     0.000   \n",
              "1              1  2013-01-01          1                   BABY CARE     0.000   \n",
              "2              2  2013-01-01          1                      BEAUTY     0.000   \n",
              "3              3  2013-01-01          1                   BEVERAGES     0.000   \n",
              "4              4  2013-01-01          1                       BOOKS     0.000   \n",
              "...          ...         ...        ...                         ...       ...   \n",
              "3000883  3000883  2017-08-15          9                     POULTRY   438.133   \n",
              "3000884  3000884  2017-08-15          9              PREPARED FOODS   154.553   \n",
              "3000885  3000885  2017-08-15          9                     PRODUCE  2419.729   \n",
              "3000886  3000886  2017-08-15          9  SCHOOL AND OFFICE SUPPLIES   121.000   \n",
              "3000887  3000887  2017-08-15          9                     SEAFOOD    16.000   \n",
              "\n",
              "         onpromotion  \n",
              "0                  0  \n",
              "1                  0  \n",
              "2                  0  \n",
              "3                  0  \n",
              "4                  0  \n",
              "...              ...  \n",
              "3000883            0  \n",
              "3000884            1  \n",
              "3000885          148  \n",
              "3000886            8  \n",
              "3000887            0  \n",
              "\n",
              "[3000888 rows x 6 columns]"
            ],
            "text/html": [
              "\n",
              "  <div id=\"df-39faad90-cd4e-4a6d-b014-1c5de4e82674\">\n",
              "    <div class=\"colab-df-container\">\n",
              "      <div>\n",
              "<style scoped>\n",
              "    .dataframe tbody tr th:only-of-type {\n",
              "        vertical-align: middle;\n",
              "    }\n",
              "\n",
              "    .dataframe tbody tr th {\n",
              "        vertical-align: top;\n",
              "    }\n",
              "\n",
              "    .dataframe thead th {\n",
              "        text-align: right;\n",
              "    }\n",
              "</style>\n",
              "<table border=\"1\" class=\"dataframe\">\n",
              "  <thead>\n",
              "    <tr style=\"text-align: right;\">\n",
              "      <th></th>\n",
              "      <th>id</th>\n",
              "      <th>date</th>\n",
              "      <th>store_nbr</th>\n",
              "      <th>family</th>\n",
              "      <th>sales</th>\n",
              "      <th>onpromotion</th>\n",
              "    </tr>\n",
              "  </thead>\n",
              "  <tbody>\n",
              "    <tr>\n",
              "      <th>0</th>\n",
              "      <td>0</td>\n",
              "      <td>2013-01-01</td>\n",
              "      <td>1</td>\n",
              "      <td>AUTOMOTIVE</td>\n",
              "      <td>0.000</td>\n",
              "      <td>0</td>\n",
              "    </tr>\n",
              "    <tr>\n",
              "      <th>1</th>\n",
              "      <td>1</td>\n",
              "      <td>2013-01-01</td>\n",
              "      <td>1</td>\n",
              "      <td>BABY CARE</td>\n",
              "      <td>0.000</td>\n",
              "      <td>0</td>\n",
              "    </tr>\n",
              "    <tr>\n",
              "      <th>2</th>\n",
              "      <td>2</td>\n",
              "      <td>2013-01-01</td>\n",
              "      <td>1</td>\n",
              "      <td>BEAUTY</td>\n",
              "      <td>0.000</td>\n",
              "      <td>0</td>\n",
              "    </tr>\n",
              "    <tr>\n",
              "      <th>3</th>\n",
              "      <td>3</td>\n",
              "      <td>2013-01-01</td>\n",
              "      <td>1</td>\n",
              "      <td>BEVERAGES</td>\n",
              "      <td>0.000</td>\n",
              "      <td>0</td>\n",
              "    </tr>\n",
              "    <tr>\n",
              "      <th>4</th>\n",
              "      <td>4</td>\n",
              "      <td>2013-01-01</td>\n",
              "      <td>1</td>\n",
              "      <td>BOOKS</td>\n",
              "      <td>0.000</td>\n",
              "      <td>0</td>\n",
              "    </tr>\n",
              "    <tr>\n",
              "      <th>...</th>\n",
              "      <td>...</td>\n",
              "      <td>...</td>\n",
              "      <td>...</td>\n",
              "      <td>...</td>\n",
              "      <td>...</td>\n",
              "      <td>...</td>\n",
              "    </tr>\n",
              "    <tr>\n",
              "      <th>3000883</th>\n",
              "      <td>3000883</td>\n",
              "      <td>2017-08-15</td>\n",
              "      <td>9</td>\n",
              "      <td>POULTRY</td>\n",
              "      <td>438.133</td>\n",
              "      <td>0</td>\n",
              "    </tr>\n",
              "    <tr>\n",
              "      <th>3000884</th>\n",
              "      <td>3000884</td>\n",
              "      <td>2017-08-15</td>\n",
              "      <td>9</td>\n",
              "      <td>PREPARED FOODS</td>\n",
              "      <td>154.553</td>\n",
              "      <td>1</td>\n",
              "    </tr>\n",
              "    <tr>\n",
              "      <th>3000885</th>\n",
              "      <td>3000885</td>\n",
              "      <td>2017-08-15</td>\n",
              "      <td>9</td>\n",
              "      <td>PRODUCE</td>\n",
              "      <td>2419.729</td>\n",
              "      <td>148</td>\n",
              "    </tr>\n",
              "    <tr>\n",
              "      <th>3000886</th>\n",
              "      <td>3000886</td>\n",
              "      <td>2017-08-15</td>\n",
              "      <td>9</td>\n",
              "      <td>SCHOOL AND OFFICE SUPPLIES</td>\n",
              "      <td>121.000</td>\n",
              "      <td>8</td>\n",
              "    </tr>\n",
              "    <tr>\n",
              "      <th>3000887</th>\n",
              "      <td>3000887</td>\n",
              "      <td>2017-08-15</td>\n",
              "      <td>9</td>\n",
              "      <td>SEAFOOD</td>\n",
              "      <td>16.000</td>\n",
              "      <td>0</td>\n",
              "    </tr>\n",
              "  </tbody>\n",
              "</table>\n",
              "<p>3000888 rows × 6 columns</p>\n",
              "</div>\n",
              "      <button class=\"colab-df-convert\" onclick=\"convertToInteractive('df-39faad90-cd4e-4a6d-b014-1c5de4e82674')\"\n",
              "              title=\"Convert this dataframe to an interactive table.\"\n",
              "              style=\"display:none;\">\n",
              "        \n",
              "  <svg xmlns=\"http://www.w3.org/2000/svg\" height=\"24px\"viewBox=\"0 0 24 24\"\n",
              "       width=\"24px\">\n",
              "    <path d=\"M0 0h24v24H0V0z\" fill=\"none\"/>\n",
              "    <path d=\"M18.56 5.44l.94 2.06.94-2.06 2.06-.94-2.06-.94-.94-2.06-.94 2.06-2.06.94zm-11 1L8.5 8.5l.94-2.06 2.06-.94-2.06-.94L8.5 2.5l-.94 2.06-2.06.94zm10 10l.94 2.06.94-2.06 2.06-.94-2.06-.94-.94-2.06-.94 2.06-2.06.94z\"/><path d=\"M17.41 7.96l-1.37-1.37c-.4-.4-.92-.59-1.43-.59-.52 0-1.04.2-1.43.59L10.3 9.45l-7.72 7.72c-.78.78-.78 2.05 0 2.83L4 21.41c.39.39.9.59 1.41.59.51 0 1.02-.2 1.41-.59l7.78-7.78 2.81-2.81c.8-.78.8-2.07 0-2.86zM5.41 20L4 18.59l7.72-7.72 1.47 1.35L5.41 20z\"/>\n",
              "  </svg>\n",
              "      </button>\n",
              "      \n",
              "  <style>\n",
              "    .colab-df-container {\n",
              "      display:flex;\n",
              "      flex-wrap:wrap;\n",
              "      gap: 12px;\n",
              "    }\n",
              "\n",
              "    .colab-df-convert {\n",
              "      background-color: #E8F0FE;\n",
              "      border: none;\n",
              "      border-radius: 50%;\n",
              "      cursor: pointer;\n",
              "      display: none;\n",
              "      fill: #1967D2;\n",
              "      height: 32px;\n",
              "      padding: 0 0 0 0;\n",
              "      width: 32px;\n",
              "    }\n",
              "\n",
              "    .colab-df-convert:hover {\n",
              "      background-color: #E2EBFA;\n",
              "      box-shadow: 0px 1px 2px rgba(60, 64, 67, 0.3), 0px 1px 3px 1px rgba(60, 64, 67, 0.15);\n",
              "      fill: #174EA6;\n",
              "    }\n",
              "\n",
              "    [theme=dark] .colab-df-convert {\n",
              "      background-color: #3B4455;\n",
              "      fill: #D2E3FC;\n",
              "    }\n",
              "\n",
              "    [theme=dark] .colab-df-convert:hover {\n",
              "      background-color: #434B5C;\n",
              "      box-shadow: 0px 1px 3px 1px rgba(0, 0, 0, 0.15);\n",
              "      filter: drop-shadow(0px 1px 2px rgba(0, 0, 0, 0.3));\n",
              "      fill: #FFFFFF;\n",
              "    }\n",
              "  </style>\n",
              "\n",
              "      <script>\n",
              "        const buttonEl =\n",
              "          document.querySelector('#df-39faad90-cd4e-4a6d-b014-1c5de4e82674 button.colab-df-convert');\n",
              "        buttonEl.style.display =\n",
              "          google.colab.kernel.accessAllowed ? 'block' : 'none';\n",
              "\n",
              "        async function convertToInteractive(key) {\n",
              "          const element = document.querySelector('#df-39faad90-cd4e-4a6d-b014-1c5de4e82674');\n",
              "          const dataTable =\n",
              "            await google.colab.kernel.invokeFunction('convertToInteractive',\n",
              "                                                     [key], {});\n",
              "          if (!dataTable) return;\n",
              "\n",
              "          const docLinkHtml = 'Like what you see? Visit the ' +\n",
              "            '<a target=\"_blank\" href=https://colab.research.google.com/notebooks/data_table.ipynb>data table notebook</a>'\n",
              "            + ' to learn more about interactive tables.';\n",
              "          element.innerHTML = '';\n",
              "          dataTable['output_type'] = 'display_data';\n",
              "          await google.colab.output.renderOutput(dataTable, element);\n",
              "          const docLink = document.createElement('div');\n",
              "          docLink.innerHTML = docLinkHtml;\n",
              "          element.appendChild(docLink);\n",
              "        }\n",
              "      </script>\n",
              "    </div>\n",
              "  </div>\n",
              "  "
            ]
          },
          "metadata": {},
          "execution_count": 4
        }
      ]
    },
    {
      "cell_type": "code",
      "source": [
        "auth.authenticate_user()\n",
        "gauth = GoogleAuth()\n",
        "gauth.credentials = GoogleCredentials.get_application_default()\n",
        "drive = GoogleDrive(gauth)\n",
        "file_id = '1m6C2PO2wu5zJv7wkJ-CHVcArZr33PKKv'\n",
        "downloaded = drive.CreateFile({'id': file_id})\n",
        "\n",
        "\n",
        "\n",
        "downloaded.GetContentFile('test.csv')\n",
        "\n",
        "test_df= pd.read_csv(\"test.csv\")\n",
        "test_df.sample(10)"
      ],
      "metadata": {
        "colab": {
          "base_uri": "https://localhost:8080/",
          "height": 363
        },
        "id": "4dSfbHMDmSgm",
        "outputId": "590516fd-f142-434f-c5e7-af2539470318"
      },
      "id": "4dSfbHMDmSgm",
      "execution_count": 5,
      "outputs": [
        {
          "output_type": "execute_result",
          "data": {
            "text/plain": [
              "            id        date  store_nbr                      family  onpromotion\n",
              "3373   3004261  2017-08-17         53                    CLEANING            7\n",
              "21131  3022019  2017-08-27         51                FROZEN FOODS            0\n",
              "1457   3002345  2017-08-16          5                BREAD/BAKERY           12\n",
              "1607   3002495  2017-08-16         53                   MAGAZINES            0\n",
              "18761  3019649  2017-08-26         35             HOME APPLIANCES            0\n",
              "27824  3028712  2017-08-31          4                BREAD/BAKERY            9\n",
              "24215  3025103  2017-08-29         38                PET SUPPLIES            0\n",
              "23395  3024283  2017-08-29         15  SCHOOL AND OFFICE SUPPLIES            3\n",
              "25552  3026440  2017-08-30         26                        EGGS            0\n",
              "14506  3015394  2017-08-24         16                  LADIESWEAR            0"
            ],
            "text/html": [
              "\n",
              "  <div id=\"df-410a5c9c-2d0f-49d8-b316-094d97e0f863\">\n",
              "    <div class=\"colab-df-container\">\n",
              "      <div>\n",
              "<style scoped>\n",
              "    .dataframe tbody tr th:only-of-type {\n",
              "        vertical-align: middle;\n",
              "    }\n",
              "\n",
              "    .dataframe tbody tr th {\n",
              "        vertical-align: top;\n",
              "    }\n",
              "\n",
              "    .dataframe thead th {\n",
              "        text-align: right;\n",
              "    }\n",
              "</style>\n",
              "<table border=\"1\" class=\"dataframe\">\n",
              "  <thead>\n",
              "    <tr style=\"text-align: right;\">\n",
              "      <th></th>\n",
              "      <th>id</th>\n",
              "      <th>date</th>\n",
              "      <th>store_nbr</th>\n",
              "      <th>family</th>\n",
              "      <th>onpromotion</th>\n",
              "    </tr>\n",
              "  </thead>\n",
              "  <tbody>\n",
              "    <tr>\n",
              "      <th>3373</th>\n",
              "      <td>3004261</td>\n",
              "      <td>2017-08-17</td>\n",
              "      <td>53</td>\n",
              "      <td>CLEANING</td>\n",
              "      <td>7</td>\n",
              "    </tr>\n",
              "    <tr>\n",
              "      <th>21131</th>\n",
              "      <td>3022019</td>\n",
              "      <td>2017-08-27</td>\n",
              "      <td>51</td>\n",
              "      <td>FROZEN FOODS</td>\n",
              "      <td>0</td>\n",
              "    </tr>\n",
              "    <tr>\n",
              "      <th>1457</th>\n",
              "      <td>3002345</td>\n",
              "      <td>2017-08-16</td>\n",
              "      <td>5</td>\n",
              "      <td>BREAD/BAKERY</td>\n",
              "      <td>12</td>\n",
              "    </tr>\n",
              "    <tr>\n",
              "      <th>1607</th>\n",
              "      <td>3002495</td>\n",
              "      <td>2017-08-16</td>\n",
              "      <td>53</td>\n",
              "      <td>MAGAZINES</td>\n",
              "      <td>0</td>\n",
              "    </tr>\n",
              "    <tr>\n",
              "      <th>18761</th>\n",
              "      <td>3019649</td>\n",
              "      <td>2017-08-26</td>\n",
              "      <td>35</td>\n",
              "      <td>HOME APPLIANCES</td>\n",
              "      <td>0</td>\n",
              "    </tr>\n",
              "    <tr>\n",
              "      <th>27824</th>\n",
              "      <td>3028712</td>\n",
              "      <td>2017-08-31</td>\n",
              "      <td>4</td>\n",
              "      <td>BREAD/BAKERY</td>\n",
              "      <td>9</td>\n",
              "    </tr>\n",
              "    <tr>\n",
              "      <th>24215</th>\n",
              "      <td>3025103</td>\n",
              "      <td>2017-08-29</td>\n",
              "      <td>38</td>\n",
              "      <td>PET SUPPLIES</td>\n",
              "      <td>0</td>\n",
              "    </tr>\n",
              "    <tr>\n",
              "      <th>23395</th>\n",
              "      <td>3024283</td>\n",
              "      <td>2017-08-29</td>\n",
              "      <td>15</td>\n",
              "      <td>SCHOOL AND OFFICE SUPPLIES</td>\n",
              "      <td>3</td>\n",
              "    </tr>\n",
              "    <tr>\n",
              "      <th>25552</th>\n",
              "      <td>3026440</td>\n",
              "      <td>2017-08-30</td>\n",
              "      <td>26</td>\n",
              "      <td>EGGS</td>\n",
              "      <td>0</td>\n",
              "    </tr>\n",
              "    <tr>\n",
              "      <th>14506</th>\n",
              "      <td>3015394</td>\n",
              "      <td>2017-08-24</td>\n",
              "      <td>16</td>\n",
              "      <td>LADIESWEAR</td>\n",
              "      <td>0</td>\n",
              "    </tr>\n",
              "  </tbody>\n",
              "</table>\n",
              "</div>\n",
              "      <button class=\"colab-df-convert\" onclick=\"convertToInteractive('df-410a5c9c-2d0f-49d8-b316-094d97e0f863')\"\n",
              "              title=\"Convert this dataframe to an interactive table.\"\n",
              "              style=\"display:none;\">\n",
              "        \n",
              "  <svg xmlns=\"http://www.w3.org/2000/svg\" height=\"24px\"viewBox=\"0 0 24 24\"\n",
              "       width=\"24px\">\n",
              "    <path d=\"M0 0h24v24H0V0z\" fill=\"none\"/>\n",
              "    <path d=\"M18.56 5.44l.94 2.06.94-2.06 2.06-.94-2.06-.94-.94-2.06-.94 2.06-2.06.94zm-11 1L8.5 8.5l.94-2.06 2.06-.94-2.06-.94L8.5 2.5l-.94 2.06-2.06.94zm10 10l.94 2.06.94-2.06 2.06-.94-2.06-.94-.94-2.06-.94 2.06-2.06.94z\"/><path d=\"M17.41 7.96l-1.37-1.37c-.4-.4-.92-.59-1.43-.59-.52 0-1.04.2-1.43.59L10.3 9.45l-7.72 7.72c-.78.78-.78 2.05 0 2.83L4 21.41c.39.39.9.59 1.41.59.51 0 1.02-.2 1.41-.59l7.78-7.78 2.81-2.81c.8-.78.8-2.07 0-2.86zM5.41 20L4 18.59l7.72-7.72 1.47 1.35L5.41 20z\"/>\n",
              "  </svg>\n",
              "      </button>\n",
              "      \n",
              "  <style>\n",
              "    .colab-df-container {\n",
              "      display:flex;\n",
              "      flex-wrap:wrap;\n",
              "      gap: 12px;\n",
              "    }\n",
              "\n",
              "    .colab-df-convert {\n",
              "      background-color: #E8F0FE;\n",
              "      border: none;\n",
              "      border-radius: 50%;\n",
              "      cursor: pointer;\n",
              "      display: none;\n",
              "      fill: #1967D2;\n",
              "      height: 32px;\n",
              "      padding: 0 0 0 0;\n",
              "      width: 32px;\n",
              "    }\n",
              "\n",
              "    .colab-df-convert:hover {\n",
              "      background-color: #E2EBFA;\n",
              "      box-shadow: 0px 1px 2px rgba(60, 64, 67, 0.3), 0px 1px 3px 1px rgba(60, 64, 67, 0.15);\n",
              "      fill: #174EA6;\n",
              "    }\n",
              "\n",
              "    [theme=dark] .colab-df-convert {\n",
              "      background-color: #3B4455;\n",
              "      fill: #D2E3FC;\n",
              "    }\n",
              "\n",
              "    [theme=dark] .colab-df-convert:hover {\n",
              "      background-color: #434B5C;\n",
              "      box-shadow: 0px 1px 3px 1px rgba(0, 0, 0, 0.15);\n",
              "      filter: drop-shadow(0px 1px 2px rgba(0, 0, 0, 0.3));\n",
              "      fill: #FFFFFF;\n",
              "    }\n",
              "  </style>\n",
              "\n",
              "      <script>\n",
              "        const buttonEl =\n",
              "          document.querySelector('#df-410a5c9c-2d0f-49d8-b316-094d97e0f863 button.colab-df-convert');\n",
              "        buttonEl.style.display =\n",
              "          google.colab.kernel.accessAllowed ? 'block' : 'none';\n",
              "\n",
              "        async function convertToInteractive(key) {\n",
              "          const element = document.querySelector('#df-410a5c9c-2d0f-49d8-b316-094d97e0f863');\n",
              "          const dataTable =\n",
              "            await google.colab.kernel.invokeFunction('convertToInteractive',\n",
              "                                                     [key], {});\n",
              "          if (!dataTable) return;\n",
              "\n",
              "          const docLinkHtml = 'Like what you see? Visit the ' +\n",
              "            '<a target=\"_blank\" href=https://colab.research.google.com/notebooks/data_table.ipynb>data table notebook</a>'\n",
              "            + ' to learn more about interactive tables.';\n",
              "          element.innerHTML = '';\n",
              "          dataTable['output_type'] = 'display_data';\n",
              "          await google.colab.output.renderOutput(dataTable, element);\n",
              "          const docLink = document.createElement('div');\n",
              "          docLink.innerHTML = docLinkHtml;\n",
              "          element.appendChild(docLink);\n",
              "        }\n",
              "      </script>\n",
              "    </div>\n",
              "  </div>\n",
              "  "
            ]
          },
          "metadata": {},
          "execution_count": 5
        }
      ]
    },
    {
      "cell_type": "code",
      "source": [
        "auth.authenticate_user()\n",
        "gauth = GoogleAuth()\n",
        "gauth.credentials = GoogleCredentials.get_application_default()\n",
        "drive = GoogleDrive(gauth)\n",
        "file_id = '1nrNdAXEVSFHVn70fvR6OMAFDGEpN46LB'\n",
        "downloaded = drive.CreateFile({'id': file_id})\n",
        "\n",
        "\n",
        "\n",
        "downloaded.GetContentFile('oil.csv')\n",
        "\n",
        "oil_df= pd.read_csv(\"oil.csv\")\n",
        "oil_df.sample(10)"
      ],
      "metadata": {
        "colab": {
          "base_uri": "https://localhost:8080/",
          "height": 363
        },
        "id": "bDaTd-RmmmIE",
        "outputId": "fa68efe7-fb16-46e3-fca6-d87c51af72f7"
      },
      "id": "bDaTd-RmmmIE",
      "execution_count": 7,
      "outputs": [
        {
          "output_type": "execute_result",
          "data": {
            "text/plain": [
              "            date  dcoilwtico\n",
              "320   2014-03-25       99.66\n",
              "818   2016-02-19       29.59\n",
              "864   2016-04-25       41.67\n",
              "63    2013-03-29         NaN\n",
              "636   2015-06-10       61.36\n",
              "1083  2017-02-24       53.99\n",
              "1012  2016-11-17       45.37\n",
              "998   2016-10-28       48.72\n",
              "924   2016-07-18       45.23\n",
              "879   2016-05-16       47.72"
            ],
            "text/html": [
              "\n",
              "  <div id=\"df-95c59189-1a8a-4edd-98a3-0b8b6e4628e9\">\n",
              "    <div class=\"colab-df-container\">\n",
              "      <div>\n",
              "<style scoped>\n",
              "    .dataframe tbody tr th:only-of-type {\n",
              "        vertical-align: middle;\n",
              "    }\n",
              "\n",
              "    .dataframe tbody tr th {\n",
              "        vertical-align: top;\n",
              "    }\n",
              "\n",
              "    .dataframe thead th {\n",
              "        text-align: right;\n",
              "    }\n",
              "</style>\n",
              "<table border=\"1\" class=\"dataframe\">\n",
              "  <thead>\n",
              "    <tr style=\"text-align: right;\">\n",
              "      <th></th>\n",
              "      <th>date</th>\n",
              "      <th>dcoilwtico</th>\n",
              "    </tr>\n",
              "  </thead>\n",
              "  <tbody>\n",
              "    <tr>\n",
              "      <th>320</th>\n",
              "      <td>2014-03-25</td>\n",
              "      <td>99.66</td>\n",
              "    </tr>\n",
              "    <tr>\n",
              "      <th>818</th>\n",
              "      <td>2016-02-19</td>\n",
              "      <td>29.59</td>\n",
              "    </tr>\n",
              "    <tr>\n",
              "      <th>864</th>\n",
              "      <td>2016-04-25</td>\n",
              "      <td>41.67</td>\n",
              "    </tr>\n",
              "    <tr>\n",
              "      <th>63</th>\n",
              "      <td>2013-03-29</td>\n",
              "      <td>NaN</td>\n",
              "    </tr>\n",
              "    <tr>\n",
              "      <th>636</th>\n",
              "      <td>2015-06-10</td>\n",
              "      <td>61.36</td>\n",
              "    </tr>\n",
              "    <tr>\n",
              "      <th>1083</th>\n",
              "      <td>2017-02-24</td>\n",
              "      <td>53.99</td>\n",
              "    </tr>\n",
              "    <tr>\n",
              "      <th>1012</th>\n",
              "      <td>2016-11-17</td>\n",
              "      <td>45.37</td>\n",
              "    </tr>\n",
              "    <tr>\n",
              "      <th>998</th>\n",
              "      <td>2016-10-28</td>\n",
              "      <td>48.72</td>\n",
              "    </tr>\n",
              "    <tr>\n",
              "      <th>924</th>\n",
              "      <td>2016-07-18</td>\n",
              "      <td>45.23</td>\n",
              "    </tr>\n",
              "    <tr>\n",
              "      <th>879</th>\n",
              "      <td>2016-05-16</td>\n",
              "      <td>47.72</td>\n",
              "    </tr>\n",
              "  </tbody>\n",
              "</table>\n",
              "</div>\n",
              "      <button class=\"colab-df-convert\" onclick=\"convertToInteractive('df-95c59189-1a8a-4edd-98a3-0b8b6e4628e9')\"\n",
              "              title=\"Convert this dataframe to an interactive table.\"\n",
              "              style=\"display:none;\">\n",
              "        \n",
              "  <svg xmlns=\"http://www.w3.org/2000/svg\" height=\"24px\"viewBox=\"0 0 24 24\"\n",
              "       width=\"24px\">\n",
              "    <path d=\"M0 0h24v24H0V0z\" fill=\"none\"/>\n",
              "    <path d=\"M18.56 5.44l.94 2.06.94-2.06 2.06-.94-2.06-.94-.94-2.06-.94 2.06-2.06.94zm-11 1L8.5 8.5l.94-2.06 2.06-.94-2.06-.94L8.5 2.5l-.94 2.06-2.06.94zm10 10l.94 2.06.94-2.06 2.06-.94-2.06-.94-.94-2.06-.94 2.06-2.06.94z\"/><path d=\"M17.41 7.96l-1.37-1.37c-.4-.4-.92-.59-1.43-.59-.52 0-1.04.2-1.43.59L10.3 9.45l-7.72 7.72c-.78.78-.78 2.05 0 2.83L4 21.41c.39.39.9.59 1.41.59.51 0 1.02-.2 1.41-.59l7.78-7.78 2.81-2.81c.8-.78.8-2.07 0-2.86zM5.41 20L4 18.59l7.72-7.72 1.47 1.35L5.41 20z\"/>\n",
              "  </svg>\n",
              "      </button>\n",
              "      \n",
              "  <style>\n",
              "    .colab-df-container {\n",
              "      display:flex;\n",
              "      flex-wrap:wrap;\n",
              "      gap: 12px;\n",
              "    }\n",
              "\n",
              "    .colab-df-convert {\n",
              "      background-color: #E8F0FE;\n",
              "      border: none;\n",
              "      border-radius: 50%;\n",
              "      cursor: pointer;\n",
              "      display: none;\n",
              "      fill: #1967D2;\n",
              "      height: 32px;\n",
              "      padding: 0 0 0 0;\n",
              "      width: 32px;\n",
              "    }\n",
              "\n",
              "    .colab-df-convert:hover {\n",
              "      background-color: #E2EBFA;\n",
              "      box-shadow: 0px 1px 2px rgba(60, 64, 67, 0.3), 0px 1px 3px 1px rgba(60, 64, 67, 0.15);\n",
              "      fill: #174EA6;\n",
              "    }\n",
              "\n",
              "    [theme=dark] .colab-df-convert {\n",
              "      background-color: #3B4455;\n",
              "      fill: #D2E3FC;\n",
              "    }\n",
              "\n",
              "    [theme=dark] .colab-df-convert:hover {\n",
              "      background-color: #434B5C;\n",
              "      box-shadow: 0px 1px 3px 1px rgba(0, 0, 0, 0.15);\n",
              "      filter: drop-shadow(0px 1px 2px rgba(0, 0, 0, 0.3));\n",
              "      fill: #FFFFFF;\n",
              "    }\n",
              "  </style>\n",
              "\n",
              "      <script>\n",
              "        const buttonEl =\n",
              "          document.querySelector('#df-95c59189-1a8a-4edd-98a3-0b8b6e4628e9 button.colab-df-convert');\n",
              "        buttonEl.style.display =\n",
              "          google.colab.kernel.accessAllowed ? 'block' : 'none';\n",
              "\n",
              "        async function convertToInteractive(key) {\n",
              "          const element = document.querySelector('#df-95c59189-1a8a-4edd-98a3-0b8b6e4628e9');\n",
              "          const dataTable =\n",
              "            await google.colab.kernel.invokeFunction('convertToInteractive',\n",
              "                                                     [key], {});\n",
              "          if (!dataTable) return;\n",
              "\n",
              "          const docLinkHtml = 'Like what you see? Visit the ' +\n",
              "            '<a target=\"_blank\" href=https://colab.research.google.com/notebooks/data_table.ipynb>data table notebook</a>'\n",
              "            + ' to learn more about interactive tables.';\n",
              "          element.innerHTML = '';\n",
              "          dataTable['output_type'] = 'display_data';\n",
              "          await google.colab.output.renderOutput(dataTable, element);\n",
              "          const docLink = document.createElement('div');\n",
              "          docLink.innerHTML = docLinkHtml;\n",
              "          element.appendChild(docLink);\n",
              "        }\n",
              "      </script>\n",
              "    </div>\n",
              "  </div>\n",
              "  "
            ]
          },
          "metadata": {},
          "execution_count": 7
        }
      ]
    },
    {
      "cell_type": "code",
      "source": [
        "auth.authenticate_user()\n",
        "gauth = GoogleAuth()\n",
        "gauth.credentials = GoogleCredentials.get_application_default()\n",
        "drive = GoogleDrive(gauth)\n",
        "file_id = '1xS_VD0EFozxhX0ZbiJbCni7QOoWlhNTJ'\n",
        "downloaded = drive.CreateFile({'id': file_id})\n",
        "\n",
        "\n",
        "\n",
        "downloaded.GetContentFile('holidays.csv')\n",
        "\n",
        "holidays_df = pd.read_csv(\"holidays.csv\")\n",
        "holidays_df.sample(10)"
      ],
      "metadata": {
        "colab": {
          "base_uri": "https://localhost:8080/",
          "height": 363
        },
        "id": "j56MOY1fnQX-",
        "outputId": "03f779da-4a32-49a2-8fa4-3364d1248a8b"
      },
      "id": "j56MOY1fnQX-",
      "execution_count": 8,
      "outputs": [
        {
          "output_type": "execute_result",
          "data": {
            "text/plain": [
              "           date        type    locale locale_name                 description  \\\n",
              "18   2012-10-07     Holiday     Local     Quevedo    Cantonizacion de Quevedo   \n",
              "153  2014-12-23  Additional  National     Ecuador                   Navidad-2   \n",
              "206  2015-12-23  Additional  National     Ecuador                   Navidad-2   \n",
              "222  2016-04-19       Event  National     Ecuador          Terremoto Manabi+3   \n",
              "135  2014-10-09     Holiday  National     Ecuador  Independencia de Guayaquil   \n",
              "224  2016-04-21     Holiday     Local    Riobamba   Cantonizacion de Riobamba   \n",
              "239  2016-05-04       Event  National     Ecuador         Terremoto Manabi+18   \n",
              "191  2015-11-02     Holiday  National     Ecuador             Dia de Difuntos   \n",
              "97   2014-04-12     Holiday     Local      Cuenca         Fundacion de Cuenca   \n",
              "221  2016-04-18       Event  National     Ecuador          Terremoto Manabi+2   \n",
              "\n",
              "     transferred  \n",
              "18         False  \n",
              "153        False  \n",
              "206        False  \n",
              "222        False  \n",
              "135         True  \n",
              "224        False  \n",
              "239        False  \n",
              "191        False  \n",
              "97         False  \n",
              "221        False  "
            ],
            "text/html": [
              "\n",
              "  <div id=\"df-cda47cd5-024d-4547-b25b-5494bf36fcf2\">\n",
              "    <div class=\"colab-df-container\">\n",
              "      <div>\n",
              "<style scoped>\n",
              "    .dataframe tbody tr th:only-of-type {\n",
              "        vertical-align: middle;\n",
              "    }\n",
              "\n",
              "    .dataframe tbody tr th {\n",
              "        vertical-align: top;\n",
              "    }\n",
              "\n",
              "    .dataframe thead th {\n",
              "        text-align: right;\n",
              "    }\n",
              "</style>\n",
              "<table border=\"1\" class=\"dataframe\">\n",
              "  <thead>\n",
              "    <tr style=\"text-align: right;\">\n",
              "      <th></th>\n",
              "      <th>date</th>\n",
              "      <th>type</th>\n",
              "      <th>locale</th>\n",
              "      <th>locale_name</th>\n",
              "      <th>description</th>\n",
              "      <th>transferred</th>\n",
              "    </tr>\n",
              "  </thead>\n",
              "  <tbody>\n",
              "    <tr>\n",
              "      <th>18</th>\n",
              "      <td>2012-10-07</td>\n",
              "      <td>Holiday</td>\n",
              "      <td>Local</td>\n",
              "      <td>Quevedo</td>\n",
              "      <td>Cantonizacion de Quevedo</td>\n",
              "      <td>False</td>\n",
              "    </tr>\n",
              "    <tr>\n",
              "      <th>153</th>\n",
              "      <td>2014-12-23</td>\n",
              "      <td>Additional</td>\n",
              "      <td>National</td>\n",
              "      <td>Ecuador</td>\n",
              "      <td>Navidad-2</td>\n",
              "      <td>False</td>\n",
              "    </tr>\n",
              "    <tr>\n",
              "      <th>206</th>\n",
              "      <td>2015-12-23</td>\n",
              "      <td>Additional</td>\n",
              "      <td>National</td>\n",
              "      <td>Ecuador</td>\n",
              "      <td>Navidad-2</td>\n",
              "      <td>False</td>\n",
              "    </tr>\n",
              "    <tr>\n",
              "      <th>222</th>\n",
              "      <td>2016-04-19</td>\n",
              "      <td>Event</td>\n",
              "      <td>National</td>\n",
              "      <td>Ecuador</td>\n",
              "      <td>Terremoto Manabi+3</td>\n",
              "      <td>False</td>\n",
              "    </tr>\n",
              "    <tr>\n",
              "      <th>135</th>\n",
              "      <td>2014-10-09</td>\n",
              "      <td>Holiday</td>\n",
              "      <td>National</td>\n",
              "      <td>Ecuador</td>\n",
              "      <td>Independencia de Guayaquil</td>\n",
              "      <td>True</td>\n",
              "    </tr>\n",
              "    <tr>\n",
              "      <th>224</th>\n",
              "      <td>2016-04-21</td>\n",
              "      <td>Holiday</td>\n",
              "      <td>Local</td>\n",
              "      <td>Riobamba</td>\n",
              "      <td>Cantonizacion de Riobamba</td>\n",
              "      <td>False</td>\n",
              "    </tr>\n",
              "    <tr>\n",
              "      <th>239</th>\n",
              "      <td>2016-05-04</td>\n",
              "      <td>Event</td>\n",
              "      <td>National</td>\n",
              "      <td>Ecuador</td>\n",
              "      <td>Terremoto Manabi+18</td>\n",
              "      <td>False</td>\n",
              "    </tr>\n",
              "    <tr>\n",
              "      <th>191</th>\n",
              "      <td>2015-11-02</td>\n",
              "      <td>Holiday</td>\n",
              "      <td>National</td>\n",
              "      <td>Ecuador</td>\n",
              "      <td>Dia de Difuntos</td>\n",
              "      <td>False</td>\n",
              "    </tr>\n",
              "    <tr>\n",
              "      <th>97</th>\n",
              "      <td>2014-04-12</td>\n",
              "      <td>Holiday</td>\n",
              "      <td>Local</td>\n",
              "      <td>Cuenca</td>\n",
              "      <td>Fundacion de Cuenca</td>\n",
              "      <td>False</td>\n",
              "    </tr>\n",
              "    <tr>\n",
              "      <th>221</th>\n",
              "      <td>2016-04-18</td>\n",
              "      <td>Event</td>\n",
              "      <td>National</td>\n",
              "      <td>Ecuador</td>\n",
              "      <td>Terremoto Manabi+2</td>\n",
              "      <td>False</td>\n",
              "    </tr>\n",
              "  </tbody>\n",
              "</table>\n",
              "</div>\n",
              "      <button class=\"colab-df-convert\" onclick=\"convertToInteractive('df-cda47cd5-024d-4547-b25b-5494bf36fcf2')\"\n",
              "              title=\"Convert this dataframe to an interactive table.\"\n",
              "              style=\"display:none;\">\n",
              "        \n",
              "  <svg xmlns=\"http://www.w3.org/2000/svg\" height=\"24px\"viewBox=\"0 0 24 24\"\n",
              "       width=\"24px\">\n",
              "    <path d=\"M0 0h24v24H0V0z\" fill=\"none\"/>\n",
              "    <path d=\"M18.56 5.44l.94 2.06.94-2.06 2.06-.94-2.06-.94-.94-2.06-.94 2.06-2.06.94zm-11 1L8.5 8.5l.94-2.06 2.06-.94-2.06-.94L8.5 2.5l-.94 2.06-2.06.94zm10 10l.94 2.06.94-2.06 2.06-.94-2.06-.94-.94-2.06-.94 2.06-2.06.94z\"/><path d=\"M17.41 7.96l-1.37-1.37c-.4-.4-.92-.59-1.43-.59-.52 0-1.04.2-1.43.59L10.3 9.45l-7.72 7.72c-.78.78-.78 2.05 0 2.83L4 21.41c.39.39.9.59 1.41.59.51 0 1.02-.2 1.41-.59l7.78-7.78 2.81-2.81c.8-.78.8-2.07 0-2.86zM5.41 20L4 18.59l7.72-7.72 1.47 1.35L5.41 20z\"/>\n",
              "  </svg>\n",
              "      </button>\n",
              "      \n",
              "  <style>\n",
              "    .colab-df-container {\n",
              "      display:flex;\n",
              "      flex-wrap:wrap;\n",
              "      gap: 12px;\n",
              "    }\n",
              "\n",
              "    .colab-df-convert {\n",
              "      background-color: #E8F0FE;\n",
              "      border: none;\n",
              "      border-radius: 50%;\n",
              "      cursor: pointer;\n",
              "      display: none;\n",
              "      fill: #1967D2;\n",
              "      height: 32px;\n",
              "      padding: 0 0 0 0;\n",
              "      width: 32px;\n",
              "    }\n",
              "\n",
              "    .colab-df-convert:hover {\n",
              "      background-color: #E2EBFA;\n",
              "      box-shadow: 0px 1px 2px rgba(60, 64, 67, 0.3), 0px 1px 3px 1px rgba(60, 64, 67, 0.15);\n",
              "      fill: #174EA6;\n",
              "    }\n",
              "\n",
              "    [theme=dark] .colab-df-convert {\n",
              "      background-color: #3B4455;\n",
              "      fill: #D2E3FC;\n",
              "    }\n",
              "\n",
              "    [theme=dark] .colab-df-convert:hover {\n",
              "      background-color: #434B5C;\n",
              "      box-shadow: 0px 1px 3px 1px rgba(0, 0, 0, 0.15);\n",
              "      filter: drop-shadow(0px 1px 2px rgba(0, 0, 0, 0.3));\n",
              "      fill: #FFFFFF;\n",
              "    }\n",
              "  </style>\n",
              "\n",
              "      <script>\n",
              "        const buttonEl =\n",
              "          document.querySelector('#df-cda47cd5-024d-4547-b25b-5494bf36fcf2 button.colab-df-convert');\n",
              "        buttonEl.style.display =\n",
              "          google.colab.kernel.accessAllowed ? 'block' : 'none';\n",
              "\n",
              "        async function convertToInteractive(key) {\n",
              "          const element = document.querySelector('#df-cda47cd5-024d-4547-b25b-5494bf36fcf2');\n",
              "          const dataTable =\n",
              "            await google.colab.kernel.invokeFunction('convertToInteractive',\n",
              "                                                     [key], {});\n",
              "          if (!dataTable) return;\n",
              "\n",
              "          const docLinkHtml = 'Like what you see? Visit the ' +\n",
              "            '<a target=\"_blank\" href=https://colab.research.google.com/notebooks/data_table.ipynb>data table notebook</a>'\n",
              "            + ' to learn more about interactive tables.';\n",
              "          element.innerHTML = '';\n",
              "          dataTable['output_type'] = 'display_data';\n",
              "          await google.colab.output.renderOutput(dataTable, element);\n",
              "          const docLink = document.createElement('div');\n",
              "          docLink.innerHTML = docLinkHtml;\n",
              "          element.appendChild(docLink);\n",
              "        }\n",
              "      </script>\n",
              "    </div>\n",
              "  </div>\n",
              "  "
            ]
          },
          "metadata": {},
          "execution_count": 8
        }
      ]
    },
    {
      "cell_type": "code",
      "source": [
        "auth.authenticate_user()\n",
        "gauth = GoogleAuth()\n",
        "gauth.credentials = GoogleCredentials.get_application_default()\n",
        "drive = GoogleDrive(gauth)\n",
        "file_id = '1e4qy8h6263rGqy0cq6AXAnnW-PLdzxeq'\n",
        "downloaded = drive.CreateFile({'id': file_id})\n",
        "\n",
        "\n",
        "\n",
        "downloaded.GetContentFile('stores.csv')\n",
        "\n",
        "stores_df = pd.read_csv(\"stores.csv\")\n",
        "stores_df.sample(10)"
      ],
      "metadata": {
        "colab": {
          "base_uri": "https://localhost:8080/",
          "height": 363
        },
        "id": "ZvCbm61Anp3w",
        "outputId": "e41e6263-784e-4fdf-a10a-ee7a7da692a5"
      },
      "id": "ZvCbm61Anp3w",
      "execution_count": 9,
      "outputs": [
        {
          "output_type": "execute_result",
          "data": {
            "text/plain": [
              "    store_nbr        city       state type  cluster\n",
              "38         39      Cuenca       Azuay    B        6\n",
              "22         23      Ambato  Tungurahua    D        9\n",
              "44         45       Quito   Pichincha    A       11\n",
              "16         17       Quito   Pichincha    C       12\n",
              "43         44       Quito   Pichincha    A        5\n",
              "32         33     Quevedo    Los Rios    C        3\n",
              "28         29   Guayaquil      Guayas    E       10\n",
              "42         43  Esmeraldas  Esmeraldas    E       10\n",
              "29         30   Guayaquil      Guayas    C        3\n",
              "5           6       Quito   Pichincha    D       13"
            ],
            "text/html": [
              "\n",
              "  <div id=\"df-cf0622dd-afbe-4d72-94f3-2a0f4ae01a1a\">\n",
              "    <div class=\"colab-df-container\">\n",
              "      <div>\n",
              "<style scoped>\n",
              "    .dataframe tbody tr th:only-of-type {\n",
              "        vertical-align: middle;\n",
              "    }\n",
              "\n",
              "    .dataframe tbody tr th {\n",
              "        vertical-align: top;\n",
              "    }\n",
              "\n",
              "    .dataframe thead th {\n",
              "        text-align: right;\n",
              "    }\n",
              "</style>\n",
              "<table border=\"1\" class=\"dataframe\">\n",
              "  <thead>\n",
              "    <tr style=\"text-align: right;\">\n",
              "      <th></th>\n",
              "      <th>store_nbr</th>\n",
              "      <th>city</th>\n",
              "      <th>state</th>\n",
              "      <th>type</th>\n",
              "      <th>cluster</th>\n",
              "    </tr>\n",
              "  </thead>\n",
              "  <tbody>\n",
              "    <tr>\n",
              "      <th>38</th>\n",
              "      <td>39</td>\n",
              "      <td>Cuenca</td>\n",
              "      <td>Azuay</td>\n",
              "      <td>B</td>\n",
              "      <td>6</td>\n",
              "    </tr>\n",
              "    <tr>\n",
              "      <th>22</th>\n",
              "      <td>23</td>\n",
              "      <td>Ambato</td>\n",
              "      <td>Tungurahua</td>\n",
              "      <td>D</td>\n",
              "      <td>9</td>\n",
              "    </tr>\n",
              "    <tr>\n",
              "      <th>44</th>\n",
              "      <td>45</td>\n",
              "      <td>Quito</td>\n",
              "      <td>Pichincha</td>\n",
              "      <td>A</td>\n",
              "      <td>11</td>\n",
              "    </tr>\n",
              "    <tr>\n",
              "      <th>16</th>\n",
              "      <td>17</td>\n",
              "      <td>Quito</td>\n",
              "      <td>Pichincha</td>\n",
              "      <td>C</td>\n",
              "      <td>12</td>\n",
              "    </tr>\n",
              "    <tr>\n",
              "      <th>43</th>\n",
              "      <td>44</td>\n",
              "      <td>Quito</td>\n",
              "      <td>Pichincha</td>\n",
              "      <td>A</td>\n",
              "      <td>5</td>\n",
              "    </tr>\n",
              "    <tr>\n",
              "      <th>32</th>\n",
              "      <td>33</td>\n",
              "      <td>Quevedo</td>\n",
              "      <td>Los Rios</td>\n",
              "      <td>C</td>\n",
              "      <td>3</td>\n",
              "    </tr>\n",
              "    <tr>\n",
              "      <th>28</th>\n",
              "      <td>29</td>\n",
              "      <td>Guayaquil</td>\n",
              "      <td>Guayas</td>\n",
              "      <td>E</td>\n",
              "      <td>10</td>\n",
              "    </tr>\n",
              "    <tr>\n",
              "      <th>42</th>\n",
              "      <td>43</td>\n",
              "      <td>Esmeraldas</td>\n",
              "      <td>Esmeraldas</td>\n",
              "      <td>E</td>\n",
              "      <td>10</td>\n",
              "    </tr>\n",
              "    <tr>\n",
              "      <th>29</th>\n",
              "      <td>30</td>\n",
              "      <td>Guayaquil</td>\n",
              "      <td>Guayas</td>\n",
              "      <td>C</td>\n",
              "      <td>3</td>\n",
              "    </tr>\n",
              "    <tr>\n",
              "      <th>5</th>\n",
              "      <td>6</td>\n",
              "      <td>Quito</td>\n",
              "      <td>Pichincha</td>\n",
              "      <td>D</td>\n",
              "      <td>13</td>\n",
              "    </tr>\n",
              "  </tbody>\n",
              "</table>\n",
              "</div>\n",
              "      <button class=\"colab-df-convert\" onclick=\"convertToInteractive('df-cf0622dd-afbe-4d72-94f3-2a0f4ae01a1a')\"\n",
              "              title=\"Convert this dataframe to an interactive table.\"\n",
              "              style=\"display:none;\">\n",
              "        \n",
              "  <svg xmlns=\"http://www.w3.org/2000/svg\" height=\"24px\"viewBox=\"0 0 24 24\"\n",
              "       width=\"24px\">\n",
              "    <path d=\"M0 0h24v24H0V0z\" fill=\"none\"/>\n",
              "    <path d=\"M18.56 5.44l.94 2.06.94-2.06 2.06-.94-2.06-.94-.94-2.06-.94 2.06-2.06.94zm-11 1L8.5 8.5l.94-2.06 2.06-.94-2.06-.94L8.5 2.5l-.94 2.06-2.06.94zm10 10l.94 2.06.94-2.06 2.06-.94-2.06-.94-.94-2.06-.94 2.06-2.06.94z\"/><path d=\"M17.41 7.96l-1.37-1.37c-.4-.4-.92-.59-1.43-.59-.52 0-1.04.2-1.43.59L10.3 9.45l-7.72 7.72c-.78.78-.78 2.05 0 2.83L4 21.41c.39.39.9.59 1.41.59.51 0 1.02-.2 1.41-.59l7.78-7.78 2.81-2.81c.8-.78.8-2.07 0-2.86zM5.41 20L4 18.59l7.72-7.72 1.47 1.35L5.41 20z\"/>\n",
              "  </svg>\n",
              "      </button>\n",
              "      \n",
              "  <style>\n",
              "    .colab-df-container {\n",
              "      display:flex;\n",
              "      flex-wrap:wrap;\n",
              "      gap: 12px;\n",
              "    }\n",
              "\n",
              "    .colab-df-convert {\n",
              "      background-color: #E8F0FE;\n",
              "      border: none;\n",
              "      border-radius: 50%;\n",
              "      cursor: pointer;\n",
              "      display: none;\n",
              "      fill: #1967D2;\n",
              "      height: 32px;\n",
              "      padding: 0 0 0 0;\n",
              "      width: 32px;\n",
              "    }\n",
              "\n",
              "    .colab-df-convert:hover {\n",
              "      background-color: #E2EBFA;\n",
              "      box-shadow: 0px 1px 2px rgba(60, 64, 67, 0.3), 0px 1px 3px 1px rgba(60, 64, 67, 0.15);\n",
              "      fill: #174EA6;\n",
              "    }\n",
              "\n",
              "    [theme=dark] .colab-df-convert {\n",
              "      background-color: #3B4455;\n",
              "      fill: #D2E3FC;\n",
              "    }\n",
              "\n",
              "    [theme=dark] .colab-df-convert:hover {\n",
              "      background-color: #434B5C;\n",
              "      box-shadow: 0px 1px 3px 1px rgba(0, 0, 0, 0.15);\n",
              "      filter: drop-shadow(0px 1px 2px rgba(0, 0, 0, 0.3));\n",
              "      fill: #FFFFFF;\n",
              "    }\n",
              "  </style>\n",
              "\n",
              "      <script>\n",
              "        const buttonEl =\n",
              "          document.querySelector('#df-cf0622dd-afbe-4d72-94f3-2a0f4ae01a1a button.colab-df-convert');\n",
              "        buttonEl.style.display =\n",
              "          google.colab.kernel.accessAllowed ? 'block' : 'none';\n",
              "\n",
              "        async function convertToInteractive(key) {\n",
              "          const element = document.querySelector('#df-cf0622dd-afbe-4d72-94f3-2a0f4ae01a1a');\n",
              "          const dataTable =\n",
              "            await google.colab.kernel.invokeFunction('convertToInteractive',\n",
              "                                                     [key], {});\n",
              "          if (!dataTable) return;\n",
              "\n",
              "          const docLinkHtml = 'Like what you see? Visit the ' +\n",
              "            '<a target=\"_blank\" href=https://colab.research.google.com/notebooks/data_table.ipynb>data table notebook</a>'\n",
              "            + ' to learn more about interactive tables.';\n",
              "          element.innerHTML = '';\n",
              "          dataTable['output_type'] = 'display_data';\n",
              "          await google.colab.output.renderOutput(dataTable, element);\n",
              "          const docLink = document.createElement('div');\n",
              "          docLink.innerHTML = docLinkHtml;\n",
              "          element.appendChild(docLink);\n",
              "        }\n",
              "      </script>\n",
              "    </div>\n",
              "  </div>\n",
              "  "
            ]
          },
          "metadata": {},
          "execution_count": 9
        }
      ]
    },
    {
      "cell_type": "markdown",
      "source": [
        "## Взглянем на данные"
      ],
      "metadata": {
        "id": "f8d8be56-ea04-4dd0-9960-4774556e155a"
      },
      "id": "f8d8be56-ea04-4dd0-9960-4774556e155a"
    },
    {
      "cell_type": "code",
      "source": [
        "train_df.head()"
      ],
      "metadata": {
        "papermill": {
          "duration": 0.058558,
          "end_time": "2023-05-19T11:06:45.136026",
          "exception": false,
          "start_time": "2023-05-19T11:06:45.077468",
          "status": "completed"
        },
        "pycharm": {
          "name": "#%%\n"
        },
        "tags": [],
        "trusted": true,
        "id": "9702ea70",
        "outputId": "a7696ed1-468b-4508-a456-822a04cd5def",
        "colab": {
          "base_uri": "https://localhost:8080/",
          "height": 206
        }
      },
      "execution_count": 10,
      "outputs": [
        {
          "output_type": "execute_result",
          "data": {
            "text/plain": [
              "   id        date  store_nbr      family  sales  onpromotion\n",
              "0   0  2013-01-01          1  AUTOMOTIVE    0.0            0\n",
              "1   1  2013-01-01          1   BABY CARE    0.0            0\n",
              "2   2  2013-01-01          1      BEAUTY    0.0            0\n",
              "3   3  2013-01-01          1   BEVERAGES    0.0            0\n",
              "4   4  2013-01-01          1       BOOKS    0.0            0"
            ],
            "text/html": [
              "\n",
              "  <div id=\"df-a83343d4-3ba9-4aeb-9a1c-86c3c277804a\">\n",
              "    <div class=\"colab-df-container\">\n",
              "      <div>\n",
              "<style scoped>\n",
              "    .dataframe tbody tr th:only-of-type {\n",
              "        vertical-align: middle;\n",
              "    }\n",
              "\n",
              "    .dataframe tbody tr th {\n",
              "        vertical-align: top;\n",
              "    }\n",
              "\n",
              "    .dataframe thead th {\n",
              "        text-align: right;\n",
              "    }\n",
              "</style>\n",
              "<table border=\"1\" class=\"dataframe\">\n",
              "  <thead>\n",
              "    <tr style=\"text-align: right;\">\n",
              "      <th></th>\n",
              "      <th>id</th>\n",
              "      <th>date</th>\n",
              "      <th>store_nbr</th>\n",
              "      <th>family</th>\n",
              "      <th>sales</th>\n",
              "      <th>onpromotion</th>\n",
              "    </tr>\n",
              "  </thead>\n",
              "  <tbody>\n",
              "    <tr>\n",
              "      <th>0</th>\n",
              "      <td>0</td>\n",
              "      <td>2013-01-01</td>\n",
              "      <td>1</td>\n",
              "      <td>AUTOMOTIVE</td>\n",
              "      <td>0.0</td>\n",
              "      <td>0</td>\n",
              "    </tr>\n",
              "    <tr>\n",
              "      <th>1</th>\n",
              "      <td>1</td>\n",
              "      <td>2013-01-01</td>\n",
              "      <td>1</td>\n",
              "      <td>BABY CARE</td>\n",
              "      <td>0.0</td>\n",
              "      <td>0</td>\n",
              "    </tr>\n",
              "    <tr>\n",
              "      <th>2</th>\n",
              "      <td>2</td>\n",
              "      <td>2013-01-01</td>\n",
              "      <td>1</td>\n",
              "      <td>BEAUTY</td>\n",
              "      <td>0.0</td>\n",
              "      <td>0</td>\n",
              "    </tr>\n",
              "    <tr>\n",
              "      <th>3</th>\n",
              "      <td>3</td>\n",
              "      <td>2013-01-01</td>\n",
              "      <td>1</td>\n",
              "      <td>BEVERAGES</td>\n",
              "      <td>0.0</td>\n",
              "      <td>0</td>\n",
              "    </tr>\n",
              "    <tr>\n",
              "      <th>4</th>\n",
              "      <td>4</td>\n",
              "      <td>2013-01-01</td>\n",
              "      <td>1</td>\n",
              "      <td>BOOKS</td>\n",
              "      <td>0.0</td>\n",
              "      <td>0</td>\n",
              "    </tr>\n",
              "  </tbody>\n",
              "</table>\n",
              "</div>\n",
              "      <button class=\"colab-df-convert\" onclick=\"convertToInteractive('df-a83343d4-3ba9-4aeb-9a1c-86c3c277804a')\"\n",
              "              title=\"Convert this dataframe to an interactive table.\"\n",
              "              style=\"display:none;\">\n",
              "        \n",
              "  <svg xmlns=\"http://www.w3.org/2000/svg\" height=\"24px\"viewBox=\"0 0 24 24\"\n",
              "       width=\"24px\">\n",
              "    <path d=\"M0 0h24v24H0V0z\" fill=\"none\"/>\n",
              "    <path d=\"M18.56 5.44l.94 2.06.94-2.06 2.06-.94-2.06-.94-.94-2.06-.94 2.06-2.06.94zm-11 1L8.5 8.5l.94-2.06 2.06-.94-2.06-.94L8.5 2.5l-.94 2.06-2.06.94zm10 10l.94 2.06.94-2.06 2.06-.94-2.06-.94-.94-2.06-.94 2.06-2.06.94z\"/><path d=\"M17.41 7.96l-1.37-1.37c-.4-.4-.92-.59-1.43-.59-.52 0-1.04.2-1.43.59L10.3 9.45l-7.72 7.72c-.78.78-.78 2.05 0 2.83L4 21.41c.39.39.9.59 1.41.59.51 0 1.02-.2 1.41-.59l7.78-7.78 2.81-2.81c.8-.78.8-2.07 0-2.86zM5.41 20L4 18.59l7.72-7.72 1.47 1.35L5.41 20z\"/>\n",
              "  </svg>\n",
              "      </button>\n",
              "      \n",
              "  <style>\n",
              "    .colab-df-container {\n",
              "      display:flex;\n",
              "      flex-wrap:wrap;\n",
              "      gap: 12px;\n",
              "    }\n",
              "\n",
              "    .colab-df-convert {\n",
              "      background-color: #E8F0FE;\n",
              "      border: none;\n",
              "      border-radius: 50%;\n",
              "      cursor: pointer;\n",
              "      display: none;\n",
              "      fill: #1967D2;\n",
              "      height: 32px;\n",
              "      padding: 0 0 0 0;\n",
              "      width: 32px;\n",
              "    }\n",
              "\n",
              "    .colab-df-convert:hover {\n",
              "      background-color: #E2EBFA;\n",
              "      box-shadow: 0px 1px 2px rgba(60, 64, 67, 0.3), 0px 1px 3px 1px rgba(60, 64, 67, 0.15);\n",
              "      fill: #174EA6;\n",
              "    }\n",
              "\n",
              "    [theme=dark] .colab-df-convert {\n",
              "      background-color: #3B4455;\n",
              "      fill: #D2E3FC;\n",
              "    }\n",
              "\n",
              "    [theme=dark] .colab-df-convert:hover {\n",
              "      background-color: #434B5C;\n",
              "      box-shadow: 0px 1px 3px 1px rgba(0, 0, 0, 0.15);\n",
              "      filter: drop-shadow(0px 1px 2px rgba(0, 0, 0, 0.3));\n",
              "      fill: #FFFFFF;\n",
              "    }\n",
              "  </style>\n",
              "\n",
              "      <script>\n",
              "        const buttonEl =\n",
              "          document.querySelector('#df-a83343d4-3ba9-4aeb-9a1c-86c3c277804a button.colab-df-convert');\n",
              "        buttonEl.style.display =\n",
              "          google.colab.kernel.accessAllowed ? 'block' : 'none';\n",
              "\n",
              "        async function convertToInteractive(key) {\n",
              "          const element = document.querySelector('#df-a83343d4-3ba9-4aeb-9a1c-86c3c277804a');\n",
              "          const dataTable =\n",
              "            await google.colab.kernel.invokeFunction('convertToInteractive',\n",
              "                                                     [key], {});\n",
              "          if (!dataTable) return;\n",
              "\n",
              "          const docLinkHtml = 'Like what you see? Visit the ' +\n",
              "            '<a target=\"_blank\" href=https://colab.research.google.com/notebooks/data_table.ipynb>data table notebook</a>'\n",
              "            + ' to learn more about interactive tables.';\n",
              "          element.innerHTML = '';\n",
              "          dataTable['output_type'] = 'display_data';\n",
              "          await google.colab.output.renderOutput(dataTable, element);\n",
              "          const docLink = document.createElement('div');\n",
              "          docLink.innerHTML = docLinkHtml;\n",
              "          element.appendChild(docLink);\n",
              "        }\n",
              "      </script>\n",
              "    </div>\n",
              "  </div>\n",
              "  "
            ]
          },
          "metadata": {},
          "execution_count": 10
        }
      ],
      "id": "9702ea70"
    },
    {
      "cell_type": "code",
      "source": [
        "oil_df.head()"
      ],
      "metadata": {
        "execution": {
          "iopub.execute_input": "2023-05-19T11:06:45.171806Z",
          "iopub.status.busy": "2023-05-19T11:06:45.171295Z",
          "iopub.status.idle": "2023-05-19T11:06:45.183746Z",
          "shell.execute_reply": "2023-05-19T11:06:45.182444Z"
        },
        "papermill": {
          "duration": 0.032823,
          "end_time": "2023-05-19T11:06:45.186377",
          "exception": false,
          "start_time": "2023-05-19T11:06:45.153554",
          "status": "completed"
        },
        "pycharm": {
          "name": "#%%\n"
        },
        "tags": [],
        "id": "6ad6f409",
        "outputId": "c9da6bee-09ed-4033-a85c-0d3bc546b910",
        "colab": {
          "base_uri": "https://localhost:8080/",
          "height": 206
        }
      },
      "execution_count": 11,
      "outputs": [
        {
          "output_type": "execute_result",
          "data": {
            "text/plain": [
              "         date  dcoilwtico\n",
              "0  2013-01-01         NaN\n",
              "1  2013-01-02       93.14\n",
              "2  2013-01-03       92.97\n",
              "3  2013-01-04       93.12\n",
              "4  2013-01-07       93.20"
            ],
            "text/html": [
              "\n",
              "  <div id=\"df-35fdaa67-8588-4ac4-b88b-d609d308a958\">\n",
              "    <div class=\"colab-df-container\">\n",
              "      <div>\n",
              "<style scoped>\n",
              "    .dataframe tbody tr th:only-of-type {\n",
              "        vertical-align: middle;\n",
              "    }\n",
              "\n",
              "    .dataframe tbody tr th {\n",
              "        vertical-align: top;\n",
              "    }\n",
              "\n",
              "    .dataframe thead th {\n",
              "        text-align: right;\n",
              "    }\n",
              "</style>\n",
              "<table border=\"1\" class=\"dataframe\">\n",
              "  <thead>\n",
              "    <tr style=\"text-align: right;\">\n",
              "      <th></th>\n",
              "      <th>date</th>\n",
              "      <th>dcoilwtico</th>\n",
              "    </tr>\n",
              "  </thead>\n",
              "  <tbody>\n",
              "    <tr>\n",
              "      <th>0</th>\n",
              "      <td>2013-01-01</td>\n",
              "      <td>NaN</td>\n",
              "    </tr>\n",
              "    <tr>\n",
              "      <th>1</th>\n",
              "      <td>2013-01-02</td>\n",
              "      <td>93.14</td>\n",
              "    </tr>\n",
              "    <tr>\n",
              "      <th>2</th>\n",
              "      <td>2013-01-03</td>\n",
              "      <td>92.97</td>\n",
              "    </tr>\n",
              "    <tr>\n",
              "      <th>3</th>\n",
              "      <td>2013-01-04</td>\n",
              "      <td>93.12</td>\n",
              "    </tr>\n",
              "    <tr>\n",
              "      <th>4</th>\n",
              "      <td>2013-01-07</td>\n",
              "      <td>93.20</td>\n",
              "    </tr>\n",
              "  </tbody>\n",
              "</table>\n",
              "</div>\n",
              "      <button class=\"colab-df-convert\" onclick=\"convertToInteractive('df-35fdaa67-8588-4ac4-b88b-d609d308a958')\"\n",
              "              title=\"Convert this dataframe to an interactive table.\"\n",
              "              style=\"display:none;\">\n",
              "        \n",
              "  <svg xmlns=\"http://www.w3.org/2000/svg\" height=\"24px\"viewBox=\"0 0 24 24\"\n",
              "       width=\"24px\">\n",
              "    <path d=\"M0 0h24v24H0V0z\" fill=\"none\"/>\n",
              "    <path d=\"M18.56 5.44l.94 2.06.94-2.06 2.06-.94-2.06-.94-.94-2.06-.94 2.06-2.06.94zm-11 1L8.5 8.5l.94-2.06 2.06-.94-2.06-.94L8.5 2.5l-.94 2.06-2.06.94zm10 10l.94 2.06.94-2.06 2.06-.94-2.06-.94-.94-2.06-.94 2.06-2.06.94z\"/><path d=\"M17.41 7.96l-1.37-1.37c-.4-.4-.92-.59-1.43-.59-.52 0-1.04.2-1.43.59L10.3 9.45l-7.72 7.72c-.78.78-.78 2.05 0 2.83L4 21.41c.39.39.9.59 1.41.59.51 0 1.02-.2 1.41-.59l7.78-7.78 2.81-2.81c.8-.78.8-2.07 0-2.86zM5.41 20L4 18.59l7.72-7.72 1.47 1.35L5.41 20z\"/>\n",
              "  </svg>\n",
              "      </button>\n",
              "      \n",
              "  <style>\n",
              "    .colab-df-container {\n",
              "      display:flex;\n",
              "      flex-wrap:wrap;\n",
              "      gap: 12px;\n",
              "    }\n",
              "\n",
              "    .colab-df-convert {\n",
              "      background-color: #E8F0FE;\n",
              "      border: none;\n",
              "      border-radius: 50%;\n",
              "      cursor: pointer;\n",
              "      display: none;\n",
              "      fill: #1967D2;\n",
              "      height: 32px;\n",
              "      padding: 0 0 0 0;\n",
              "      width: 32px;\n",
              "    }\n",
              "\n",
              "    .colab-df-convert:hover {\n",
              "      background-color: #E2EBFA;\n",
              "      box-shadow: 0px 1px 2px rgba(60, 64, 67, 0.3), 0px 1px 3px 1px rgba(60, 64, 67, 0.15);\n",
              "      fill: #174EA6;\n",
              "    }\n",
              "\n",
              "    [theme=dark] .colab-df-convert {\n",
              "      background-color: #3B4455;\n",
              "      fill: #D2E3FC;\n",
              "    }\n",
              "\n",
              "    [theme=dark] .colab-df-convert:hover {\n",
              "      background-color: #434B5C;\n",
              "      box-shadow: 0px 1px 3px 1px rgba(0, 0, 0, 0.15);\n",
              "      filter: drop-shadow(0px 1px 2px rgba(0, 0, 0, 0.3));\n",
              "      fill: #FFFFFF;\n",
              "    }\n",
              "  </style>\n",
              "\n",
              "      <script>\n",
              "        const buttonEl =\n",
              "          document.querySelector('#df-35fdaa67-8588-4ac4-b88b-d609d308a958 button.colab-df-convert');\n",
              "        buttonEl.style.display =\n",
              "          google.colab.kernel.accessAllowed ? 'block' : 'none';\n",
              "\n",
              "        async function convertToInteractive(key) {\n",
              "          const element = document.querySelector('#df-35fdaa67-8588-4ac4-b88b-d609d308a958');\n",
              "          const dataTable =\n",
              "            await google.colab.kernel.invokeFunction('convertToInteractive',\n",
              "                                                     [key], {});\n",
              "          if (!dataTable) return;\n",
              "\n",
              "          const docLinkHtml = 'Like what you see? Visit the ' +\n",
              "            '<a target=\"_blank\" href=https://colab.research.google.com/notebooks/data_table.ipynb>data table notebook</a>'\n",
              "            + ' to learn more about interactive tables.';\n",
              "          element.innerHTML = '';\n",
              "          dataTable['output_type'] = 'display_data';\n",
              "          await google.colab.output.renderOutput(dataTable, element);\n",
              "          const docLink = document.createElement('div');\n",
              "          docLink.innerHTML = docLinkHtml;\n",
              "          element.appendChild(docLink);\n",
              "        }\n",
              "      </script>\n",
              "    </div>\n",
              "  </div>\n",
              "  "
            ]
          },
          "metadata": {},
          "execution_count": 11
        }
      ],
      "id": "6ad6f409"
    },
    {
      "cell_type": "code",
      "source": [
        "stores_df.head()"
      ],
      "metadata": {
        "execution": {
          "iopub.execute_input": "2023-05-19T11:06:45.221244Z",
          "iopub.status.busy": "2023-05-19T11:06:45.220724Z",
          "iopub.status.idle": "2023-05-19T11:06:45.233577Z",
          "shell.execute_reply": "2023-05-19T11:06:45.232438Z"
        },
        "papermill": {
          "duration": 0.032844,
          "end_time": "2023-05-19T11:06:45.235943",
          "exception": false,
          "start_time": "2023-05-19T11:06:45.203099",
          "status": "completed"
        },
        "pycharm": {
          "name": "#%%\n"
        },
        "tags": [],
        "id": "874e921f",
        "outputId": "73846112-e8fc-4e1f-d68f-7147425bd5a5",
        "colab": {
          "base_uri": "https://localhost:8080/",
          "height": 206
        }
      },
      "execution_count": 12,
      "outputs": [
        {
          "output_type": "execute_result",
          "data": {
            "text/plain": [
              "   store_nbr           city                           state type  cluster\n",
              "0          1          Quito                       Pichincha    D       13\n",
              "1          2          Quito                       Pichincha    D       13\n",
              "2          3          Quito                       Pichincha    D        8\n",
              "3          4          Quito                       Pichincha    D        9\n",
              "4          5  Santo Domingo  Santo Domingo de los Tsachilas    D        4"
            ],
            "text/html": [
              "\n",
              "  <div id=\"df-3a8b7d9e-14e9-4a33-91ff-ab289be46a24\">\n",
              "    <div class=\"colab-df-container\">\n",
              "      <div>\n",
              "<style scoped>\n",
              "    .dataframe tbody tr th:only-of-type {\n",
              "        vertical-align: middle;\n",
              "    }\n",
              "\n",
              "    .dataframe tbody tr th {\n",
              "        vertical-align: top;\n",
              "    }\n",
              "\n",
              "    .dataframe thead th {\n",
              "        text-align: right;\n",
              "    }\n",
              "</style>\n",
              "<table border=\"1\" class=\"dataframe\">\n",
              "  <thead>\n",
              "    <tr style=\"text-align: right;\">\n",
              "      <th></th>\n",
              "      <th>store_nbr</th>\n",
              "      <th>city</th>\n",
              "      <th>state</th>\n",
              "      <th>type</th>\n",
              "      <th>cluster</th>\n",
              "    </tr>\n",
              "  </thead>\n",
              "  <tbody>\n",
              "    <tr>\n",
              "      <th>0</th>\n",
              "      <td>1</td>\n",
              "      <td>Quito</td>\n",
              "      <td>Pichincha</td>\n",
              "      <td>D</td>\n",
              "      <td>13</td>\n",
              "    </tr>\n",
              "    <tr>\n",
              "      <th>1</th>\n",
              "      <td>2</td>\n",
              "      <td>Quito</td>\n",
              "      <td>Pichincha</td>\n",
              "      <td>D</td>\n",
              "      <td>13</td>\n",
              "    </tr>\n",
              "    <tr>\n",
              "      <th>2</th>\n",
              "      <td>3</td>\n",
              "      <td>Quito</td>\n",
              "      <td>Pichincha</td>\n",
              "      <td>D</td>\n",
              "      <td>8</td>\n",
              "    </tr>\n",
              "    <tr>\n",
              "      <th>3</th>\n",
              "      <td>4</td>\n",
              "      <td>Quito</td>\n",
              "      <td>Pichincha</td>\n",
              "      <td>D</td>\n",
              "      <td>9</td>\n",
              "    </tr>\n",
              "    <tr>\n",
              "      <th>4</th>\n",
              "      <td>5</td>\n",
              "      <td>Santo Domingo</td>\n",
              "      <td>Santo Domingo de los Tsachilas</td>\n",
              "      <td>D</td>\n",
              "      <td>4</td>\n",
              "    </tr>\n",
              "  </tbody>\n",
              "</table>\n",
              "</div>\n",
              "      <button class=\"colab-df-convert\" onclick=\"convertToInteractive('df-3a8b7d9e-14e9-4a33-91ff-ab289be46a24')\"\n",
              "              title=\"Convert this dataframe to an interactive table.\"\n",
              "              style=\"display:none;\">\n",
              "        \n",
              "  <svg xmlns=\"http://www.w3.org/2000/svg\" height=\"24px\"viewBox=\"0 0 24 24\"\n",
              "       width=\"24px\">\n",
              "    <path d=\"M0 0h24v24H0V0z\" fill=\"none\"/>\n",
              "    <path d=\"M18.56 5.44l.94 2.06.94-2.06 2.06-.94-2.06-.94-.94-2.06-.94 2.06-2.06.94zm-11 1L8.5 8.5l.94-2.06 2.06-.94-2.06-.94L8.5 2.5l-.94 2.06-2.06.94zm10 10l.94 2.06.94-2.06 2.06-.94-2.06-.94-.94-2.06-.94 2.06-2.06.94z\"/><path d=\"M17.41 7.96l-1.37-1.37c-.4-.4-.92-.59-1.43-.59-.52 0-1.04.2-1.43.59L10.3 9.45l-7.72 7.72c-.78.78-.78 2.05 0 2.83L4 21.41c.39.39.9.59 1.41.59.51 0 1.02-.2 1.41-.59l7.78-7.78 2.81-2.81c.8-.78.8-2.07 0-2.86zM5.41 20L4 18.59l7.72-7.72 1.47 1.35L5.41 20z\"/>\n",
              "  </svg>\n",
              "      </button>\n",
              "      \n",
              "  <style>\n",
              "    .colab-df-container {\n",
              "      display:flex;\n",
              "      flex-wrap:wrap;\n",
              "      gap: 12px;\n",
              "    }\n",
              "\n",
              "    .colab-df-convert {\n",
              "      background-color: #E8F0FE;\n",
              "      border: none;\n",
              "      border-radius: 50%;\n",
              "      cursor: pointer;\n",
              "      display: none;\n",
              "      fill: #1967D2;\n",
              "      height: 32px;\n",
              "      padding: 0 0 0 0;\n",
              "      width: 32px;\n",
              "    }\n",
              "\n",
              "    .colab-df-convert:hover {\n",
              "      background-color: #E2EBFA;\n",
              "      box-shadow: 0px 1px 2px rgba(60, 64, 67, 0.3), 0px 1px 3px 1px rgba(60, 64, 67, 0.15);\n",
              "      fill: #174EA6;\n",
              "    }\n",
              "\n",
              "    [theme=dark] .colab-df-convert {\n",
              "      background-color: #3B4455;\n",
              "      fill: #D2E3FC;\n",
              "    }\n",
              "\n",
              "    [theme=dark] .colab-df-convert:hover {\n",
              "      background-color: #434B5C;\n",
              "      box-shadow: 0px 1px 3px 1px rgba(0, 0, 0, 0.15);\n",
              "      filter: drop-shadow(0px 1px 2px rgba(0, 0, 0, 0.3));\n",
              "      fill: #FFFFFF;\n",
              "    }\n",
              "  </style>\n",
              "\n",
              "      <script>\n",
              "        const buttonEl =\n",
              "          document.querySelector('#df-3a8b7d9e-14e9-4a33-91ff-ab289be46a24 button.colab-df-convert');\n",
              "        buttonEl.style.display =\n",
              "          google.colab.kernel.accessAllowed ? 'block' : 'none';\n",
              "\n",
              "        async function convertToInteractive(key) {\n",
              "          const element = document.querySelector('#df-3a8b7d9e-14e9-4a33-91ff-ab289be46a24');\n",
              "          const dataTable =\n",
              "            await google.colab.kernel.invokeFunction('convertToInteractive',\n",
              "                                                     [key], {});\n",
              "          if (!dataTable) return;\n",
              "\n",
              "          const docLinkHtml = 'Like what you see? Visit the ' +\n",
              "            '<a target=\"_blank\" href=https://colab.research.google.com/notebooks/data_table.ipynb>data table notebook</a>'\n",
              "            + ' to learn more about interactive tables.';\n",
              "          element.innerHTML = '';\n",
              "          dataTable['output_type'] = 'display_data';\n",
              "          await google.colab.output.renderOutput(dataTable, element);\n",
              "          const docLink = document.createElement('div');\n",
              "          docLink.innerHTML = docLinkHtml;\n",
              "          element.appendChild(docLink);\n",
              "        }\n",
              "      </script>\n",
              "    </div>\n",
              "  </div>\n",
              "  "
            ]
          },
          "metadata": {},
          "execution_count": 12
        }
      ],
      "id": "874e921f"
    },
    {
      "cell_type": "code",
      "source": [
        "holidays_df.head()"
      ],
      "metadata": {
        "execution": {
          "iopub.execute_input": "2023-05-19T11:06:45.271304Z",
          "iopub.status.busy": "2023-05-19T11:06:45.270050Z",
          "iopub.status.idle": "2023-05-19T11:06:45.284375Z",
          "shell.execute_reply": "2023-05-19T11:06:45.283101Z"
        },
        "papermill": {
          "duration": 0.035068,
          "end_time": "2023-05-19T11:06:45.287312",
          "exception": false,
          "start_time": "2023-05-19T11:06:45.252244",
          "status": "completed"
        },
        "pycharm": {
          "name": "#%%\n"
        },
        "tags": [],
        "id": "e07cc7f0",
        "outputId": "45744fc8-4af7-4a4c-cef0-6bf460230d00",
        "colab": {
          "base_uri": "https://localhost:8080/",
          "height": 206
        }
      },
      "execution_count": 13,
      "outputs": [
        {
          "output_type": "execute_result",
          "data": {
            "text/plain": [
              "         date     type    locale locale_name                    description  \\\n",
              "0  2012-03-02  Holiday     Local       Manta             Fundacion de Manta   \n",
              "1  2012-04-01  Holiday  Regional    Cotopaxi  Provincializacion de Cotopaxi   \n",
              "2  2012-04-12  Holiday     Local      Cuenca            Fundacion de Cuenca   \n",
              "3  2012-04-14  Holiday     Local    Libertad      Cantonizacion de Libertad   \n",
              "4  2012-04-21  Holiday     Local    Riobamba      Cantonizacion de Riobamba   \n",
              "\n",
              "   transferred  \n",
              "0        False  \n",
              "1        False  \n",
              "2        False  \n",
              "3        False  \n",
              "4        False  "
            ],
            "text/html": [
              "\n",
              "  <div id=\"df-419cc46e-f3f6-46b4-a162-ceae2fbaac0e\">\n",
              "    <div class=\"colab-df-container\">\n",
              "      <div>\n",
              "<style scoped>\n",
              "    .dataframe tbody tr th:only-of-type {\n",
              "        vertical-align: middle;\n",
              "    }\n",
              "\n",
              "    .dataframe tbody tr th {\n",
              "        vertical-align: top;\n",
              "    }\n",
              "\n",
              "    .dataframe thead th {\n",
              "        text-align: right;\n",
              "    }\n",
              "</style>\n",
              "<table border=\"1\" class=\"dataframe\">\n",
              "  <thead>\n",
              "    <tr style=\"text-align: right;\">\n",
              "      <th></th>\n",
              "      <th>date</th>\n",
              "      <th>type</th>\n",
              "      <th>locale</th>\n",
              "      <th>locale_name</th>\n",
              "      <th>description</th>\n",
              "      <th>transferred</th>\n",
              "    </tr>\n",
              "  </thead>\n",
              "  <tbody>\n",
              "    <tr>\n",
              "      <th>0</th>\n",
              "      <td>2012-03-02</td>\n",
              "      <td>Holiday</td>\n",
              "      <td>Local</td>\n",
              "      <td>Manta</td>\n",
              "      <td>Fundacion de Manta</td>\n",
              "      <td>False</td>\n",
              "    </tr>\n",
              "    <tr>\n",
              "      <th>1</th>\n",
              "      <td>2012-04-01</td>\n",
              "      <td>Holiday</td>\n",
              "      <td>Regional</td>\n",
              "      <td>Cotopaxi</td>\n",
              "      <td>Provincializacion de Cotopaxi</td>\n",
              "      <td>False</td>\n",
              "    </tr>\n",
              "    <tr>\n",
              "      <th>2</th>\n",
              "      <td>2012-04-12</td>\n",
              "      <td>Holiday</td>\n",
              "      <td>Local</td>\n",
              "      <td>Cuenca</td>\n",
              "      <td>Fundacion de Cuenca</td>\n",
              "      <td>False</td>\n",
              "    </tr>\n",
              "    <tr>\n",
              "      <th>3</th>\n",
              "      <td>2012-04-14</td>\n",
              "      <td>Holiday</td>\n",
              "      <td>Local</td>\n",
              "      <td>Libertad</td>\n",
              "      <td>Cantonizacion de Libertad</td>\n",
              "      <td>False</td>\n",
              "    </tr>\n",
              "    <tr>\n",
              "      <th>4</th>\n",
              "      <td>2012-04-21</td>\n",
              "      <td>Holiday</td>\n",
              "      <td>Local</td>\n",
              "      <td>Riobamba</td>\n",
              "      <td>Cantonizacion de Riobamba</td>\n",
              "      <td>False</td>\n",
              "    </tr>\n",
              "  </tbody>\n",
              "</table>\n",
              "</div>\n",
              "      <button class=\"colab-df-convert\" onclick=\"convertToInteractive('df-419cc46e-f3f6-46b4-a162-ceae2fbaac0e')\"\n",
              "              title=\"Convert this dataframe to an interactive table.\"\n",
              "              style=\"display:none;\">\n",
              "        \n",
              "  <svg xmlns=\"http://www.w3.org/2000/svg\" height=\"24px\"viewBox=\"0 0 24 24\"\n",
              "       width=\"24px\">\n",
              "    <path d=\"M0 0h24v24H0V0z\" fill=\"none\"/>\n",
              "    <path d=\"M18.56 5.44l.94 2.06.94-2.06 2.06-.94-2.06-.94-.94-2.06-.94 2.06-2.06.94zm-11 1L8.5 8.5l.94-2.06 2.06-.94-2.06-.94L8.5 2.5l-.94 2.06-2.06.94zm10 10l.94 2.06.94-2.06 2.06-.94-2.06-.94-.94-2.06-.94 2.06-2.06.94z\"/><path d=\"M17.41 7.96l-1.37-1.37c-.4-.4-.92-.59-1.43-.59-.52 0-1.04.2-1.43.59L10.3 9.45l-7.72 7.72c-.78.78-.78 2.05 0 2.83L4 21.41c.39.39.9.59 1.41.59.51 0 1.02-.2 1.41-.59l7.78-7.78 2.81-2.81c.8-.78.8-2.07 0-2.86zM5.41 20L4 18.59l7.72-7.72 1.47 1.35L5.41 20z\"/>\n",
              "  </svg>\n",
              "      </button>\n",
              "      \n",
              "  <style>\n",
              "    .colab-df-container {\n",
              "      display:flex;\n",
              "      flex-wrap:wrap;\n",
              "      gap: 12px;\n",
              "    }\n",
              "\n",
              "    .colab-df-convert {\n",
              "      background-color: #E8F0FE;\n",
              "      border: none;\n",
              "      border-radius: 50%;\n",
              "      cursor: pointer;\n",
              "      display: none;\n",
              "      fill: #1967D2;\n",
              "      height: 32px;\n",
              "      padding: 0 0 0 0;\n",
              "      width: 32px;\n",
              "    }\n",
              "\n",
              "    .colab-df-convert:hover {\n",
              "      background-color: #E2EBFA;\n",
              "      box-shadow: 0px 1px 2px rgba(60, 64, 67, 0.3), 0px 1px 3px 1px rgba(60, 64, 67, 0.15);\n",
              "      fill: #174EA6;\n",
              "    }\n",
              "\n",
              "    [theme=dark] .colab-df-convert {\n",
              "      background-color: #3B4455;\n",
              "      fill: #D2E3FC;\n",
              "    }\n",
              "\n",
              "    [theme=dark] .colab-df-convert:hover {\n",
              "      background-color: #434B5C;\n",
              "      box-shadow: 0px 1px 3px 1px rgba(0, 0, 0, 0.15);\n",
              "      filter: drop-shadow(0px 1px 2px rgba(0, 0, 0, 0.3));\n",
              "      fill: #FFFFFF;\n",
              "    }\n",
              "  </style>\n",
              "\n",
              "      <script>\n",
              "        const buttonEl =\n",
              "          document.querySelector('#df-419cc46e-f3f6-46b4-a162-ceae2fbaac0e button.colab-df-convert');\n",
              "        buttonEl.style.display =\n",
              "          google.colab.kernel.accessAllowed ? 'block' : 'none';\n",
              "\n",
              "        async function convertToInteractive(key) {\n",
              "          const element = document.querySelector('#df-419cc46e-f3f6-46b4-a162-ceae2fbaac0e');\n",
              "          const dataTable =\n",
              "            await google.colab.kernel.invokeFunction('convertToInteractive',\n",
              "                                                     [key], {});\n",
              "          if (!dataTable) return;\n",
              "\n",
              "          const docLinkHtml = 'Like what you see? Visit the ' +\n",
              "            '<a target=\"_blank\" href=https://colab.research.google.com/notebooks/data_table.ipynb>data table notebook</a>'\n",
              "            + ' to learn more about interactive tables.';\n",
              "          element.innerHTML = '';\n",
              "          dataTable['output_type'] = 'display_data';\n",
              "          await google.colab.output.renderOutput(dataTable, element);\n",
              "          const docLink = document.createElement('div');\n",
              "          docLink.innerHTML = docLinkHtml;\n",
              "          element.appendChild(docLink);\n",
              "        }\n",
              "      </script>\n",
              "    </div>\n",
              "  </div>\n",
              "  "
            ]
          },
          "metadata": {},
          "execution_count": 13
        }
      ],
      "id": "e07cc7f0"
    },
    {
      "cell_type": "markdown",
      "source": [
        "1.Тип данных столбца 'date' в train_df и holiday_df - нужно привести к формату datetime64.\n",
        "\n",
        "2.Столбец 'type' в holiday_df не несет смысловой нагрузки, его можно удалить.\n",
        "\n",
        "3.Столбец 'transferred' в holiday_df можно перевести из типа True/False в 1/0.\n",
        "\n",
        "4.Столбцы id также подлежат удалению перед обучением моделей. "
      ],
      "metadata": {
        "id": "e9125cea-092e-4d07-8405-e7a6ab3b28e1"
      },
      "id": "e9125cea-092e-4d07-8405-e7a6ab3b28e1"
    },
    {
      "cell_type": "markdown",
      "source": [
        "## Слияние данных\n",
        "\n",
        "Общие колонки у датасетов:\n",
        "- train_df и oil_df：date\n",
        "- train_df и stores_df：store_nbr\n",
        "- train_df и holidays_df：date"
      ],
      "metadata": {
        "papermill": {
          "duration": 0.016188,
          "end_time": "2023-05-19T11:06:45.320796",
          "exception": false,
          "start_time": "2023-05-19T11:06:45.304608",
          "status": "completed"
        },
        "pycharm": {
          "name": "#%% md\n"
        },
        "tags": [],
        "id": "6d74b48c"
      },
      "id": "6d74b48c"
    },
    {
      "cell_type": "code",
      "source": [
        "train_df = pd.merge(train_df, oil_df, how='left', on='date')\n",
        "train_df = pd.merge(train_df, stores_df, how='left', on='store_nbr')\n",
        "holidays_df.rename(columns={'type': 'holidays_type'}, inplace=True)\n",
        "train_df = pd.merge(train_df, holidays_df, how='left', on='date')\n"
      ],
      "metadata": {
        "execution": {
          "iopub.execute_input": "2023-05-19T11:06:45.357868Z",
          "iopub.status.busy": "2023-05-19T11:06:45.357046Z",
          "iopub.status.idle": "2023-05-19T11:06:49.493528Z",
          "shell.execute_reply": "2023-05-19T11:06:49.492181Z"
        },
        "papermill": {
          "duration": 4.158637,
          "end_time": "2023-05-19T11:06:49.496840",
          "exception": false,
          "start_time": "2023-05-19T11:06:45.338203",
          "status": "completed"
        },
        "pycharm": {
          "name": "#%%\n"
        },
        "tags": [],
        "id": "c1cb9b48"
      },
      "execution_count": 14,
      "outputs": [],
      "id": "c1cb9b48"
    },
    {
      "cell_type": "markdown",
      "source": [
        "Удалим ненужные таблицы"
      ],
      "metadata": {
        "id": "bf40f2c4-1bd7-4c58-9d01-074f83d26bea"
      },
      "id": "bf40f2c4-1bd7-4c58-9d01-074f83d26bea"
    },
    {
      "cell_type": "code",
      "source": [
        "\n",
        "del holidays_df, oil_df, stores_df\n",
        "\n",
        "train_df.info()\n"
      ],
      "metadata": {
        "papermill": {
          "duration": 0.041054,
          "end_time": "2023-05-19T11:06:49.556143",
          "exception": false,
          "start_time": "2023-05-19T11:06:49.515089",
          "status": "completed"
        },
        "pycharm": {
          "name": "#%%\n"
        },
        "tags": [],
        "trusted": true,
        "id": "7ffee868",
        "outputId": "1013f90b-8adc-45d1-9cf3-d3c42a08c392",
        "colab": {
          "base_uri": "https://localhost:8080/"
        }
      },
      "execution_count": 15,
      "outputs": [
        {
          "output_type": "stream",
          "name": "stdout",
          "text": [
            "<class 'pandas.core.frame.DataFrame'>\n",
            "Int64Index: 3054348 entries, 0 to 3054347\n",
            "Data columns (total 16 columns):\n",
            " #   Column         Dtype  \n",
            "---  ------         -----  \n",
            " 0   id             int64  \n",
            " 1   date           object \n",
            " 2   store_nbr      int64  \n",
            " 3   family         object \n",
            " 4   sales          float64\n",
            " 5   onpromotion    int64  \n",
            " 6   dcoilwtico     float64\n",
            " 7   city           object \n",
            " 8   state          object \n",
            " 9   type           object \n",
            " 10  cluster        int64  \n",
            " 11  holidays_type  object \n",
            " 12  locale         object \n",
            " 13  locale_name    object \n",
            " 14  description    object \n",
            " 15  transferred    object \n",
            "dtypes: float64(2), int64(4), object(10)\n",
            "memory usage: 396.1+ MB\n"
          ]
        }
      ],
      "id": "7ffee868"
    },
    {
      "cell_type": "markdown",
      "source": [
        "## Взглянем на пропуски в данных"
      ],
      "metadata": {
        "papermill": {
          "duration": 0.017094,
          "end_time": "2023-05-19T11:06:49.590617",
          "exception": false,
          "start_time": "2023-05-19T11:06:49.573523",
          "status": "completed"
        },
        "pycharm": {
          "name": "#%% md\n"
        },
        "tags": [],
        "id": "f838b1b5"
      },
      "id": "f838b1b5"
    },
    {
      "cell_type": "code",
      "source": [
        "train_df.isnull().sum()"
      ],
      "metadata": {
        "execution": {
          "iopub.execute_input": "2023-05-19T11:06:49.627825Z",
          "iopub.status.busy": "2023-05-19T11:06:49.627331Z",
          "iopub.status.idle": "2023-05-19T11:06:58.314568Z",
          "shell.execute_reply": "2023-05-19T11:06:58.313274Z"
        },
        "papermill": {
          "duration": 8.708832,
          "end_time": "2023-05-19T11:06:58.317605",
          "exception": false,
          "start_time": "2023-05-19T11:06:49.608773",
          "status": "completed"
        },
        "pycharm": {
          "name": "#%%\n"
        },
        "tags": [],
        "id": "d121beb0",
        "outputId": "7b5fbc84-7a17-4582-ae63-ec19a60aba19",
        "colab": {
          "base_uri": "https://localhost:8080/"
        }
      },
      "execution_count": 16,
      "outputs": [
        {
          "output_type": "execute_result",
          "data": {
            "text/plain": [
              "id                     0\n",
              "date                   0\n",
              "store_nbr              0\n",
              "family                 0\n",
              "sales                  0\n",
              "onpromotion            0\n",
              "dcoilwtico        955152\n",
              "city                   0\n",
              "state                  0\n",
              "type                   0\n",
              "cluster                0\n",
              "holidays_type    2551824\n",
              "locale           2551824\n",
              "locale_name      2551824\n",
              "description      2551824\n",
              "transferred      2551824\n",
              "dtype: int64"
            ]
          },
          "metadata": {},
          "execution_count": 16
        }
      ],
      "id": "d121beb0"
    },
    {
      "cell_type": "code",
      "source": [
        "train_df.isnull().sum() / train_df.shape[0]"
      ],
      "metadata": {
        "papermill": {
          "duration": 8.890045,
          "end_time": "2023-05-19T11:07:07.226133",
          "exception": false,
          "start_time": "2023-05-19T11:06:58.336088",
          "status": "completed"
        },
        "pycharm": {
          "name": "#%%\n"
        },
        "tags": [],
        "trusted": true,
        "id": "9cc1c5b8",
        "outputId": "513298c1-b1cf-4bbe-be77-f4c3cad11d0c",
        "colab": {
          "base_uri": "https://localhost:8080/"
        }
      },
      "execution_count": 17,
      "outputs": [
        {
          "output_type": "execute_result",
          "data": {
            "text/plain": [
              "id               0.000000\n",
              "date             0.000000\n",
              "store_nbr        0.000000\n",
              "family           0.000000\n",
              "sales            0.000000\n",
              "onpromotion      0.000000\n",
              "dcoilwtico       0.312719\n",
              "city             0.000000\n",
              "state            0.000000\n",
              "type             0.000000\n",
              "cluster          0.000000\n",
              "holidays_type    0.835473\n",
              "locale           0.835473\n",
              "locale_name      0.835473\n",
              "description      0.835473\n",
              "transferred      0.835473\n",
              "dtype: float64"
            ]
          },
          "metadata": {},
          "execution_count": 17
        }
      ],
      "id": "9cc1c5b8"
    },
    {
      "cell_type": "markdown",
      "source": [
        "Удалим столбцы с пропусками в данных более 80%. "
      ],
      "metadata": {
        "id": "be6a5be0-a2ec-40c3-918d-a567be0e09e1"
      },
      "id": "be6a5be0-a2ec-40c3-918d-a567be0e09e1"
    },
    {
      "cell_type": "code",
      "source": [
        "\n",
        "null_percent = train_df.isnull().sum() / train_df.shape[0]\n",
        "null_80_column = null_percent[null_percent > 0.8].index\n",
        "train_df = train_df.drop(columns=null_80_column, axis=1)"
      ],
      "metadata": {
        "execution": {
          "iopub.execute_input": "2023-05-19T11:07:07.263985Z",
          "iopub.status.busy": "2023-05-19T11:07:07.263507Z",
          "iopub.status.idle": "2023-05-19T11:07:16.454379Z",
          "shell.execute_reply": "2023-05-19T11:07:16.453166Z"
        },
        "papermill": {
          "duration": 9.213762,
          "end_time": "2023-05-19T11:07:16.457455",
          "exception": false,
          "start_time": "2023-05-19T11:07:07.243693",
          "status": "completed"
        },
        "pycharm": {
          "name": "#%%\n"
        },
        "tags": [],
        "id": "268e05dd"
      },
      "execution_count": 18,
      "outputs": [],
      "id": "268e05dd"
    },
    {
      "cell_type": "code",
      "source": [
        "train_df['dcoilwtico'].describe()"
      ],
      "metadata": {
        "execution": {
          "iopub.execute_input": "2023-05-19T11:07:16.494575Z",
          "iopub.status.busy": "2023-05-19T11:07:16.494107Z",
          "iopub.status.idle": "2023-05-19T11:07:16.680696Z",
          "shell.execute_reply": "2023-05-19T11:07:16.679461Z"
        },
        "papermill": {
          "duration": 0.208389,
          "end_time": "2023-05-19T11:07:16.683772",
          "exception": false,
          "start_time": "2023-05-19T11:07:16.475383",
          "status": "completed"
        },
        "pycharm": {
          "name": "#%%\n"
        },
        "tags": [],
        "id": "52374316",
        "outputId": "e7a530d5-87d2-4db8-ee1b-e8b59f7c6dc2",
        "colab": {
          "base_uri": "https://localhost:8080/"
        }
      },
      "execution_count": 19,
      "outputs": [
        {
          "output_type": "execute_result",
          "data": {
            "text/plain": [
              "count    2.099196e+06\n",
              "mean     6.801587e+01\n",
              "std      2.569134e+01\n",
              "min      2.619000e+01\n",
              "25%      4.641000e+01\n",
              "50%      5.343000e+01\n",
              "75%      9.581000e+01\n",
              "max      1.106200e+02\n",
              "Name: dcoilwtico, dtype: float64"
            ]
          },
          "metadata": {},
          "execution_count": 19
        }
      ],
      "id": "52374316"
    },
    {
      "cell_type": "markdown",
      "source": [
        "Заполним пропуски колонки 'dcoilwtico'"
      ],
      "metadata": {
        "id": "bba46953-6873-42f3-a64b-c17340f458a3"
      },
      "id": "bba46953-6873-42f3-a64b-c17340f458a3"
    },
    {
      "cell_type": "code",
      "source": [
        "train_df['dcoilwtico'] = train_df['dcoilwtico'].fillna(train_df['dcoilwtico'].mode()[0])"
      ],
      "metadata": {
        "papermill": {
          "duration": 0.108523,
          "end_time": "2023-05-19T11:07:16.810961",
          "exception": false,
          "start_time": "2023-05-19T11:07:16.702438",
          "status": "completed"
        },
        "pycharm": {
          "name": "#%%\n"
        },
        "tags": [],
        "trusted": true,
        "id": "08cf3020"
      },
      "execution_count": 20,
      "outputs": [],
      "id": "08cf3020"
    },
    {
      "cell_type": "markdown",
      "source": [
        "Удалим дубликаты в данных"
      ],
      "metadata": {
        "id": "967a7fbe-d3e5-4635-81e2-5d90aee49c84"
      },
      "id": "967a7fbe-d3e5-4635-81e2-5d90aee49c84"
    },
    {
      "cell_type": "code",
      "source": [
        "train_df = train_df.drop(columns=['id'], axis=1)\n",
        "train_df.duplicated().any()"
      ],
      "metadata": {
        "execution": {
          "iopub.execute_input": "2023-05-19T11:07:16.850150Z",
          "iopub.status.busy": "2023-05-19T11:07:16.849608Z",
          "iopub.status.idle": "2023-05-19T11:07:20.007939Z",
          "shell.execute_reply": "2023-05-19T11:07:20.006685Z"
        },
        "papermill": {
          "duration": 3.182227,
          "end_time": "2023-05-19T11:07:20.010949",
          "exception": false,
          "start_time": "2023-05-19T11:07:16.828722",
          "status": "completed"
        },
        "pycharm": {
          "name": "#%%\n"
        },
        "tags": [],
        "id": "43ba5a54",
        "outputId": "1ea6be81-98cf-4ef0-b7a5-883f4202ce9b",
        "colab": {
          "base_uri": "https://localhost:8080/"
        }
      },
      "execution_count": 21,
      "outputs": [
        {
          "output_type": "execute_result",
          "data": {
            "text/plain": [
              "True"
            ]
          },
          "metadata": {},
          "execution_count": 21
        }
      ],
      "id": "43ba5a54"
    },
    {
      "cell_type": "code",
      "source": [
        "train_df.duplicated().sum()"
      ],
      "metadata": {
        "execution": {
          "iopub.execute_input": "2023-05-19T11:07:20.049123Z",
          "iopub.status.busy": "2023-05-19T11:07:20.048589Z",
          "iopub.status.idle": "2023-05-19T11:07:22.844876Z",
          "shell.execute_reply": "2023-05-19T11:07:22.843473Z"
        },
        "papermill": {
          "duration": 2.818756,
          "end_time": "2023-05-19T11:07:22.847813",
          "exception": false,
          "start_time": "2023-05-19T11:07:20.029057",
          "status": "completed"
        },
        "pycharm": {
          "name": "#%%\n"
        },
        "tags": [],
        "id": "3d2b909a",
        "outputId": "08e09dfb-8aae-4a01-f8e9-0d8a417e32f2",
        "colab": {
          "base_uri": "https://localhost:8080/"
        }
      },
      "execution_count": 22,
      "outputs": [
        {
          "output_type": "execute_result",
          "data": {
            "text/plain": [
              "53460"
            ]
          },
          "metadata": {},
          "execution_count": 22
        }
      ],
      "id": "3d2b909a"
    },
    {
      "cell_type": "code",
      "source": [
        "train_df = train_df.drop_duplicates()"
      ],
      "metadata": {
        "execution": {
          "iopub.execute_input": "2023-05-19T11:07:22.887467Z",
          "iopub.status.busy": "2023-05-19T11:07:22.886932Z",
          "iopub.status.idle": "2023-05-19T11:07:26.559063Z",
          "shell.execute_reply": "2023-05-19T11:07:26.557562Z"
        },
        "papermill": {
          "duration": 3.695811,
          "end_time": "2023-05-19T11:07:26.562435",
          "exception": false,
          "start_time": "2023-05-19T11:07:22.866624",
          "status": "completed"
        },
        "pycharm": {
          "name": "#%%\n"
        },
        "tags": [],
        "id": "83ad5373"
      },
      "execution_count": 23,
      "outputs": [],
      "id": "83ad5373"
    },
    {
      "cell_type": "code",
      "source": [
        "train_df.isnull().sum()"
      ],
      "metadata": {
        "execution": {
          "iopub.execute_input": "2023-05-19T11:07:26.602495Z",
          "iopub.status.busy": "2023-05-19T11:07:26.601994Z",
          "iopub.status.idle": "2023-05-19T11:07:31.309389Z",
          "shell.execute_reply": "2023-05-19T11:07:31.308183Z"
        },
        "papermill": {
          "duration": 4.730286,
          "end_time": "2023-05-19T11:07:31.312363",
          "exception": false,
          "start_time": "2023-05-19T11:07:26.582077",
          "status": "completed"
        },
        "pycharm": {
          "name": "#%%\n"
        },
        "tags": [],
        "id": "3c8b9186",
        "outputId": "0a3132d7-4824-4b94-bcb1-8ae38a30dce4",
        "colab": {
          "base_uri": "https://localhost:8080/"
        }
      },
      "execution_count": 24,
      "outputs": [
        {
          "output_type": "execute_result",
          "data": {
            "text/plain": [
              "date           0\n",
              "store_nbr      0\n",
              "family         0\n",
              "sales          0\n",
              "onpromotion    0\n",
              "dcoilwtico     0\n",
              "city           0\n",
              "state          0\n",
              "type           0\n",
              "cluster        0\n",
              "dtype: int64"
            ]
          },
          "metadata": {},
          "execution_count": 24
        }
      ],
      "id": "3c8b9186"
    },
    {
      "cell_type": "markdown",
      "source": [
        "## Исследовательский анализ данных"
      ],
      "metadata": {
        "papermill": {
          "duration": 0.018013,
          "end_time": "2023-05-19T11:07:31.348658",
          "exception": false,
          "start_time": "2023-05-19T11:07:31.330645",
          "status": "completed"
        },
        "pycharm": {
          "name": "#%% md\n"
        },
        "tags": [],
        "id": "2180b5e6"
      },
      "id": "2180b5e6"
    },
    {
      "cell_type": "markdown",
      "source": [
        "## Посмотрим на распределение данных по графикам."
      ],
      "metadata": {
        "id": "cd65b781-261b-46b6-9105-1ea208bbc05b"
      },
      "id": "cd65b781-261b-46b6-9105-1ea208bbc05b"
    },
    {
      "cell_type": "code",
      "source": [
        "family_sales_group = train_df.groupby(by=['family'])['sales'].sum()\n",
        "family_sales_group = family_sales_group.sort_values(ascending=False)\n",
        "plt.pie(family_sales_group[:10], labels=family_sales_group[:10].index, autopct='%1.1f%%')\n",
        "plt.title('Топ-10 категорий продуктов')"
      ],
      "metadata": {
        "execution": {
          "iopub.execute_input": "2023-05-19T11:07:31.388612Z",
          "iopub.status.busy": "2023-05-19T11:07:31.388147Z",
          "iopub.status.idle": "2023-05-19T11:07:32.076989Z",
          "shell.execute_reply": "2023-05-19T11:07:32.075733Z"
        },
        "papermill": {
          "duration": 0.712208,
          "end_time": "2023-05-19T11:07:32.079888",
          "exception": false,
          "start_time": "2023-05-19T11:07:31.367680",
          "status": "completed"
        },
        "pycharm": {
          "name": "#%%\n"
        },
        "tags": [],
        "id": "8757707d",
        "outputId": "d3d55fa7-3ceb-450a-e101-33ecd599f07f",
        "colab": {
          "base_uri": "https://localhost:8080/",
          "height": 445
        }
      },
      "execution_count": 25,
      "outputs": [
        {
          "output_type": "execute_result",
          "data": {
            "text/plain": [
              "Text(0.5, 1.0, 'Топ-10 категорий продуктов')"
            ]
          },
          "metadata": {},
          "execution_count": 25
        },
        {
          "output_type": "display_data",
          "data": {
            "text/plain": [
              "<Figure size 640x480 with 1 Axes>"
            ],
            "image/png": "[encoded data removed]"
          },
          "metadata": {}
        }
      ],
      "id": "8757707d"
    },
    {
      "cell_type": "markdown",
      "source": [
        "Топ-10 категорий продуктов с наибольшим кол-вом продаж\n",
        "\n",
        "1. Grocery\n",
        "2. Beverages\n",
        "3. Produce\n",
        "4. Cleaning\n",
        "5. Dairy\n",
        "6. Bread/Bakery\n",
        "7. Poultry\n",
        "8. Meats\n",
        "9. Personal Care\n",
        "10. Deli"
      ],
      "metadata": {
        "id": "eb89cfc9-c29e-44c4-9396-98aa8312315d"
      },
      "id": "eb89cfc9-c29e-44c4-9396-98aa8312315d"
    },
    {
      "cell_type": "code",
      "source": [
        "state_sales_group = train_df.groupby(by=['state'])['sales'].sum()\n",
        "state_sales_group = state_sales_group.sort_values(ascending=False)\n",
        "plt.pie(state_sales_group[:10], labels=state_sales_group[:10].index, autopct='%1.1f%%')\n",
        "plt.title('Топ-10 продаж по штату')"
      ],
      "metadata": {
        "execution": {
          "iopub.execute_input": "2023-05-19T11:07:32.122477Z",
          "iopub.status.busy": "2023-05-19T11:07:32.121931Z",
          "iopub.status.idle": "2023-05-19T11:07:32.789831Z",
          "shell.execute_reply": "2023-05-19T11:07:32.788193Z"
        },
        "papermill": {
          "duration": 0.694736,
          "end_time": "2023-05-19T11:07:32.794302",
          "exception": false,
          "start_time": "2023-05-19T11:07:32.099566",
          "status": "completed"
        },
        "pycharm": {
          "name": "#%%\n"
        },
        "tags": [],
        "id": "db38eb58",
        "outputId": "498c0429-0b0d-481e-e3f9-d2f90230b1d7",
        "colab": {
          "base_uri": "https://localhost:8080/",
          "height": 445
        }
      },
      "execution_count": 26,
      "outputs": [
        {
          "output_type": "execute_result",
          "data": {
            "text/plain": [
              "Text(0.5, 1.0, 'Топ-10 продаж по штату')"
            ]
          },
          "metadata": {},
          "execution_count": 26
        },
        {
          "output_type": "display_data",
          "data": {
            "text/plain": [
              "<Figure size 640x480 with 1 Axes>"
            ],
            "image/png": "[encoded data removed]"
          },
          "metadata": {}
        }
      ],
      "id": "db38eb58"
    },
    {
      "cell_type": "markdown",
      "source": [
        "Топ-10 штатов с наибольшим кол-вом продаж\n",
        "\n",
        "1. Pinchicha\n",
        "2. Guayas\n",
        "3. Azuay\n",
        "4. Tungurahua\n",
        "5. Santa Domingo de los Tsachilas\n",
        "6. El Oro\n",
        "7. Los Rios\n",
        "8. Manabi\n",
        "9. Cotopaxi\n",
        "10. Loja"
      ],
      "metadata": {
        "id": "9f8afb21-a8a5-4f52-af96-b1673f0a9969"
      },
      "id": "9f8afb21-a8a5-4f52-af96-b1673f0a9969"
    },
    {
      "cell_type": "code",
      "source": [
        "plt.figure(figsize=(10, 8))\n",
        "plt.scatter(train_df['onpromotion'], train_df['sales'], marker='*')\n",
        "ax.set_xlabel('On Promotion')\n",
        "ax.set_ylabel('Sales')\n",
        "plt.title('Топ-10 продаж по городу')"
      ],
      "metadata": {
        "papermill": {
          "duration": 3.786223,
          "end_time": "2023-05-19T11:07:36.603051",
          "exception": false,
          "start_time": "2023-05-19T11:07:32.816828",
          "status": "completed"
        },
        "pycharm": {
          "name": "#%%\n"
        },
        "tags": [],
        "trusted": true,
        "id": "0f9d69db",
        "outputId": "e71f465b-1bf8-457b-eced-e875cb9febb0",
        "colab": {
          "base_uri": "https://localhost:8080/",
          "height": 894
        }
      },
      "execution_count": 27,
      "outputs": [
        {
          "output_type": "error",
          "ename": "NameError",
          "evalue": "ignored",
          "traceback": [
            "\u001b[0;31m---------------------------------------------------------------------------\u001b[0m",
            "\u001b[0;31mNameError\u001b[0m                                 Traceback (most recent call last)",
            "\u001b[0;32m<ipython-input-27-cadc8ea7c4e8>\u001b[0m in \u001b[0;36m<cell line: 3>\u001b[0;34m()\u001b[0m\n\u001b[1;32m      1\u001b[0m \u001b[0mplt\u001b[0m\u001b[0;34m.\u001b[0m\u001b[0mfigure\u001b[0m\u001b[0;34m(\u001b[0m\u001b[0mfigsize\u001b[0m\u001b[0;34m=\u001b[0m\u001b[0;34m(\u001b[0m\u001b[0;36m10\u001b[0m\u001b[0;34m,\u001b[0m \u001b[0;36m8\u001b[0m\u001b[0;34m)\u001b[0m\u001b[0;34m)\u001b[0m\u001b[0;34m\u001b[0m\u001b[0;34m\u001b[0m\u001b[0m\n\u001b[1;32m      2\u001b[0m \u001b[0mplt\u001b[0m\u001b[0;34m.\u001b[0m\u001b[0mscatter\u001b[0m\u001b[0;34m(\u001b[0m\u001b[0mtrain_df\u001b[0m\u001b[0;34m[\u001b[0m\u001b[0;34m'onpromotion'\u001b[0m\u001b[0;34m]\u001b[0m\u001b[0;34m,\u001b[0m \u001b[0mtrain_df\u001b[0m\u001b[0;34m[\u001b[0m\u001b[0;34m'sales'\u001b[0m\u001b[0;34m]\u001b[0m\u001b[0;34m,\u001b[0m \u001b[0mmarker\u001b[0m\u001b[0;34m=\u001b[0m\u001b[0;34m'*'\u001b[0m\u001b[0;34m)\u001b[0m\u001b[0;34m\u001b[0m\u001b[0;34m\u001b[0m\u001b[0m\n\u001b[0;32m----> 3\u001b[0;31m \u001b[0max\u001b[0m\u001b[0;34m.\u001b[0m\u001b[0mset_xlabel\u001b[0m\u001b[0;34m(\u001b[0m\u001b[0;34m'On Promotion'\u001b[0m\u001b[0;34m)\u001b[0m\u001b[0;34m\u001b[0m\u001b[0;34m\u001b[0m\u001b[0m\n\u001b[0m\u001b[1;32m      4\u001b[0m \u001b[0max\u001b[0m\u001b[0;34m.\u001b[0m\u001b[0mset_ylabel\u001b[0m\u001b[0;34m(\u001b[0m\u001b[0;34m'Sales'\u001b[0m\u001b[0;34m)\u001b[0m\u001b[0;34m\u001b[0m\u001b[0;34m\u001b[0m\u001b[0m\n\u001b[1;32m      5\u001b[0m \u001b[0mplt\u001b[0m\u001b[0;34m.\u001b[0m\u001b[0mtitle\u001b[0m\u001b[0;34m(\u001b[0m\u001b[0;34m'Топ-10 продаж по городу'\u001b[0m\u001b[0;34m)\u001b[0m\u001b[0;34m\u001b[0m\u001b[0;34m\u001b[0m\u001b[0m\n",
            "\u001b[0;31mNameError\u001b[0m: name 'ax' is not defined"
          ]
        },
        {
          "output_type": "display_data",
          "data": {
            "text/plain": [
              "<Figure size 1000x800 with 1 Axes>"
            ],
            "image/png": "[encoded data removed]"
          },
          "metadata": {}
        }
      ],
      "id": "0f9d69db"
    },
    {
      "cell_type": "code",
      "source": [
        "city_sales_group = train_df.groupby(by=['city'])['sales'].sum()\n",
        "city_sales_group = city_sales_group.sort_values(ascending=False)\n",
        "plt.pie(city_sales_group[:10], labels=city_sales_group[:10].index, autopct='%1.1f%%')\n",
        "plt.title('The highest Sales by City of top 10')\n"
      ],
      "metadata": {
        "execution": {
          "iopub.execute_input": "2023-05-19T11:07:36.650970Z",
          "iopub.status.busy": "2023-05-19T11:07:36.650469Z",
          "iopub.status.idle": "2023-05-19T11:07:37.284329Z",
          "shell.execute_reply": "2023-05-19T11:07:37.282510Z"
        },
        "papermill": {
          "duration": 0.664429,
          "end_time": "2023-05-19T11:07:37.290859",
          "exception": false,
          "start_time": "2023-05-19T11:07:36.626430",
          "status": "completed"
        },
        "pycharm": {
          "name": "#%%\n"
        },
        "tags": [],
        "id": "38a11c1e",
        "outputId": "8a76f86f-95fe-4230-94db-ef474466efc6",
        "colab": {
          "base_uri": "https://localhost:8080/",
          "height": 445
        }
      },
      "execution_count": 28,
      "outputs": [
        {
          "output_type": "execute_result",
          "data": {
            "text/plain": [
              "Text(0.5, 1.0, 'The highest Sales by City of top 10')"
            ]
          },
          "metadata": {},
          "execution_count": 28
        },
        {
          "output_type": "display_data",
          "data": {
            "text/plain": [
              "<Figure size 640x480 with 1 Axes>"
            ],
            "image/png": "[encoded data removed]"
          },
          "metadata": {}
        }
      ],
      "id": "38a11c1e"
    },
    {
      "cell_type": "markdown",
      "source": [
        "Топ - 10 городов с наибольшим кол-вом продаж\n",
        "\n",
        "1. Quito\n",
        "2. Guayaquil\n",
        "3. Cuenca\n",
        "4. Ambato\n",
        "5. Santo Domingo\n",
        "6. Machala\n",
        "7. Cayambe\n",
        "8. Latacunga\n",
        "9. Daule\n",
        "10. Loja"
      ],
      "metadata": {
        "id": "b41b355e-7578-4ac3-843c-e9539d4bb161"
      },
      "id": "b41b355e-7578-4ac3-843c-e9539d4bb161"
    },
    {
      "cell_type": "code",
      "source": [
        "quito_store_df = train_df[train_df['city'] == 'Quito']\n",
        "quito_store_group = quito_store_df.groupby(by=['store_nbr'])['sales'].sum().reset_index()\n",
        "ax = sns.barplot(quito_store_group, x='store_nbr', y='sales', palette=sns.color_palette('pastel'))\n",
        "ax.set_xlabel('City')\n",
        "ax.set_ylabel('Count')\n",
        "ax.set_xticklabels(ax.get_xticklabels(), rotation=90)\n",
        "ax.set_title('Кол-во продаж в Quito City')"
      ],
      "metadata": {
        "papermill": {
          "duration": 1.175403,
          "end_time": "2023-05-19T11:07:42.471805",
          "exception": false,
          "start_time": "2023-05-19T11:07:41.296402",
          "status": "completed"
        },
        "pycharm": {
          "name": "#%%\n"
        },
        "tags": [],
        "trusted": true,
        "id": "c0198df8",
        "outputId": "dc78b87f-ad8c-4a47-b3b8-58b0244208e1",
        "colab": {
          "base_uri": "https://localhost:8080/",
          "height": 492
        }
      },
      "execution_count": 29,
      "outputs": [
        {
          "output_type": "execute_result",
          "data": {
            "text/plain": [
              "Text(0.5, 1.0, 'Кол-во продаж в Quito City')"
            ]
          },
          "metadata": {},
          "execution_count": 29
        },
        {
          "output_type": "display_data",
          "data": {
            "text/plain": [
              "<Figure size 640x480 with 1 Axes>"
            ],
            "image/png": "[encoded data removed]"
          },
          "metadata": {}
        }
      ],
      "id": "c0198df8"
    },
    {
      "cell_type": "code",
      "source": [
        "plt.figure(figsize=(14, 10))\n",
        "onpromotion_sum_group = train_df.groupby(by=['store_nbr'])['onpromotion'].sum().reset_index()\n",
        "ax = sns.barplot(onpromotion_sum_group, x='store_nbr', y='onpromotion', palette=sns.color_palette('pastel'))\n",
        "ax.set_xlabel('store_nbr')\n",
        "ax.set_ylabel('Sum of promotion')\n",
        "ax.set_xticklabels(ax.get_xticklabels(), rotation=90)\n",
        "ax.set_title('Количество акционной продукции в каждом магазине')"
      ],
      "metadata": {
        "papermill": {
          "duration": 1.298408,
          "end_time": "2023-05-19T11:07:45.020301",
          "exception": false,
          "start_time": "2023-05-19T11:07:43.721893",
          "status": "completed"
        },
        "pycharm": {
          "name": "#%%\n"
        },
        "tags": [],
        "trusted": true,
        "id": "782e606d",
        "outputId": "9fc86995-0a15-4a68-caa7-738ce61ffd47",
        "colab": {
          "base_uri": "https://localhost:8080/",
          "height": 893
        }
      },
      "execution_count": 30,
      "outputs": [
        {
          "output_type": "execute_result",
          "data": {
            "text/plain": [
              "Text(0.5, 1.0, 'Количество акционной продукции в каждом магазине')"
            ]
          },
          "metadata": {},
          "execution_count": 30
        },
        {
          "output_type": "display_data",
          "data": {
            "text/plain": [
              "<Figure size 1400x1000 with 1 Axes>"
            ],
            "image/png": "[encoded data removed]"
          },
          "metadata": {}
        }
      ],
      "id": "782e606d"
    },
    {
      "cell_type": "code",
      "source": [
        "plt.scatter(train_df['onpromotion'], train_df['sales'], marker='*')\n",
        "ax.set_xlabel('On Promotion')\n",
        "ax.set_ylabel('Sales')\n",
        "ax.set_title('Влияние акций на продажи')\n"
      ],
      "metadata": {
        "papermill": {
          "duration": 11.53046,
          "end_time": "2023-05-19T11:07:56.578574",
          "exception": false,
          "start_time": "2023-05-19T11:07:45.048114",
          "status": "completed"
        },
        "pycharm": {
          "name": "#%%\n"
        },
        "tags": [],
        "trusted": true,
        "id": "0451e632",
        "outputId": "fec5ffc4-9795-4505-8763-0c8e5053661e",
        "colab": {
          "base_uri": "https://localhost:8080/",
          "height": 447
        }
      },
      "execution_count": 31,
      "outputs": [
        {
          "output_type": "execute_result",
          "data": {
            "text/plain": [
              "Text(0.5, 1.0, 'Влияние акций на продажи')"
            ]
          },
          "metadata": {},
          "execution_count": 31
        },
        {
          "output_type": "display_data",
          "data": {
            "text/plain": [
              "<Figure size 640x480 with 1 Axes>"
            ],
            "image/png": "[encoded data removed]"
          },
          "metadata": {}
        }
      ],
      "id": "0451e632"
    },
    {
      "cell_type": "markdown",
      "source": [
        "Видно, что с увеличением количества продуктов на скидках - значительного роста продаж не происходит."
      ],
      "metadata": {
        "id": "7636e7c0-6cef-42cd-92ca-8d2a263a4520"
      },
      "id": "7636e7c0-6cef-42cd-92ca-8d2a263a4520"
    },
    {
      "cell_type": "markdown",
      "source": [
        "Построим график продаж от года к году"
      ],
      "metadata": {
        "id": "f56eaef8-353d-4d61-aa0d-de98cd53f778"
      },
      "id": "f56eaef8-353d-4d61-aa0d-de98cd53f778"
    },
    {
      "cell_type": "code",
      "source": [
        "train_df['date'] = pd.to_datetime(train_df['date'])\n",
        "train_df['month'] = train_df['date'].dt.month\n",
        "train_df['year'] = train_df['date'].dt.year\n",
        "\n",
        "month_sales_group = train_df.groupby(by=['year', 'month'])['sales'].sum()\n",
        "pd.DataFrame(month_sales_group)\n",
        "\n",
        "plt.figure(figsize=(14, 10))\n",
        "ax = sns.lineplot(pd.DataFrame(month_sales_group), x='month', y='sales', hue='year')\n",
        "month_names = ['Jan', 'Feb', 'Mar', 'Apr', 'May', 'Jun', 'Jul', 'Aug', 'Sep', 'Oct', 'Nov', 'Dec']\n",
        "ax.set_xticks(range(1, 13), labels=list(range(1, 13)))"
      ],
      "metadata": {
        "execution": {
          "iopub.execute_input": "2023-05-19T11:07:56.639722Z",
          "iopub.status.busy": "2023-05-19T11:07:56.638836Z",
          "iopub.status.idle": "2023-05-19T11:07:58.742071Z",
          "shell.execute_reply": "2023-05-19T11:07:58.740741Z"
        },
        "papermill": {
          "duration": 2.138057,
          "end_time": "2023-05-19T11:07:58.746858",
          "exception": false,
          "start_time": "2023-05-19T11:07:56.608801",
          "status": "completed"
        },
        "pycharm": {
          "name": "#%%\n"
        },
        "tags": [],
        "id": "89a74180",
        "outputId": "bed93a07-eecc-435a-c405-11292646cfbf",
        "colab": {
          "base_uri": "https://localhost:8080/",
          "height": 1000
        }
      },
      "execution_count": 32,
      "outputs": [
        {
          "output_type": "execute_result",
          "data": {
            "text/plain": [
              "[<matplotlib.axis.XTick at 0x7ff692a3e680>,\n",
              " <matplotlib.axis.XTick at 0x7ff692a3e650>,\n",
              " <matplotlib.axis.XTick at 0x7ff692a3d5a0>,\n",
              " <matplotlib.axis.XTick at 0x7ff68cd14b20>,\n",
              " <matplotlib.axis.XTick at 0x7ff68cd15930>,\n",
              " <matplotlib.axis.XTick at 0x7ff68cd163e0>,\n",
              " <matplotlib.axis.XTick at 0x7ff68cd16ec0>,\n",
              " <matplotlib.axis.XTick at 0x7ff68cd17970>,\n",
              " <matplotlib.axis.XTick at 0x7ff68cd14af0>,\n",
              " <matplotlib.axis.XTick at 0x7ff692a1c3d0>,\n",
              " <matplotlib.axis.XTick at 0x7ff68cd534f0>,\n",
              " <matplotlib.axis.XTick at 0x7ff68cd53fa0>]"
            ]
          },
          "metadata": {},
          "execution_count": 32
        },
        {
          "output_type": "display_data",
          "data": {
            "text/plain": [
              "<Figure size 1400x1000 with 1 Axes>"
            ],
            "image/png": "[encoded data removed]"
          },
          "metadata": {}
        }
      ],
      "id": "89a74180"
    },
    {
      "cell_type": "markdown",
      "source": [
        "### Взглянем на временные ряды"
      ],
      "metadata": {
        "papermill": {
          "duration": 0.030376,
          "end_time": "2023-05-19T11:07:58.809643",
          "exception": false,
          "start_time": "2023-05-19T11:07:58.779267",
          "status": "completed"
        },
        "pycharm": {
          "name": "#%% md\n"
        },
        "tags": [],
        "id": "0c0a6715"
      },
      "id": "0c0a6715"
    },
    {
      "cell_type": "code",
      "source": [
        "train_df = train_df.groupby(by=['date'])['sales', 'onpromotion'].sum().reset_index()"
      ],
      "metadata": {
        "papermill": {
          "duration": 0.384486,
          "end_time": "2023-05-19T11:07:59.224088",
          "exception": false,
          "start_time": "2023-05-19T11:07:58.839602",
          "status": "completed"
        },
        "pycharm": {
          "name": "#%%\n"
        },
        "tags": [],
        "trusted": true,
        "id": "237a3258",
        "outputId": "1d964cf2-b441-41db-e849-aa8e9e86c092",
        "colab": {
          "base_uri": "https://localhost:8080/"
        }
      },
      "execution_count": 33,
      "outputs": [
        {
          "output_type": "stream",
          "name": "stderr",
          "text": [
            "<ipython-input-33-38b7c9bcf1f6>:1: FutureWarning: Indexing with multiple keys (implicitly converted to a tuple of keys) will be deprecated, use a list instead.\n",
            "  train_df = train_df.groupby(by=['date'])['sales', 'onpromotion'].sum().reset_index()\n"
          ]
        }
      ],
      "id": "237a3258"
    },
    {
      "cell_type": "code",
      "source": [
        "train_df.index = train_df['date']\n",
        "fig, ax = plt.subplots(1, 1, figsize=(14, 9))\n",
        "train_df['sales'].plot(color='C0', ax=ax)"
      ],
      "metadata": {
        "execution": {
          "iopub.execute_input": "2023-05-19T11:07:59.287444Z",
          "iopub.status.busy": "2023-05-19T11:07:59.286625Z",
          "iopub.status.idle": "2023-05-19T11:07:59.813445Z",
          "shell.execute_reply": "2023-05-19T11:07:59.812077Z"
        },
        "papermill": {
          "duration": 0.563383,
          "end_time": "2023-05-19T11:07:59.817337",
          "exception": false,
          "start_time": "2023-05-19T11:07:59.253954",
          "status": "completed"
        },
        "pycharm": {
          "name": "#%%\n"
        },
        "tags": [],
        "id": "65af81ff",
        "outputId": "4e51a95c-0257-4a6f-9bb9-ff178a5abe90",
        "colab": {
          "base_uri": "https://localhost:8080/",
          "height": 740
        }
      },
      "execution_count": 34,
      "outputs": [
        {
          "output_type": "execute_result",
          "data": {
            "text/plain": [
              "<Axes: xlabel='date'>"
            ]
          },
          "metadata": {},
          "execution_count": 34
        },
        {
          "output_type": "display_data",
          "data": {
            "text/plain": [
              "<Figure size 1400x900 with 1 Axes>"
            ],
            "image/png": "[encoded data removed]"
          },
          "metadata": {}
        }
      ],
      "id": "65af81ff"
    },
    {
      "cell_type": "markdown",
      "source": [
        "Судя по графику - есть влияние сезонности и тренда на увеличение продаж. Предварительно, можно сделать вывод, что это нестационарный временной ряд."
      ],
      "metadata": {
        "id": "c03e1dee-018a-4115-a247-39a854b75c56"
      },
      "id": "c03e1dee-018a-4115-a247-39a854b75c56"
    },
    {
      "cell_type": "markdown",
      "source": [
        "#### Тест Дики-Фуллера"
      ],
      "metadata": {
        "papermill": {
          "duration": 0.033603,
          "end_time": "2023-05-19T11:08:00.726199",
          "exception": false,
          "start_time": "2023-05-19T11:08:00.692596",
          "status": "completed"
        },
        "pycharm": {
          "name": "#%% md\n"
        },
        "tags": [],
        "id": "79999834"
      },
      "id": "79999834"
    },
    {
      "cell_type": "markdown",
      "source": [
        "Тест ADF оценивает нулевую гипотезу о том, что временной ряд имеет единичный корень, что указывает на нестационарность. Альтернативная гипотеза состоит в том, что временной ряд является стационарным.\n",
        "\n",
        "При выполнении теста ADF мы получаем статистику ADF и значение p. Статистика ADF представляет собой отрицательное число, и чем оно более отрицательное, тем сильнее свидетельство против нулевой гипотезы. Значение p представляет собой вероятность наблюдения статистики ADF или более экстремального значения, если бы нулевая гипотеза была верна. Низкое значение p (ниже выбранного уровня значимости, обычно 0,05) указывает на убедительные доказательства против нулевой гипотезы и предполагает, что временной ряд является стационарным."
      ],
      "metadata": {
        "id": "Yqybq9HTplAY"
      },
      "id": "Yqybq9HTplAY"
    },
    {
      "cell_type": "code",
      "source": [
        "\n",
        "adf_result = adfuller(train_df['sales'])\n",
        "print(f'p-value:{adf_result[1]}')\n",
        "\n",
        "\n",
        "kpss_result = kpss(train_df['sales'])\n",
        "print(f'p-value:{kpss_result[1]}')"
      ],
      "metadata": {
        "execution": {
          "iopub.execute_input": "2023-05-19T11:08:00.800200Z",
          "iopub.status.busy": "2023-05-19T11:08:00.798766Z",
          "iopub.status.idle": "2023-05-19T11:08:00.901348Z",
          "shell.execute_reply": "2023-05-19T11:08:00.899311Z"
        },
        "papermill": {
          "duration": 0.145667,
          "end_time": "2023-05-19T11:08:00.908566",
          "exception": false,
          "start_time": "2023-05-19T11:08:00.762899",
          "status": "completed"
        },
        "pycharm": {
          "name": "#%%\n"
        },
        "tags": [],
        "id": "8afed32c",
        "outputId": "7f39679c-0e93-4a12-80ac-9d827a4a880e",
        "colab": {
          "base_uri": "https://localhost:8080/"
        }
      },
      "execution_count": 36,
      "outputs": [
        {
          "output_type": "stream",
          "name": "stdout",
          "text": [
            "p-value:0.08969592175787444\n",
            "p-value:0.01\n"
          ]
        },
        {
          "output_type": "stream",
          "name": "stderr",
          "text": [
            "/usr/local/lib/python3.10/dist-packages/statsmodels/tsa/stattools.py:2018: InterpolationWarning: The test statistic is outside of the range of p-values available in the\n",
            "look-up table. The actual p-value is smaller than the p-value returned.\n",
            "\n",
            "  warnings.warn(\n"
          ]
        }
      ],
      "id": "8afed32c"
    },
    {
      "cell_type": "markdown",
      "source": [
        "Гипотеза о том, что временной ряд нестационарен - подтвердилась, т.к. p-value > 0.05."
      ],
      "metadata": {
        "id": "6a6c5d85-5bd2-4c2d-8c96-c0f13e2575e0"
      },
      "id": "6a6c5d85-5bd2-4c2d-8c96-c0f13e2575e0"
    },
    {
      "cell_type": "markdown",
      "source": [
        "### Дифферинцирование"
      ],
      "metadata": {
        "papermill": {
          "duration": 0.050651,
          "end_time": "2023-05-19T11:08:01.029525",
          "exception": false,
          "start_time": "2023-05-19T11:08:00.978874",
          "status": "completed"
        },
        "pycharm": {
          "name": "#%% md\n"
        },
        "tags": [],
        "id": "4f46f628"
      },
      "id": "4f46f628"
    },
    {
      "cell_type": "code",
      "source": [
        "train_df['diff_sales'] = train_df['sales'].diff(1)\n",
        "train_df = train_df.dropna()"
      ],
      "metadata": {
        "papermill": {
          "duration": 0.05029,
          "end_time": "2023-05-19T11:08:01.113027",
          "exception": false,
          "start_time": "2023-05-19T11:08:01.062737",
          "status": "completed"
        },
        "pycharm": {
          "name": "#%%\n"
        },
        "tags": [],
        "trusted": true,
        "id": "4ddc42d5"
      },
      "execution_count": 37,
      "outputs": [],
      "id": "4ddc42d5"
    },
    {
      "cell_type": "code",
      "source": [
        "# Проверим стационарность на тесте Дики-Фуллера\n",
        "adf_result = adfuller(train_df['diff_sales'])\n",
        "print(f'p-value:{adf_result[1]}')\n"
      ],
      "metadata": {
        "papermill": {
          "duration": 0.12599,
          "end_time": "2023-05-19T11:08:01.273058",
          "exception": false,
          "start_time": "2023-05-19T11:08:01.147068",
          "status": "completed"
        },
        "pycharm": {
          "name": "#%%\n"
        },
        "tags": [],
        "trusted": true,
        "id": "f74a1622",
        "outputId": "c2a35db2-ccb8-4c3a-e7d4-040427b151fc",
        "colab": {
          "base_uri": "https://localhost:8080/"
        }
      },
      "execution_count": 38,
      "outputs": [
        {
          "output_type": "stream",
          "name": "stdout",
          "text": [
            "p-value:4.573768417346642e-21\n"
          ]
        }
      ],
      "id": "f74a1622"
    },
    {
      "cell_type": "markdown",
      "source": [
        "### ARIMA Model"
      ],
      "metadata": {
        "papermill": {
          "duration": 0.058785,
          "end_time": "2023-05-19T11:08:01.401437",
          "exception": false,
          "start_time": "2023-05-19T11:08:01.342652",
          "status": "completed"
        },
        "pycharm": {
          "name": "#%% md\n"
        },
        "tags": [],
        "id": "4489b0b6"
      },
      "id": "4489b0b6"
    },
    {
      "cell_type": "code",
      "source": [
        "arima_model = ARIMA(train_df['diff_sales'], order=(2, 1, 1)).fit()\n",
        "arima_model.summary()"
      ],
      "metadata": {
        "execution": {
          "iopub.execute_input": "2023-05-19T11:08:02.287074Z",
          "iopub.status.busy": "2023-05-19T11:08:02.286561Z",
          "iopub.status.idle": "2023-05-19T11:08:03.071033Z",
          "shell.execute_reply": "2023-05-19T11:08:03.069442Z"
        },
        "papermill": {
          "duration": 0.826325,
          "end_time": "2023-05-19T11:08:03.076769",
          "exception": false,
          "start_time": "2023-05-19T11:08:02.250444",
          "status": "completed"
        },
        "pycharm": {
          "name": "#%%\n"
        },
        "tags": [],
        "id": "4f619333",
        "outputId": "de468758-2e96-4eaa-8f76-8a6afed8b495",
        "colab": {
          "base_uri": "https://localhost:8080/",
          "height": 593
        }
      },
      "execution_count": 39,
      "outputs": [
        {
          "output_type": "stream",
          "name": "stderr",
          "text": [
            "/usr/local/lib/python3.10/dist-packages/statsmodels/tsa/base/tsa_model.py:471: ValueWarning: A date index has been provided, but it has no associated frequency information and so will be ignored when e.g. forecasting.\n",
            "  self._init_dates(dates, freq)\n",
            "/usr/local/lib/python3.10/dist-packages/statsmodels/tsa/base/tsa_model.py:471: ValueWarning: A date index has been provided, but it has no associated frequency information and so will be ignored when e.g. forecasting.\n",
            "  self._init_dates(dates, freq)\n",
            "/usr/local/lib/python3.10/dist-packages/statsmodels/tsa/base/tsa_model.py:471: ValueWarning: A date index has been provided, but it has no associated frequency information and so will be ignored when e.g. forecasting.\n",
            "  self._init_dates(dates, freq)\n"
          ]
        },
        {
          "output_type": "execute_result",
          "data": {
            "text/plain": [
              "<class 'statsmodels.iolib.summary.Summary'>\n",
              "\"\"\"\n",
              "                               SARIMAX Results                                \n",
              "==============================================================================\n",
              "Dep. Variable:             diff_sales   No. Observations:                 1683\n",
              "Model:                 ARIMA(2, 1, 1)   Log Likelihood              -22481.364\n",
              "Date:                Wed, 24 May 2023   AIC                          44970.727\n",
              "Time:                        12:06:21   BIC                          44992.438\n",
              "Sample:                             0   HQIC                         44978.769\n",
              "                               - 1683                                         \n",
              "Covariance Type:                  opg                                         \n",
              "==============================================================================\n",
              "                 coef    std err          z      P>|z|      [0.025      0.975]\n",
              "------------------------------------------------------------------------------\n",
              "ar.L1         -0.0848      0.023     -3.693      0.000      -0.130      -0.040\n",
              "ar.L2         -0.3752      0.025    -14.764      0.000      -0.425      -0.325\n",
              "ma.L1         -0.9993      0.032    -31.069      0.000      -1.062      -0.936\n",
              "sigma2      3.382e+10   7.15e-13   4.73e+22      0.000    3.38e+10    3.38e+10\n",
              "===================================================================================\n",
              "Ljung-Box (L1) (Q):                   3.10   Jarque-Bera (JB):              3003.26\n",
              "Prob(Q):                              0.08   Prob(JB):                         0.00\n",
              "Heteroskedasticity (H):               2.96   Skew:                             0.38\n",
              "Prob(H) (two-sided):                  0.00   Kurtosis:                         9.50\n",
              "===================================================================================\n",
              "\n",
              "Warnings:\n",
              "[1] Covariance matrix calculated using the outer product of gradients (complex-step).\n",
              "[2] Covariance matrix is singular or near-singular, with condition number 4.35e+37. Standard errors may be unstable.\n",
              "\"\"\""
            ],
            "text/html": [
              "<table class=\"simpletable\">\n",
              "<caption>SARIMAX Results</caption>\n",
              "<tr>\n",
              "  <th>Dep. Variable:</th>      <td>diff_sales</td>    <th>  No. Observations:  </th>    <td>1683</td>   \n",
              "</tr>\n",
              "<tr>\n",
              "  <th>Model:</th>            <td>ARIMA(2, 1, 1)</td>  <th>  Log Likelihood     </th> <td>-22481.364</td>\n",
              "</tr>\n",
              "<tr>\n",
              "  <th>Date:</th>            <td>Wed, 24 May 2023</td> <th>  AIC                </th>  <td>44970.727</td>\n",
              "</tr>\n",
              "<tr>\n",
              "  <th>Time:</th>                <td>12:06:21</td>     <th>  BIC                </th>  <td>44992.438</td>\n",
              "</tr>\n",
              "<tr>\n",
              "  <th>Sample:</th>                  <td>0</td>        <th>  HQIC               </th>  <td>44978.769</td>\n",
              "</tr>\n",
              "<tr>\n",
              "  <th></th>                      <td> - 1683</td>     <th>                     </th>      <td> </td>    \n",
              "</tr>\n",
              "<tr>\n",
              "  <th>Covariance Type:</th>        <td>opg</td>       <th>                     </th>      <td> </td>    \n",
              "</tr>\n",
              "</table>\n",
              "<table class=\"simpletable\">\n",
              "<tr>\n",
              "     <td></td>       <th>coef</th>     <th>std err</th>      <th>z</th>      <th>P>|z|</th>  <th>[0.025</th>    <th>0.975]</th>  \n",
              "</tr>\n",
              "<tr>\n",
              "  <th>ar.L1</th>  <td>   -0.0848</td> <td>    0.023</td> <td>   -3.693</td> <td> 0.000</td> <td>   -0.130</td> <td>   -0.040</td>\n",
              "</tr>\n",
              "<tr>\n",
              "  <th>ar.L2</th>  <td>   -0.3752</td> <td>    0.025</td> <td>  -14.764</td> <td> 0.000</td> <td>   -0.425</td> <td>   -0.325</td>\n",
              "</tr>\n",
              "<tr>\n",
              "  <th>ma.L1</th>  <td>   -0.9993</td> <td>    0.032</td> <td>  -31.069</td> <td> 0.000</td> <td>   -1.062</td> <td>   -0.936</td>\n",
              "</tr>\n",
              "<tr>\n",
              "  <th>sigma2</th> <td> 3.382e+10</td> <td> 7.15e-13</td> <td> 4.73e+22</td> <td> 0.000</td> <td> 3.38e+10</td> <td> 3.38e+10</td>\n",
              "</tr>\n",
              "</table>\n",
              "<table class=\"simpletable\">\n",
              "<tr>\n",
              "  <th>Ljung-Box (L1) (Q):</th>     <td>3.10</td> <th>  Jarque-Bera (JB):  </th> <td>3003.26</td>\n",
              "</tr>\n",
              "<tr>\n",
              "  <th>Prob(Q):</th>                <td>0.08</td> <th>  Prob(JB):          </th>  <td>0.00</td>  \n",
              "</tr>\n",
              "<tr>\n",
              "  <th>Heteroskedasticity (H):</th> <td>2.96</td> <th>  Skew:              </th>  <td>0.38</td>  \n",
              "</tr>\n",
              "<tr>\n",
              "  <th>Prob(H) (two-sided):</th>    <td>0.00</td> <th>  Kurtosis:          </th>  <td>9.50</td>  \n",
              "</tr>\n",
              "</table><br/><br/>Warnings:<br/>[1] Covariance matrix calculated using the outer product of gradients (complex-step).<br/>[2] Covariance matrix is singular or near-singular, with condition number 4.35e+37. Standard errors may be unstable."
            ]
          },
          "metadata": {},
          "execution_count": 39
        }
      ],
      "id": "4f619333"
    },
    {
      "cell_type": "markdown",
      "source": [
        "#### Построим предсказание"
      ],
      "metadata": {
        "papermill": {
          "duration": 0.035649,
          "end_time": "2023-05-19T11:08:03.156551",
          "exception": false,
          "start_time": "2023-05-19T11:08:03.120902",
          "status": "completed"
        },
        "pycharm": {
          "name": "#%% md\n"
        },
        "tags": [],
        "id": "e4cba882"
      },
      "id": "e4cba882"
    },
    {
      "cell_type": "code",
      "source": [
        "start = train_df.shape[0]\n",
        "end = train_df.shape[0] + test_df.shape[0] - 1\n",
        "prediction_value = arima_model.predict(start=start, end=end)\n",
        "prediction_value"
      ],
      "metadata": {
        "execution": {
          "iopub.execute_input": "2023-05-19T11:08:03.230849Z",
          "iopub.status.busy": "2023-05-19T11:08:03.230408Z",
          "iopub.status.idle": "2023-05-19T11:08:04.290809Z",
          "shell.execute_reply": "2023-05-19T11:08:04.289610Z"
        },
        "papermill": {
          "duration": 1.101076,
          "end_time": "2023-05-19T11:08:04.293575",
          "exception": false,
          "start_time": "2023-05-19T11:08:03.192499",
          "status": "completed"
        },
        "pycharm": {
          "name": "#%%\n"
        },
        "tags": [],
        "id": "ee00bd79",
        "outputId": "afbdc082-100c-4e7e-bc4d-c87683607f1c",
        "colab": {
          "base_uri": "https://localhost:8080/"
        }
      },
      "execution_count": 40,
      "outputs": [
        {
          "output_type": "stream",
          "name": "stderr",
          "text": [
            "/usr/local/lib/python3.10/dist-packages/statsmodels/tsa/base/tsa_model.py:834: ValueWarning: No supported index is available. Prediction results will be given with an integer index beginning at `start`.\n",
            "  return get_prediction_index(\n"
          ]
        },
        {
          "output_type": "execute_result",
          "data": {
            "text/plain": [
              "1683     39623.302086\n",
              "1684     -3529.275900\n",
              "1685    -14080.535141\n",
              "1686      3003.811429\n",
              "1687      5512.724046\n",
              "             ...     \n",
              "30190      332.273143\n",
              "30191      332.273143\n",
              "30192      332.273143\n",
              "30193      332.273143\n",
              "30194      332.273143\n",
              "Name: predicted_mean, Length: 28512, dtype: float64"
            ]
          },
          "metadata": {},
          "execution_count": 40
        }
      ],
      "id": "ee00bd79"
    },
    {
      "cell_type": "markdown",
      "source": [
        "#### Вычислим метрики ошибок"
      ],
      "metadata": {
        "papermill": {
          "duration": 0.03562,
          "end_time": "2023-05-19T11:08:04.364755",
          "exception": false,
          "start_time": "2023-05-19T11:08:04.329135",
          "status": "completed"
        },
        "tags": [],
        "id": "44fcaf0c"
      },
      "id": "44fcaf0c"
    },
    {
      "cell_type": "code",
      "source": [
        "prediction_value = prediction_value[:len(train_df['diff_sales'])]\n",
        "mae = np.mean(np.abs(prediction_value.values - train_df['diff_sales'].values))\n",
        "mse = np.mean((prediction_value.values - train_df['diff_sales'].values) ** 2)\n",
        "rmse = np.sqrt(mse)\n",
        "\n",
        "print(f'MAE: {mae}')\n",
        "print(f'MSE: {mse}')\n",
        "print(f'RMSE: {rmse}')"
      ],
      "metadata": {
        "execution": {
          "iopub.execute_input": "2023-05-19T11:08:04.440115Z",
          "iopub.status.busy": "2023-05-19T11:08:04.439600Z",
          "iopub.status.idle": "2023-05-19T11:08:04.448589Z",
          "shell.execute_reply": "2023-05-19T11:08:04.447394Z"
        },
        "papermill": {
          "duration": 0.050084,
          "end_time": "2023-05-19T11:08:04.451388",
          "exception": false,
          "start_time": "2023-05-19T11:08:04.401304",
          "status": "completed"
        },
        "pycharm": {
          "name": "#%%\n"
        },
        "tags": [],
        "id": "1054668c",
        "outputId": "cadb82f9-a537-4906-e5d5-2ea5fd23df48",
        "colab": {
          "base_uri": "https://localhost:8080/"
        }
      },
      "execution_count": 41,
      "outputs": [
        {
          "output_type": "stream",
          "name": "stdout",
          "text": [
            "MAE: 116267.21252726871\n",
            "MSE: 25537153041.30868\n",
            "RMSE: 159803.48256940048\n"
          ]
        }
      ],
      "id": "1054668c"
    }
  ]
}
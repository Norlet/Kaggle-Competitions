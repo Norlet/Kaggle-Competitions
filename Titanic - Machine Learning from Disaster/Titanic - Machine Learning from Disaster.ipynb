{
  "metadata": {
    "kernelspec": {
      "name": "python",
      "display_name": "Python (Pyodide)",
      "language": "python"
    },
    "language_info": {
      "codemirror_mode": {
        "name": "python",
        "version": 3
      },
      "file_extension": ".py",
      "mimetype": "text/x-python",
      "name": "python",
      "nbconvert_exporter": "python",
      "pygments_lexer": "ipython3",
      "version": "3.8"
    }
  },
  "nbformat_minor": 4,
  "nbformat": 4,
  "cells": [
    {
      "cell_type": "code",
      "source": "# This Python 3 environment comes with many helpful analytics libraries installed\n# It is defined by the kaggle/python Docker image: https://github.com/kaggle/docker-python\n# For example, here's several helpful packages to load\n\nimport numpy as np # linear algebra\nimport pandas as pd # data processing, CSV file I/O (e.g. pd.read_csv)\n\n# Input data files are available in the read-only \"../input/\" directory\n# For example, running this (by clicking run or pressing Shift+Enter) will list all files under the input directory\n\nimport os\nfor dirname, _, filenames in os.walk('/kaggle/input'):\n    for filename in filenames:\n        print(os.path.join(dirname, filename))\n\n# You can write up to 20GB to the current directory (/kaggle/working/) that gets preserved as output when you create a version using \"Save & Run All\" \n# You can also write temporary files to /kaggle/temp/, but they won't be saved outside of the current session",
      "metadata": {
        "_cell_guid": "b1076dfc-b9ad-4769-8c92-a6c4dae69d19",
        "_uuid": "8f2839f25d086af736a60e9eeb907d3b93b6e0e5",
        "papermill": {
          "duration": 0.031338,
          "end_time": "2023-05-08T06:58:46.155078",
          "exception": false,
          "start_time": "2023-05-08T06:58:46.123740",
          "status": "completed"
        },
        "tags": [],
        "trusted": true
      },
      "execution_count": 1,
      "outputs": []
    },
    {
      "cell_type": "code",
      "source": "import numpy as np\nimport pandas as pd\n\nimport matplotlib.pyplot as plt\nimport seaborn as sns\n\nfrom sklearn.impute import SimpleImputer\nfrom sklearn.compose import ColumnTransformer\nfrom sklearn.model_selection import train_test_split\nfrom sklearn.model_selection import cross_val_score\nfrom sklearn.preprocessing import StandardScaler, OneHotEncoder\nfrom sklearn.linear_model import LogisticRegression\n\nfrom sklearn.ensemble import RandomForestClassifier\nfrom sklearn.metrics import accuracy_score\n\nfrom sklearn.tree import DecisionTreeClassifier\n\nfrom sklearn.neighbors import KNeighborsClassifier\n",
      "metadata": {
        "papermill": {
          "duration": 2.267629,
          "end_time": "2023-05-08T06:58:48.457804",
          "exception": false,
          "start_time": "2023-05-08T06:58:46.190175",
          "status": "completed"
        },
        "tags": [],
        "trusted": true
      },
      "execution_count": 2,
      "outputs": [
        {
          "ename": "<class 'ModuleNotFoundError'>",
          "evalue": "No module named 'seaborn'",
          "traceback": [
            "\u001b[0;31m---------------------------------------------------------------------------\u001b[0m",
            "\u001b[0;31mModuleNotFoundError\u001b[0m                       Traceback (most recent call last)",
            "Cell \u001b[0;32mIn[2], line 5\u001b[0m\n\u001b[1;32m      2\u001b[0m \u001b[38;5;28;01mimport\u001b[39;00m \u001b[38;5;21;01mpandas\u001b[39;00m \u001b[38;5;28;01mas\u001b[39;00m \u001b[38;5;21;01mpd\u001b[39;00m\n\u001b[1;32m      4\u001b[0m \u001b[38;5;28;01mimport\u001b[39;00m \u001b[38;5;21;01mmatplotlib\u001b[39;00m\u001b[38;5;21;01m.\u001b[39;00m\u001b[38;5;21;01mpyplot\u001b[39;00m \u001b[38;5;28;01mas\u001b[39;00m \u001b[38;5;21;01mplt\u001b[39;00m\n\u001b[0;32m----> 5\u001b[0m \u001b[38;5;28;01mimport\u001b[39;00m \u001b[38;5;21;01mseaborn\u001b[39;00m \u001b[38;5;28;01mas\u001b[39;00m \u001b[38;5;21;01msns\u001b[39;00m\n\u001b[1;32m      7\u001b[0m \u001b[38;5;28;01mfrom\u001b[39;00m \u001b[38;5;21;01msklearn\u001b[39;00m\u001b[38;5;21;01m.\u001b[39;00m\u001b[38;5;21;01mimpute\u001b[39;00m \u001b[38;5;28;01mimport\u001b[39;00m SimpleImputer\n\u001b[1;32m      8\u001b[0m \u001b[38;5;28;01mfrom\u001b[39;00m \u001b[38;5;21;01msklearn\u001b[39;00m\u001b[38;5;21;01m.\u001b[39;00m\u001b[38;5;21;01mcompose\u001b[39;00m \u001b[38;5;28;01mimport\u001b[39;00m ColumnTransformer\n",
            "\u001b[0;31mModuleNotFoundError\u001b[0m: No module named 'seaborn'"
          ],
          "output_type": "error"
        }
      ]
    },
    {
      "cell_type": "markdown",
      "source": "# Загрузка данных",
      "metadata": {}
    },
    {
      "cell_type": "code",
      "source": "train_df = pd.read_csv(r\"C:\\Users\\Макс\\Desktop\\train.csv\")\ntrain_df.sample(10)",
      "metadata": {
        "papermill": {
          "duration": 0.085484,
          "end_time": "2023-05-08T06:58:48.577009",
          "exception": false,
          "start_time": "2023-05-08T06:58:48.491525",
          "status": "completed"
        },
        "tags": [],
        "trusted": true
      },
      "execution_count": 7,
      "outputs": [
        {
          "ename": "<class 'FileNotFoundError'>",
          "evalue": "[Errno 44] No such file or directory: 'C:\\\\Users\\\\Макс\\\\Desktop\\\\train.csv'",
          "traceback": [
            "\u001b[0;31m---------------------------------------------------------------------------\u001b[0m",
            "\u001b[0;31mFileNotFoundError\u001b[0m                         Traceback (most recent call last)",
            "Cell \u001b[0;32mIn[7], line 1\u001b[0m\n\u001b[0;32m----> 1\u001b[0m train_df \u001b[38;5;241m=\u001b[39m \u001b[43mpd\u001b[49m\u001b[38;5;241;43m.\u001b[39;49m\u001b[43mread_csv\u001b[49m\u001b[43m(\u001b[49m\u001b[38;5;124;43mr\u001b[39;49m\u001b[38;5;124;43m\"\u001b[39;49m\u001b[38;5;124;43mC:\u001b[39;49m\u001b[38;5;124;43m\\\u001b[39;49m\u001b[38;5;124;43mUsers\u001b[39;49m\u001b[38;5;124;43m\\\u001b[39;49m\u001b[38;5;124;43mМакс\u001b[39;49m\u001b[38;5;124;43m\\\u001b[39;49m\u001b[38;5;124;43mDesktop\u001b[39;49m\u001b[38;5;124;43m\\\u001b[39;49m\u001b[38;5;124;43mtrain.csv\u001b[39;49m\u001b[38;5;124;43m\"\u001b[39;49m\u001b[43m)\u001b[49m\n\u001b[1;32m      2\u001b[0m train_df\u001b[38;5;241m.\u001b[39msample(\u001b[38;5;241m10\u001b[39m)\n",
            "File \u001b[0;32m/lib/python3.11/site-packages/pandas/util/_decorators.py:211\u001b[0m, in \u001b[0;36mdeprecate_kwarg.<locals>._deprecate_kwarg.<locals>.wrapper\u001b[0;34m(*args, **kwargs)\u001b[0m\n\u001b[1;32m    209\u001b[0m     \u001b[38;5;28;01melse\u001b[39;00m:\n\u001b[1;32m    210\u001b[0m         kwargs[new_arg_name] \u001b[38;5;241m=\u001b[39m new_arg_value\n\u001b[0;32m--> 211\u001b[0m \u001b[38;5;28;01mreturn\u001b[39;00m \u001b[43mfunc\u001b[49m\u001b[43m(\u001b[49m\u001b[38;5;241;43m*\u001b[39;49m\u001b[43margs\u001b[49m\u001b[43m,\u001b[49m\u001b[43m \u001b[49m\u001b[38;5;241;43m*\u001b[39;49m\u001b[38;5;241;43m*\u001b[39;49m\u001b[43mkwargs\u001b[49m\u001b[43m)\u001b[49m\n",
            "File \u001b[0;32m/lib/python3.11/site-packages/pandas/util/_decorators.py:331\u001b[0m, in \u001b[0;36mdeprecate_nonkeyword_arguments.<locals>.decorate.<locals>.wrapper\u001b[0;34m(*args, **kwargs)\u001b[0m\n\u001b[1;32m    325\u001b[0m \u001b[38;5;28;01mif\u001b[39;00m \u001b[38;5;28mlen\u001b[39m(args) \u001b[38;5;241m>\u001b[39m num_allow_args:\n\u001b[1;32m    326\u001b[0m     warnings\u001b[38;5;241m.\u001b[39mwarn(\n\u001b[1;32m    327\u001b[0m         msg\u001b[38;5;241m.\u001b[39mformat(arguments\u001b[38;5;241m=\u001b[39m_format_argument_list(allow_args)),\n\u001b[1;32m    328\u001b[0m         \u001b[38;5;167;01mFutureWarning\u001b[39;00m,\n\u001b[1;32m    329\u001b[0m         stacklevel\u001b[38;5;241m=\u001b[39mfind_stack_level(),\n\u001b[1;32m    330\u001b[0m     )\n\u001b[0;32m--> 331\u001b[0m \u001b[38;5;28;01mreturn\u001b[39;00m \u001b[43mfunc\u001b[49m\u001b[43m(\u001b[49m\u001b[38;5;241;43m*\u001b[39;49m\u001b[43margs\u001b[49m\u001b[43m,\u001b[49m\u001b[43m \u001b[49m\u001b[38;5;241;43m*\u001b[39;49m\u001b[38;5;241;43m*\u001b[39;49m\u001b[43mkwargs\u001b[49m\u001b[43m)\u001b[49m\n",
            "File \u001b[0;32m/lib/python3.11/site-packages/pandas/io/parsers/readers.py:950\u001b[0m, in \u001b[0;36mread_csv\u001b[0;34m(filepath_or_buffer, sep, delimiter, header, names, index_col, usecols, squeeze, prefix, mangle_dupe_cols, dtype, engine, converters, true_values, false_values, skipinitialspace, skiprows, skipfooter, nrows, na_values, keep_default_na, na_filter, verbose, skip_blank_lines, parse_dates, infer_datetime_format, keep_date_col, date_parser, dayfirst, cache_dates, iterator, chunksize, compression, thousands, decimal, lineterminator, quotechar, quoting, doublequote, escapechar, comment, encoding, encoding_errors, dialect, error_bad_lines, warn_bad_lines, on_bad_lines, delim_whitespace, low_memory, memory_map, float_precision, storage_options)\u001b[0m\n\u001b[1;32m    935\u001b[0m kwds_defaults \u001b[38;5;241m=\u001b[39m _refine_defaults_read(\n\u001b[1;32m    936\u001b[0m     dialect,\n\u001b[1;32m    937\u001b[0m     delimiter,\n\u001b[0;32m   (...)\u001b[0m\n\u001b[1;32m    946\u001b[0m     defaults\u001b[38;5;241m=\u001b[39m{\u001b[38;5;124m\"\u001b[39m\u001b[38;5;124mdelimiter\u001b[39m\u001b[38;5;124m\"\u001b[39m: \u001b[38;5;124m\"\u001b[39m\u001b[38;5;124m,\u001b[39m\u001b[38;5;124m\"\u001b[39m},\n\u001b[1;32m    947\u001b[0m )\n\u001b[1;32m    948\u001b[0m kwds\u001b[38;5;241m.\u001b[39mupdate(kwds_defaults)\n\u001b[0;32m--> 950\u001b[0m \u001b[38;5;28;01mreturn\u001b[39;00m \u001b[43m_read\u001b[49m\u001b[43m(\u001b[49m\u001b[43mfilepath_or_buffer\u001b[49m\u001b[43m,\u001b[49m\u001b[43m \u001b[49m\u001b[43mkwds\u001b[49m\u001b[43m)\u001b[49m\n",
            "File \u001b[0;32m/lib/python3.11/site-packages/pandas/io/parsers/readers.py:605\u001b[0m, in \u001b[0;36m_read\u001b[0;34m(filepath_or_buffer, kwds)\u001b[0m\n\u001b[1;32m    602\u001b[0m _validate_names(kwds\u001b[38;5;241m.\u001b[39mget(\u001b[38;5;124m\"\u001b[39m\u001b[38;5;124mnames\u001b[39m\u001b[38;5;124m\"\u001b[39m, \u001b[38;5;28;01mNone\u001b[39;00m))\n\u001b[1;32m    604\u001b[0m \u001b[38;5;66;03m# Create the parser.\u001b[39;00m\n\u001b[0;32m--> 605\u001b[0m parser \u001b[38;5;241m=\u001b[39m \u001b[43mTextFileReader\u001b[49m\u001b[43m(\u001b[49m\u001b[43mfilepath_or_buffer\u001b[49m\u001b[43m,\u001b[49m\u001b[43m \u001b[49m\u001b[38;5;241;43m*\u001b[39;49m\u001b[38;5;241;43m*\u001b[39;49m\u001b[43mkwds\u001b[49m\u001b[43m)\u001b[49m\n\u001b[1;32m    607\u001b[0m \u001b[38;5;28;01mif\u001b[39;00m chunksize \u001b[38;5;129;01mor\u001b[39;00m iterator:\n\u001b[1;32m    608\u001b[0m     \u001b[38;5;28;01mreturn\u001b[39;00m parser\n",
            "File \u001b[0;32m/lib/python3.11/site-packages/pandas/io/parsers/readers.py:1442\u001b[0m, in \u001b[0;36mTextFileReader.__init__\u001b[0;34m(self, f, engine, **kwds)\u001b[0m\n\u001b[1;32m   1439\u001b[0m     \u001b[38;5;28mself\u001b[39m\u001b[38;5;241m.\u001b[39moptions[\u001b[38;5;124m\"\u001b[39m\u001b[38;5;124mhas_index_names\u001b[39m\u001b[38;5;124m\"\u001b[39m] \u001b[38;5;241m=\u001b[39m kwds[\u001b[38;5;124m\"\u001b[39m\u001b[38;5;124mhas_index_names\u001b[39m\u001b[38;5;124m\"\u001b[39m]\n\u001b[1;32m   1441\u001b[0m \u001b[38;5;28mself\u001b[39m\u001b[38;5;241m.\u001b[39mhandles: IOHandles \u001b[38;5;241m|\u001b[39m \u001b[38;5;28;01mNone\u001b[39;00m \u001b[38;5;241m=\u001b[39m \u001b[38;5;28;01mNone\u001b[39;00m\n\u001b[0;32m-> 1442\u001b[0m \u001b[38;5;28mself\u001b[39m\u001b[38;5;241m.\u001b[39m_engine \u001b[38;5;241m=\u001b[39m \u001b[38;5;28;43mself\u001b[39;49m\u001b[38;5;241;43m.\u001b[39;49m\u001b[43m_make_engine\u001b[49m\u001b[43m(\u001b[49m\u001b[43mf\u001b[49m\u001b[43m,\u001b[49m\u001b[43m \u001b[49m\u001b[38;5;28;43mself\u001b[39;49m\u001b[38;5;241;43m.\u001b[39;49m\u001b[43mengine\u001b[49m\u001b[43m)\u001b[49m\n",
            "File \u001b[0;32m/lib/python3.11/site-packages/pandas/io/parsers/readers.py:1735\u001b[0m, in \u001b[0;36mTextFileReader._make_engine\u001b[0;34m(self, f, engine)\u001b[0m\n\u001b[1;32m   1733\u001b[0m     \u001b[38;5;28;01mif\u001b[39;00m \u001b[38;5;124m\"\u001b[39m\u001b[38;5;124mb\u001b[39m\u001b[38;5;124m\"\u001b[39m \u001b[38;5;129;01mnot\u001b[39;00m \u001b[38;5;129;01min\u001b[39;00m mode:\n\u001b[1;32m   1734\u001b[0m         mode \u001b[38;5;241m+\u001b[39m\u001b[38;5;241m=\u001b[39m \u001b[38;5;124m\"\u001b[39m\u001b[38;5;124mb\u001b[39m\u001b[38;5;124m\"\u001b[39m\n\u001b[0;32m-> 1735\u001b[0m \u001b[38;5;28mself\u001b[39m\u001b[38;5;241m.\u001b[39mhandles \u001b[38;5;241m=\u001b[39m \u001b[43mget_handle\u001b[49m\u001b[43m(\u001b[49m\n\u001b[1;32m   1736\u001b[0m \u001b[43m    \u001b[49m\u001b[43mf\u001b[49m\u001b[43m,\u001b[49m\n\u001b[1;32m   1737\u001b[0m \u001b[43m    \u001b[49m\u001b[43mmode\u001b[49m\u001b[43m,\u001b[49m\n\u001b[1;32m   1738\u001b[0m \u001b[43m    \u001b[49m\u001b[43mencoding\u001b[49m\u001b[38;5;241;43m=\u001b[39;49m\u001b[38;5;28;43mself\u001b[39;49m\u001b[38;5;241;43m.\u001b[39;49m\u001b[43moptions\u001b[49m\u001b[38;5;241;43m.\u001b[39;49m\u001b[43mget\u001b[49m\u001b[43m(\u001b[49m\u001b[38;5;124;43m\"\u001b[39;49m\u001b[38;5;124;43mencoding\u001b[39;49m\u001b[38;5;124;43m\"\u001b[39;49m\u001b[43m,\u001b[49m\u001b[43m \u001b[49m\u001b[38;5;28;43;01mNone\u001b[39;49;00m\u001b[43m)\u001b[49m\u001b[43m,\u001b[49m\n\u001b[1;32m   1739\u001b[0m \u001b[43m    \u001b[49m\u001b[43mcompression\u001b[49m\u001b[38;5;241;43m=\u001b[39;49m\u001b[38;5;28;43mself\u001b[39;49m\u001b[38;5;241;43m.\u001b[39;49m\u001b[43moptions\u001b[49m\u001b[38;5;241;43m.\u001b[39;49m\u001b[43mget\u001b[49m\u001b[43m(\u001b[49m\u001b[38;5;124;43m\"\u001b[39;49m\u001b[38;5;124;43mcompression\u001b[39;49m\u001b[38;5;124;43m\"\u001b[39;49m\u001b[43m,\u001b[49m\u001b[43m \u001b[49m\u001b[38;5;28;43;01mNone\u001b[39;49;00m\u001b[43m)\u001b[49m\u001b[43m,\u001b[49m\n\u001b[1;32m   1740\u001b[0m \u001b[43m    \u001b[49m\u001b[43mmemory_map\u001b[49m\u001b[38;5;241;43m=\u001b[39;49m\u001b[38;5;28;43mself\u001b[39;49m\u001b[38;5;241;43m.\u001b[39;49m\u001b[43moptions\u001b[49m\u001b[38;5;241;43m.\u001b[39;49m\u001b[43mget\u001b[49m\u001b[43m(\u001b[49m\u001b[38;5;124;43m\"\u001b[39;49m\u001b[38;5;124;43mmemory_map\u001b[39;49m\u001b[38;5;124;43m\"\u001b[39;49m\u001b[43m,\u001b[49m\u001b[43m \u001b[49m\u001b[38;5;28;43;01mFalse\u001b[39;49;00m\u001b[43m)\u001b[49m\u001b[43m,\u001b[49m\n\u001b[1;32m   1741\u001b[0m \u001b[43m    \u001b[49m\u001b[43mis_text\u001b[49m\u001b[38;5;241;43m=\u001b[39;49m\u001b[43mis_text\u001b[49m\u001b[43m,\u001b[49m\n\u001b[1;32m   1742\u001b[0m \u001b[43m    \u001b[49m\u001b[43merrors\u001b[49m\u001b[38;5;241;43m=\u001b[39;49m\u001b[38;5;28;43mself\u001b[39;49m\u001b[38;5;241;43m.\u001b[39;49m\u001b[43moptions\u001b[49m\u001b[38;5;241;43m.\u001b[39;49m\u001b[43mget\u001b[49m\u001b[43m(\u001b[49m\u001b[38;5;124;43m\"\u001b[39;49m\u001b[38;5;124;43mencoding_errors\u001b[39;49m\u001b[38;5;124;43m\"\u001b[39;49m\u001b[43m,\u001b[49m\u001b[43m \u001b[49m\u001b[38;5;124;43m\"\u001b[39;49m\u001b[38;5;124;43mstrict\u001b[39;49m\u001b[38;5;124;43m\"\u001b[39;49m\u001b[43m)\u001b[49m\u001b[43m,\u001b[49m\n\u001b[1;32m   1743\u001b[0m \u001b[43m    \u001b[49m\u001b[43mstorage_options\u001b[49m\u001b[38;5;241;43m=\u001b[39;49m\u001b[38;5;28;43mself\u001b[39;49m\u001b[38;5;241;43m.\u001b[39;49m\u001b[43moptions\u001b[49m\u001b[38;5;241;43m.\u001b[39;49m\u001b[43mget\u001b[49m\u001b[43m(\u001b[49m\u001b[38;5;124;43m\"\u001b[39;49m\u001b[38;5;124;43mstorage_options\u001b[39;49m\u001b[38;5;124;43m\"\u001b[39;49m\u001b[43m,\u001b[49m\u001b[43m \u001b[49m\u001b[38;5;28;43;01mNone\u001b[39;49;00m\u001b[43m)\u001b[49m\u001b[43m,\u001b[49m\n\u001b[1;32m   1744\u001b[0m \u001b[43m\u001b[49m\u001b[43m)\u001b[49m\n\u001b[1;32m   1745\u001b[0m \u001b[38;5;28;01massert\u001b[39;00m \u001b[38;5;28mself\u001b[39m\u001b[38;5;241m.\u001b[39mhandles \u001b[38;5;129;01mis\u001b[39;00m \u001b[38;5;129;01mnot\u001b[39;00m \u001b[38;5;28;01mNone\u001b[39;00m\n\u001b[1;32m   1746\u001b[0m f \u001b[38;5;241m=\u001b[39m \u001b[38;5;28mself\u001b[39m\u001b[38;5;241m.\u001b[39mhandles\u001b[38;5;241m.\u001b[39mhandle\n",
            "File \u001b[0;32m/lib/python3.11/site-packages/pandas/io/common.py:856\u001b[0m, in \u001b[0;36mget_handle\u001b[0;34m(path_or_buf, mode, encoding, compression, memory_map, is_text, errors, storage_options)\u001b[0m\n\u001b[1;32m    851\u001b[0m \u001b[38;5;28;01melif\u001b[39;00m \u001b[38;5;28misinstance\u001b[39m(handle, \u001b[38;5;28mstr\u001b[39m):\n\u001b[1;32m    852\u001b[0m     \u001b[38;5;66;03m# Check whether the filename is to be opened in binary mode.\u001b[39;00m\n\u001b[1;32m    853\u001b[0m     \u001b[38;5;66;03m# Binary mode does not support 'encoding' and 'newline'.\u001b[39;00m\n\u001b[1;32m    854\u001b[0m     \u001b[38;5;28;01mif\u001b[39;00m ioargs\u001b[38;5;241m.\u001b[39mencoding \u001b[38;5;129;01mand\u001b[39;00m \u001b[38;5;124m\"\u001b[39m\u001b[38;5;124mb\u001b[39m\u001b[38;5;124m\"\u001b[39m \u001b[38;5;129;01mnot\u001b[39;00m \u001b[38;5;129;01min\u001b[39;00m ioargs\u001b[38;5;241m.\u001b[39mmode:\n\u001b[1;32m    855\u001b[0m         \u001b[38;5;66;03m# Encoding\u001b[39;00m\n\u001b[0;32m--> 856\u001b[0m         handle \u001b[38;5;241m=\u001b[39m \u001b[38;5;28;43mopen\u001b[39;49m\u001b[43m(\u001b[49m\n\u001b[1;32m    857\u001b[0m \u001b[43m            \u001b[49m\u001b[43mhandle\u001b[49m\u001b[43m,\u001b[49m\n\u001b[1;32m    858\u001b[0m \u001b[43m            \u001b[49m\u001b[43mioargs\u001b[49m\u001b[38;5;241;43m.\u001b[39;49m\u001b[43mmode\u001b[49m\u001b[43m,\u001b[49m\n\u001b[1;32m    859\u001b[0m \u001b[43m            \u001b[49m\u001b[43mencoding\u001b[49m\u001b[38;5;241;43m=\u001b[39;49m\u001b[43mioargs\u001b[49m\u001b[38;5;241;43m.\u001b[39;49m\u001b[43mencoding\u001b[49m\u001b[43m,\u001b[49m\n\u001b[1;32m    860\u001b[0m \u001b[43m            \u001b[49m\u001b[43merrors\u001b[49m\u001b[38;5;241;43m=\u001b[39;49m\u001b[43merrors\u001b[49m\u001b[43m,\u001b[49m\n\u001b[1;32m    861\u001b[0m \u001b[43m            \u001b[49m\u001b[43mnewline\u001b[49m\u001b[38;5;241;43m=\u001b[39;49m\u001b[38;5;124;43m\"\u001b[39;49m\u001b[38;5;124;43m\"\u001b[39;49m\u001b[43m,\u001b[49m\n\u001b[1;32m    862\u001b[0m \u001b[43m        \u001b[49m\u001b[43m)\u001b[49m\n\u001b[1;32m    863\u001b[0m     \u001b[38;5;28;01melse\u001b[39;00m:\n\u001b[1;32m    864\u001b[0m         \u001b[38;5;66;03m# Binary mode\u001b[39;00m\n\u001b[1;32m    865\u001b[0m         handle \u001b[38;5;241m=\u001b[39m \u001b[38;5;28mopen\u001b[39m(handle, ioargs\u001b[38;5;241m.\u001b[39mmode)\n",
            "\u001b[0;31mFileNotFoundError\u001b[0m: [Errno 44] No such file or directory: 'C:\\\\Users\\\\Макс\\\\Desktop\\\\train.csv'"
          ],
          "output_type": "error"
        }
      ]
    },
    {
      "cell_type": "code",
      "source": "train_df.info()",
      "metadata": {
        "papermill": {
          "duration": 0.046689,
          "end_time": "2023-05-08T06:58:48.637705",
          "exception": false,
          "start_time": "2023-05-08T06:58:48.591016",
          "status": "completed"
        },
        "tags": [],
        "execution": {
          "iopub.status.busy": "2023-05-12T16:08:00.467289Z",
          "iopub.execute_input": "2023-05-12T16:08:00.467753Z",
          "iopub.status.idle": "2023-05-12T16:08:00.487151Z",
          "shell.execute_reply.started": "2023-05-12T16:08:00.467718Z",
          "shell.execute_reply": "2023-05-12T16:08:00.485633Z"
        },
        "trusted": true
      },
      "execution_count": null,
      "outputs": []
    },
    {
      "cell_type": "code",
      "source": "test_df= pd.read_csv(r\"C:\\Users\\Макс\\Desktop\\test.csv\")\ntest_df.head()",
      "metadata": {
        "papermill": {
          "duration": 0.041674,
          "end_time": "2023-05-08T06:58:48.692090",
          "exception": false,
          "start_time": "2023-05-08T06:58:48.650416",
          "status": "completed"
        },
        "tags": [],
        "trusted": true
      },
      "execution_count": 8,
      "outputs": [
        {
          "ename": "<class 'FileNotFoundError'>",
          "evalue": "[Errno 44] No such file or directory: 'C:\\\\Users\\\\Макс\\\\Desktop\\\\test.csv'",
          "traceback": [
            "\u001b[0;31m---------------------------------------------------------------------------\u001b[0m",
            "\u001b[0;31mFileNotFoundError\u001b[0m                         Traceback (most recent call last)",
            "Cell \u001b[0;32mIn[8], line 1\u001b[0m\n\u001b[0;32m----> 1\u001b[0m test_df\u001b[38;5;241m=\u001b[39m \u001b[43mpd\u001b[49m\u001b[38;5;241;43m.\u001b[39;49m\u001b[43mread_csv\u001b[49m\u001b[43m(\u001b[49m\u001b[38;5;124;43mr\u001b[39;49m\u001b[38;5;124;43m\"\u001b[39;49m\u001b[38;5;124;43mC:\u001b[39;49m\u001b[38;5;124;43m\\\u001b[39;49m\u001b[38;5;124;43mUsers\u001b[39;49m\u001b[38;5;124;43m\\\u001b[39;49m\u001b[38;5;124;43mМакс\u001b[39;49m\u001b[38;5;124;43m\\\u001b[39;49m\u001b[38;5;124;43mDesktop\u001b[39;49m\u001b[38;5;124;43m\\\u001b[39;49m\u001b[38;5;124;43mtest.csv\u001b[39;49m\u001b[38;5;124;43m\"\u001b[39;49m\u001b[43m)\u001b[49m\n\u001b[1;32m      2\u001b[0m test_df\u001b[38;5;241m.\u001b[39mhead()\n",
            "File \u001b[0;32m/lib/python3.11/site-packages/pandas/util/_decorators.py:211\u001b[0m, in \u001b[0;36mdeprecate_kwarg.<locals>._deprecate_kwarg.<locals>.wrapper\u001b[0;34m(*args, **kwargs)\u001b[0m\n\u001b[1;32m    209\u001b[0m     \u001b[38;5;28;01melse\u001b[39;00m:\n\u001b[1;32m    210\u001b[0m         kwargs[new_arg_name] \u001b[38;5;241m=\u001b[39m new_arg_value\n\u001b[0;32m--> 211\u001b[0m \u001b[38;5;28;01mreturn\u001b[39;00m \u001b[43mfunc\u001b[49m\u001b[43m(\u001b[49m\u001b[38;5;241;43m*\u001b[39;49m\u001b[43margs\u001b[49m\u001b[43m,\u001b[49m\u001b[43m \u001b[49m\u001b[38;5;241;43m*\u001b[39;49m\u001b[38;5;241;43m*\u001b[39;49m\u001b[43mkwargs\u001b[49m\u001b[43m)\u001b[49m\n",
            "File \u001b[0;32m/lib/python3.11/site-packages/pandas/util/_decorators.py:331\u001b[0m, in \u001b[0;36mdeprecate_nonkeyword_arguments.<locals>.decorate.<locals>.wrapper\u001b[0;34m(*args, **kwargs)\u001b[0m\n\u001b[1;32m    325\u001b[0m \u001b[38;5;28;01mif\u001b[39;00m \u001b[38;5;28mlen\u001b[39m(args) \u001b[38;5;241m>\u001b[39m num_allow_args:\n\u001b[1;32m    326\u001b[0m     warnings\u001b[38;5;241m.\u001b[39mwarn(\n\u001b[1;32m    327\u001b[0m         msg\u001b[38;5;241m.\u001b[39mformat(arguments\u001b[38;5;241m=\u001b[39m_format_argument_list(allow_args)),\n\u001b[1;32m    328\u001b[0m         \u001b[38;5;167;01mFutureWarning\u001b[39;00m,\n\u001b[1;32m    329\u001b[0m         stacklevel\u001b[38;5;241m=\u001b[39mfind_stack_level(),\n\u001b[1;32m    330\u001b[0m     )\n\u001b[0;32m--> 331\u001b[0m \u001b[38;5;28;01mreturn\u001b[39;00m \u001b[43mfunc\u001b[49m\u001b[43m(\u001b[49m\u001b[38;5;241;43m*\u001b[39;49m\u001b[43margs\u001b[49m\u001b[43m,\u001b[49m\u001b[43m \u001b[49m\u001b[38;5;241;43m*\u001b[39;49m\u001b[38;5;241;43m*\u001b[39;49m\u001b[43mkwargs\u001b[49m\u001b[43m)\u001b[49m\n",
            "File \u001b[0;32m/lib/python3.11/site-packages/pandas/io/parsers/readers.py:950\u001b[0m, in \u001b[0;36mread_csv\u001b[0;34m(filepath_or_buffer, sep, delimiter, header, names, index_col, usecols, squeeze, prefix, mangle_dupe_cols, dtype, engine, converters, true_values, false_values, skipinitialspace, skiprows, skipfooter, nrows, na_values, keep_default_na, na_filter, verbose, skip_blank_lines, parse_dates, infer_datetime_format, keep_date_col, date_parser, dayfirst, cache_dates, iterator, chunksize, compression, thousands, decimal, lineterminator, quotechar, quoting, doublequote, escapechar, comment, encoding, encoding_errors, dialect, error_bad_lines, warn_bad_lines, on_bad_lines, delim_whitespace, low_memory, memory_map, float_precision, storage_options)\u001b[0m\n\u001b[1;32m    935\u001b[0m kwds_defaults \u001b[38;5;241m=\u001b[39m _refine_defaults_read(\n\u001b[1;32m    936\u001b[0m     dialect,\n\u001b[1;32m    937\u001b[0m     delimiter,\n\u001b[0;32m   (...)\u001b[0m\n\u001b[1;32m    946\u001b[0m     defaults\u001b[38;5;241m=\u001b[39m{\u001b[38;5;124m\"\u001b[39m\u001b[38;5;124mdelimiter\u001b[39m\u001b[38;5;124m\"\u001b[39m: \u001b[38;5;124m\"\u001b[39m\u001b[38;5;124m,\u001b[39m\u001b[38;5;124m\"\u001b[39m},\n\u001b[1;32m    947\u001b[0m )\n\u001b[1;32m    948\u001b[0m kwds\u001b[38;5;241m.\u001b[39mupdate(kwds_defaults)\n\u001b[0;32m--> 950\u001b[0m \u001b[38;5;28;01mreturn\u001b[39;00m \u001b[43m_read\u001b[49m\u001b[43m(\u001b[49m\u001b[43mfilepath_or_buffer\u001b[49m\u001b[43m,\u001b[49m\u001b[43m \u001b[49m\u001b[43mkwds\u001b[49m\u001b[43m)\u001b[49m\n",
            "File \u001b[0;32m/lib/python3.11/site-packages/pandas/io/parsers/readers.py:605\u001b[0m, in \u001b[0;36m_read\u001b[0;34m(filepath_or_buffer, kwds)\u001b[0m\n\u001b[1;32m    602\u001b[0m _validate_names(kwds\u001b[38;5;241m.\u001b[39mget(\u001b[38;5;124m\"\u001b[39m\u001b[38;5;124mnames\u001b[39m\u001b[38;5;124m\"\u001b[39m, \u001b[38;5;28;01mNone\u001b[39;00m))\n\u001b[1;32m    604\u001b[0m \u001b[38;5;66;03m# Create the parser.\u001b[39;00m\n\u001b[0;32m--> 605\u001b[0m parser \u001b[38;5;241m=\u001b[39m \u001b[43mTextFileReader\u001b[49m\u001b[43m(\u001b[49m\u001b[43mfilepath_or_buffer\u001b[49m\u001b[43m,\u001b[49m\u001b[43m \u001b[49m\u001b[38;5;241;43m*\u001b[39;49m\u001b[38;5;241;43m*\u001b[39;49m\u001b[43mkwds\u001b[49m\u001b[43m)\u001b[49m\n\u001b[1;32m    607\u001b[0m \u001b[38;5;28;01mif\u001b[39;00m chunksize \u001b[38;5;129;01mor\u001b[39;00m iterator:\n\u001b[1;32m    608\u001b[0m     \u001b[38;5;28;01mreturn\u001b[39;00m parser\n",
            "File \u001b[0;32m/lib/python3.11/site-packages/pandas/io/parsers/readers.py:1442\u001b[0m, in \u001b[0;36mTextFileReader.__init__\u001b[0;34m(self, f, engine, **kwds)\u001b[0m\n\u001b[1;32m   1439\u001b[0m     \u001b[38;5;28mself\u001b[39m\u001b[38;5;241m.\u001b[39moptions[\u001b[38;5;124m\"\u001b[39m\u001b[38;5;124mhas_index_names\u001b[39m\u001b[38;5;124m\"\u001b[39m] \u001b[38;5;241m=\u001b[39m kwds[\u001b[38;5;124m\"\u001b[39m\u001b[38;5;124mhas_index_names\u001b[39m\u001b[38;5;124m\"\u001b[39m]\n\u001b[1;32m   1441\u001b[0m \u001b[38;5;28mself\u001b[39m\u001b[38;5;241m.\u001b[39mhandles: IOHandles \u001b[38;5;241m|\u001b[39m \u001b[38;5;28;01mNone\u001b[39;00m \u001b[38;5;241m=\u001b[39m \u001b[38;5;28;01mNone\u001b[39;00m\n\u001b[0;32m-> 1442\u001b[0m \u001b[38;5;28mself\u001b[39m\u001b[38;5;241m.\u001b[39m_engine \u001b[38;5;241m=\u001b[39m \u001b[38;5;28;43mself\u001b[39;49m\u001b[38;5;241;43m.\u001b[39;49m\u001b[43m_make_engine\u001b[49m\u001b[43m(\u001b[49m\u001b[43mf\u001b[49m\u001b[43m,\u001b[49m\u001b[43m \u001b[49m\u001b[38;5;28;43mself\u001b[39;49m\u001b[38;5;241;43m.\u001b[39;49m\u001b[43mengine\u001b[49m\u001b[43m)\u001b[49m\n",
            "File \u001b[0;32m/lib/python3.11/site-packages/pandas/io/parsers/readers.py:1735\u001b[0m, in \u001b[0;36mTextFileReader._make_engine\u001b[0;34m(self, f, engine)\u001b[0m\n\u001b[1;32m   1733\u001b[0m     \u001b[38;5;28;01mif\u001b[39;00m \u001b[38;5;124m\"\u001b[39m\u001b[38;5;124mb\u001b[39m\u001b[38;5;124m\"\u001b[39m \u001b[38;5;129;01mnot\u001b[39;00m \u001b[38;5;129;01min\u001b[39;00m mode:\n\u001b[1;32m   1734\u001b[0m         mode \u001b[38;5;241m+\u001b[39m\u001b[38;5;241m=\u001b[39m \u001b[38;5;124m\"\u001b[39m\u001b[38;5;124mb\u001b[39m\u001b[38;5;124m\"\u001b[39m\n\u001b[0;32m-> 1735\u001b[0m \u001b[38;5;28mself\u001b[39m\u001b[38;5;241m.\u001b[39mhandles \u001b[38;5;241m=\u001b[39m \u001b[43mget_handle\u001b[49m\u001b[43m(\u001b[49m\n\u001b[1;32m   1736\u001b[0m \u001b[43m    \u001b[49m\u001b[43mf\u001b[49m\u001b[43m,\u001b[49m\n\u001b[1;32m   1737\u001b[0m \u001b[43m    \u001b[49m\u001b[43mmode\u001b[49m\u001b[43m,\u001b[49m\n\u001b[1;32m   1738\u001b[0m \u001b[43m    \u001b[49m\u001b[43mencoding\u001b[49m\u001b[38;5;241;43m=\u001b[39;49m\u001b[38;5;28;43mself\u001b[39;49m\u001b[38;5;241;43m.\u001b[39;49m\u001b[43moptions\u001b[49m\u001b[38;5;241;43m.\u001b[39;49m\u001b[43mget\u001b[49m\u001b[43m(\u001b[49m\u001b[38;5;124;43m\"\u001b[39;49m\u001b[38;5;124;43mencoding\u001b[39;49m\u001b[38;5;124;43m\"\u001b[39;49m\u001b[43m,\u001b[49m\u001b[43m \u001b[49m\u001b[38;5;28;43;01mNone\u001b[39;49;00m\u001b[43m)\u001b[49m\u001b[43m,\u001b[49m\n\u001b[1;32m   1739\u001b[0m \u001b[43m    \u001b[49m\u001b[43mcompression\u001b[49m\u001b[38;5;241;43m=\u001b[39;49m\u001b[38;5;28;43mself\u001b[39;49m\u001b[38;5;241;43m.\u001b[39;49m\u001b[43moptions\u001b[49m\u001b[38;5;241;43m.\u001b[39;49m\u001b[43mget\u001b[49m\u001b[43m(\u001b[49m\u001b[38;5;124;43m\"\u001b[39;49m\u001b[38;5;124;43mcompression\u001b[39;49m\u001b[38;5;124;43m\"\u001b[39;49m\u001b[43m,\u001b[49m\u001b[43m \u001b[49m\u001b[38;5;28;43;01mNone\u001b[39;49;00m\u001b[43m)\u001b[49m\u001b[43m,\u001b[49m\n\u001b[1;32m   1740\u001b[0m \u001b[43m    \u001b[49m\u001b[43mmemory_map\u001b[49m\u001b[38;5;241;43m=\u001b[39;49m\u001b[38;5;28;43mself\u001b[39;49m\u001b[38;5;241;43m.\u001b[39;49m\u001b[43moptions\u001b[49m\u001b[38;5;241;43m.\u001b[39;49m\u001b[43mget\u001b[49m\u001b[43m(\u001b[49m\u001b[38;5;124;43m\"\u001b[39;49m\u001b[38;5;124;43mmemory_map\u001b[39;49m\u001b[38;5;124;43m\"\u001b[39;49m\u001b[43m,\u001b[49m\u001b[43m \u001b[49m\u001b[38;5;28;43;01mFalse\u001b[39;49;00m\u001b[43m)\u001b[49m\u001b[43m,\u001b[49m\n\u001b[1;32m   1741\u001b[0m \u001b[43m    \u001b[49m\u001b[43mis_text\u001b[49m\u001b[38;5;241;43m=\u001b[39;49m\u001b[43mis_text\u001b[49m\u001b[43m,\u001b[49m\n\u001b[1;32m   1742\u001b[0m \u001b[43m    \u001b[49m\u001b[43merrors\u001b[49m\u001b[38;5;241;43m=\u001b[39;49m\u001b[38;5;28;43mself\u001b[39;49m\u001b[38;5;241;43m.\u001b[39;49m\u001b[43moptions\u001b[49m\u001b[38;5;241;43m.\u001b[39;49m\u001b[43mget\u001b[49m\u001b[43m(\u001b[49m\u001b[38;5;124;43m\"\u001b[39;49m\u001b[38;5;124;43mencoding_errors\u001b[39;49m\u001b[38;5;124;43m\"\u001b[39;49m\u001b[43m,\u001b[49m\u001b[43m \u001b[49m\u001b[38;5;124;43m\"\u001b[39;49m\u001b[38;5;124;43mstrict\u001b[39;49m\u001b[38;5;124;43m\"\u001b[39;49m\u001b[43m)\u001b[49m\u001b[43m,\u001b[49m\n\u001b[1;32m   1743\u001b[0m \u001b[43m    \u001b[49m\u001b[43mstorage_options\u001b[49m\u001b[38;5;241;43m=\u001b[39;49m\u001b[38;5;28;43mself\u001b[39;49m\u001b[38;5;241;43m.\u001b[39;49m\u001b[43moptions\u001b[49m\u001b[38;5;241;43m.\u001b[39;49m\u001b[43mget\u001b[49m\u001b[43m(\u001b[49m\u001b[38;5;124;43m\"\u001b[39;49m\u001b[38;5;124;43mstorage_options\u001b[39;49m\u001b[38;5;124;43m\"\u001b[39;49m\u001b[43m,\u001b[49m\u001b[43m \u001b[49m\u001b[38;5;28;43;01mNone\u001b[39;49;00m\u001b[43m)\u001b[49m\u001b[43m,\u001b[49m\n\u001b[1;32m   1744\u001b[0m \u001b[43m\u001b[49m\u001b[43m)\u001b[49m\n\u001b[1;32m   1745\u001b[0m \u001b[38;5;28;01massert\u001b[39;00m \u001b[38;5;28mself\u001b[39m\u001b[38;5;241m.\u001b[39mhandles \u001b[38;5;129;01mis\u001b[39;00m \u001b[38;5;129;01mnot\u001b[39;00m \u001b[38;5;28;01mNone\u001b[39;00m\n\u001b[1;32m   1746\u001b[0m f \u001b[38;5;241m=\u001b[39m \u001b[38;5;28mself\u001b[39m\u001b[38;5;241m.\u001b[39mhandles\u001b[38;5;241m.\u001b[39mhandle\n",
            "File \u001b[0;32m/lib/python3.11/site-packages/pandas/io/common.py:856\u001b[0m, in \u001b[0;36mget_handle\u001b[0;34m(path_or_buf, mode, encoding, compression, memory_map, is_text, errors, storage_options)\u001b[0m\n\u001b[1;32m    851\u001b[0m \u001b[38;5;28;01melif\u001b[39;00m \u001b[38;5;28misinstance\u001b[39m(handle, \u001b[38;5;28mstr\u001b[39m):\n\u001b[1;32m    852\u001b[0m     \u001b[38;5;66;03m# Check whether the filename is to be opened in binary mode.\u001b[39;00m\n\u001b[1;32m    853\u001b[0m     \u001b[38;5;66;03m# Binary mode does not support 'encoding' and 'newline'.\u001b[39;00m\n\u001b[1;32m    854\u001b[0m     \u001b[38;5;28;01mif\u001b[39;00m ioargs\u001b[38;5;241m.\u001b[39mencoding \u001b[38;5;129;01mand\u001b[39;00m \u001b[38;5;124m\"\u001b[39m\u001b[38;5;124mb\u001b[39m\u001b[38;5;124m\"\u001b[39m \u001b[38;5;129;01mnot\u001b[39;00m \u001b[38;5;129;01min\u001b[39;00m ioargs\u001b[38;5;241m.\u001b[39mmode:\n\u001b[1;32m    855\u001b[0m         \u001b[38;5;66;03m# Encoding\u001b[39;00m\n\u001b[0;32m--> 856\u001b[0m         handle \u001b[38;5;241m=\u001b[39m \u001b[38;5;28;43mopen\u001b[39;49m\u001b[43m(\u001b[49m\n\u001b[1;32m    857\u001b[0m \u001b[43m            \u001b[49m\u001b[43mhandle\u001b[49m\u001b[43m,\u001b[49m\n\u001b[1;32m    858\u001b[0m \u001b[43m            \u001b[49m\u001b[43mioargs\u001b[49m\u001b[38;5;241;43m.\u001b[39;49m\u001b[43mmode\u001b[49m\u001b[43m,\u001b[49m\n\u001b[1;32m    859\u001b[0m \u001b[43m            \u001b[49m\u001b[43mencoding\u001b[49m\u001b[38;5;241;43m=\u001b[39;49m\u001b[43mioargs\u001b[49m\u001b[38;5;241;43m.\u001b[39;49m\u001b[43mencoding\u001b[49m\u001b[43m,\u001b[49m\n\u001b[1;32m    860\u001b[0m \u001b[43m            \u001b[49m\u001b[43merrors\u001b[49m\u001b[38;5;241;43m=\u001b[39;49m\u001b[43merrors\u001b[49m\u001b[43m,\u001b[49m\n\u001b[1;32m    861\u001b[0m \u001b[43m            \u001b[49m\u001b[43mnewline\u001b[49m\u001b[38;5;241;43m=\u001b[39;49m\u001b[38;5;124;43m\"\u001b[39;49m\u001b[38;5;124;43m\"\u001b[39;49m\u001b[43m,\u001b[49m\n\u001b[1;32m    862\u001b[0m \u001b[43m        \u001b[49m\u001b[43m)\u001b[49m\n\u001b[1;32m    863\u001b[0m     \u001b[38;5;28;01melse\u001b[39;00m:\n\u001b[1;32m    864\u001b[0m         \u001b[38;5;66;03m# Binary mode\u001b[39;00m\n\u001b[1;32m    865\u001b[0m         handle \u001b[38;5;241m=\u001b[39m \u001b[38;5;28mopen\u001b[39m(handle, ioargs\u001b[38;5;241m.\u001b[39mmode)\n",
            "\u001b[0;31mFileNotFoundError\u001b[0m: [Errno 44] No such file or directory: 'C:\\\\Users\\\\Макс\\\\Desktop\\\\test.csv'"
          ],
          "output_type": "error"
        }
      ]
    },
    {
      "cell_type": "code",
      "source": "test_df.shape",
      "metadata": {
        "papermill": {
          "duration": 0.02359,
          "end_time": "2023-05-08T06:58:48.728801",
          "exception": false,
          "start_time": "2023-05-08T06:58:48.705211",
          "status": "completed"
        },
        "tags": [],
        "execution": {
          "iopub.status.busy": "2023-05-12T16:08:01.983802Z",
          "iopub.execute_input": "2023-05-12T16:08:01.984212Z",
          "iopub.status.idle": "2023-05-12T16:08:01.993951Z",
          "shell.execute_reply.started": "2023-05-12T16:08:01.984182Z",
          "shell.execute_reply": "2023-05-12T16:08:01.992059Z"
        },
        "trusted": true
      },
      "execution_count": null,
      "outputs": []
    },
    {
      "cell_type": "markdown",
      "source": "Приведем столбец Fare к типу int64.",
      "metadata": {}
    },
    {
      "cell_type": "code",
      "source": "train_df['Fare']= train_df['Fare'].astype('int')",
      "metadata": {
        "papermill": {
          "duration": 0.023294,
          "end_time": "2023-05-08T06:58:48.807611",
          "exception": false,
          "start_time": "2023-05-08T06:58:48.784317",
          "status": "completed"
        },
        "tags": [],
        "execution": {
          "iopub.status.busy": "2023-05-12T16:08:02.613511Z",
          "iopub.execute_input": "2023-05-12T16:08:02.614068Z",
          "iopub.status.idle": "2023-05-12T16:08:02.622583Z",
          "shell.execute_reply.started": "2023-05-12T16:08:02.614029Z",
          "shell.execute_reply": "2023-05-12T16:08:02.621132Z"
        },
        "trusted": true
      },
      "execution_count": null,
      "outputs": []
    },
    {
      "cell_type": "markdown",
      "source": "Проверим данные на пропуски.",
      "metadata": {}
    },
    {
      "cell_type": "code",
      "source": "train_df.isnull().sum()",
      "metadata": {
        "papermill": {
          "duration": 0.026335,
          "end_time": "2023-05-08T06:58:48.848347",
          "exception": false,
          "start_time": "2023-05-08T06:58:48.822012",
          "status": "completed"
        },
        "tags": [],
        "execution": {
          "iopub.status.busy": "2023-05-12T16:08:03.734049Z",
          "iopub.execute_input": "2023-05-12T16:08:03.734468Z",
          "iopub.status.idle": "2023-05-12T16:08:03.750286Z",
          "shell.execute_reply.started": "2023-05-12T16:08:03.734437Z",
          "shell.execute_reply": "2023-05-12T16:08:03.748637Z"
        },
        "trusted": true
      },
      "execution_count": null,
      "outputs": []
    },
    {
      "cell_type": "markdown",
      "source": "Пропуски присутсвуют, нужно определиться, как их заполнить. ",
      "metadata": {}
    },
    {
      "cell_type": "markdown",
      "source": "Взглянем на корреляцию данных между столбцами.",
      "metadata": {}
    },
    {
      "cell_type": "code",
      "source": "train_df.corr()",
      "metadata": {
        "papermill": {
          "duration": 0.037557,
          "end_time": "2023-05-08T06:58:48.898380",
          "exception": false,
          "start_time": "2023-05-08T06:58:48.860823",
          "status": "completed"
        },
        "tags": [],
        "execution": {
          "iopub.status.busy": "2023-05-12T16:08:05.444137Z",
          "iopub.execute_input": "2023-05-12T16:08:05.444621Z",
          "iopub.status.idle": "2023-05-12T16:08:05.463638Z",
          "shell.execute_reply.started": "2023-05-12T16:08:05.444586Z",
          "shell.execute_reply": "2023-05-12T16:08:05.462740Z"
        },
        "trusted": true
      },
      "execution_count": null,
      "outputs": []
    },
    {
      "cell_type": "code",
      "source": "plt.figure(figsize=(8,6))\nsns.heatmap(train_df.corr('pearson'), vmin=-1, vmax=1, cmap='coolwarm', annot=True, square=True)\nplt.show()",
      "metadata": {
        "execution": {
          "iopub.status.busy": "2023-05-12T16:08:06.739472Z",
          "iopub.execute_input": "2023-05-12T16:08:06.740575Z",
          "iopub.status.idle": "2023-05-12T16:08:07.267577Z",
          "shell.execute_reply.started": "2023-05-12T16:08:06.740500Z",
          "shell.execute_reply": "2023-05-12T16:08:07.266323Z"
        },
        "trusted": true
      },
      "execution_count": null,
      "outputs": []
    },
    {
      "cell_type": "markdown",
      "source": "Из графиков корреляции видим, что высоких зависимостей между колонками - нет.",
      "metadata": {}
    },
    {
      "cell_type": "markdown",
      "source": "# Исследовательский анализ данных",
      "metadata": {}
    },
    {
      "cell_type": "code",
      "source": "for cols in ['Sex','Embarked','Pclass', 'SibSp', 'Parch']:\n    print(cols)\n    sns.countplot(data=train_df, x=cols, hue='Survived')\n    plt.show()\n    print(\"\")",
      "metadata": {
        "execution": {
          "iopub.status.busy": "2023-05-12T16:08:13.350753Z",
          "iopub.execute_input": "2023-05-12T16:08:13.351172Z",
          "iopub.status.idle": "2023-05-12T16:08:14.669893Z",
          "shell.execute_reply.started": "2023-05-12T16:08:13.351139Z",
          "shell.execute_reply": "2023-05-12T16:08:14.668577Z"
        },
        "trusted": true
      },
      "execution_count": null,
      "outputs": []
    },
    {
      "cell_type": "markdown",
      "source": "Из графиков видим следующее: \n1. В основном, выжили женщины - мужчины пропускали их на спасательные шлюпки в первую очередь. \n2. Большая часть пассажиров отправлялись из порта города Southampton, от того крупная часть потерь среди тех, кто садился на корабль из этого города. \n3. Значительная часть пассажиров приобретали билеты 3 (эконом) класса - среди именно этого класса билетов много потерь. Также заметно, что большая часть пассажиров из 1 (люкс) класса  - выжили. \n4. Графики количества родственников пассажиров на борту показывают, что большинство пассажиров путешествовали в одиночку, однако, как показала ситуация, больше шансов на выживание было у людей с 1 родственником на борту.\n",
      "metadata": {}
    },
    {
      "cell_type": "markdown",
      "source": "Взглянем на пропуски в колонке Embarked.",
      "metadata": {}
    },
    {
      "cell_type": "code",
      "source": "nan_rows_Embarked = train_df[train_df['Embarked'].isna()]\nnan_rows_Embarked.head()",
      "metadata": {
        "papermill": {
          "duration": 0.034882,
          "end_time": "2023-05-08T06:58:49.618193",
          "exception": false,
          "start_time": "2023-05-08T06:58:49.583311",
          "status": "completed"
        },
        "tags": [],
        "execution": {
          "iopub.status.busy": "2023-05-12T16:24:30.753142Z",
          "iopub.execute_input": "2023-05-12T16:24:30.753588Z",
          "iopub.status.idle": "2023-05-12T16:24:30.772260Z",
          "shell.execute_reply.started": "2023-05-12T16:24:30.753552Z",
          "shell.execute_reply": "2023-05-12T16:24:30.771306Z"
        },
        "trusted": true
      },
      "execution_count": null,
      "outputs": []
    },
    {
      "cell_type": "code",
      "source": "selected_rows = train_df[(train_df['Pclass'] == 1) & (train_df['Survived'] == 1) & (train_df['Sex'] == 'female') & (train_df['Fare']< 82) & (train_df['Fare']> 78)]\nselected_rows.head(20)",
      "metadata": {
        "papermill": {
          "duration": 0.036952,
          "end_time": "2023-05-08T06:58:49.696391",
          "exception": false,
          "start_time": "2023-05-08T06:58:49.659439",
          "status": "completed"
        },
        "tags": [],
        "execution": {
          "iopub.status.busy": "2023-05-12T16:25:00.224939Z",
          "iopub.execute_input": "2023-05-12T16:25:00.225384Z",
          "iopub.status.idle": "2023-05-12T16:25:00.251515Z",
          "shell.execute_reply.started": "2023-05-12T16:25:00.225352Z",
          "shell.execute_reply": "2023-05-12T16:25:00.249973Z"
        },
        "trusted": true
      },
      "execution_count": null,
      "outputs": []
    },
    {
      "cell_type": "markdown",
      "source": "Заполним колонку подходящим значением.",
      "metadata": {}
    },
    {
      "cell_type": "code",
      "source": "median_embarked = train_df['Embarked'].mode()[0]\ntrain_df['Embarked'].fillna(median_embarked, inplace=True)",
      "metadata": {
        "execution": {
          "iopub.status.busy": "2023-05-12T16:27:09.324151Z",
          "iopub.execute_input": "2023-05-12T16:27:09.324750Z",
          "iopub.status.idle": "2023-05-12T16:27:09.333899Z",
          "shell.execute_reply.started": "2023-05-12T16:27:09.324702Z",
          "shell.execute_reply": "2023-05-12T16:27:09.332586Z"
        },
        "trusted": true
      },
      "execution_count": null,
      "outputs": []
    },
    {
      "cell_type": "code",
      "source": "selected_rows = train_df[(train_df['Pclass'] == 1) & (train_df['Survived'] == 1) & (train_df['Sex'] == 'female') & (train_df['Fare']< 82) & (train_df['Fare']> 78)]\nselected_rows.head(20)",
      "metadata": {
        "execution": {
          "iopub.status.busy": "2023-05-12T16:27:13.081592Z",
          "iopub.execute_input": "2023-05-12T16:27:13.081978Z",
          "iopub.status.idle": "2023-05-12T16:27:13.105767Z",
          "shell.execute_reply.started": "2023-05-12T16:27:13.081946Z",
          "shell.execute_reply": "2023-05-12T16:27:13.104456Z"
        },
        "trusted": true
      },
      "execution_count": null,
      "outputs": []
    },
    {
      "cell_type": "markdown",
      "source": "Удалим лишние колонки.",
      "metadata": {}
    },
    {
      "cell_type": "code",
      "source": "train_df.drop(['Name','PassengerId','Ticket'], axis= 1, inplace= True)",
      "metadata": {
        "papermill": {
          "duration": 0.028595,
          "end_time": "2023-05-08T06:58:51.020577",
          "exception": false,
          "start_time": "2023-05-08T06:58:50.991982",
          "status": "completed"
        },
        "tags": [],
        "execution": {
          "iopub.status.busy": "2023-05-12T16:27:54.860734Z",
          "iopub.execute_input": "2023-05-12T16:27:54.861310Z",
          "iopub.status.idle": "2023-05-12T16:27:54.871861Z",
          "shell.execute_reply.started": "2023-05-12T16:27:54.861269Z",
          "shell.execute_reply": "2023-05-12T16:27:54.869936Z"
        },
        "trusted": true
      },
      "execution_count": null,
      "outputs": []
    },
    {
      "cell_type": "markdown",
      "source": "Посмотрим на распределение возраста пассажиров.",
      "metadata": {}
    },
    {
      "cell_type": "code",
      "source": "sns.displot(train_df['Age'], kde= True)",
      "metadata": {
        "papermill": {
          "duration": 0.454512,
          "end_time": "2023-05-08T06:58:51.491780",
          "exception": false,
          "start_time": "2023-05-08T06:58:51.037268",
          "status": "completed"
        },
        "tags": [],
        "execution": {
          "iopub.status.busy": "2023-05-12T16:27:55.344372Z",
          "iopub.execute_input": "2023-05-12T16:27:55.346111Z",
          "iopub.status.idle": "2023-05-12T16:27:55.839359Z",
          "shell.execute_reply.started": "2023-05-12T16:27:55.346034Z",
          "shell.execute_reply": "2023-05-12T16:27:55.838298Z"
        },
        "trusted": true
      },
      "execution_count": null,
      "outputs": []
    },
    {
      "cell_type": "markdown",
      "source": "Правильнее всего будет заполнить пропуски в колонке Age - медианным значением, так как на него не влияют выбросы значений, следовательно, усредненный таким образом возраст подойдет лучше.",
      "metadata": {}
    },
    {
      "cell_type": "code",
      "source": "median_age = train_df['Age'].median()\ntrain_df['Age'].fillna(median_age, inplace=True)",
      "metadata": {
        "papermill": {
          "duration": 0.029372,
          "end_time": "2023-05-08T06:58:51.575864",
          "exception": false,
          "start_time": "2023-05-08T06:58:51.546492",
          "status": "completed"
        },
        "tags": [],
        "execution": {
          "iopub.status.busy": "2023-05-12T16:30:13.398334Z",
          "iopub.execute_input": "2023-05-12T16:30:13.399512Z",
          "iopub.status.idle": "2023-05-12T16:30:13.408125Z",
          "shell.execute_reply.started": "2023-05-12T16:30:13.399460Z",
          "shell.execute_reply": "2023-05-12T16:30:13.406768Z"
        },
        "trusted": true
      },
      "execution_count": null,
      "outputs": []
    },
    {
      "cell_type": "code",
      "source": "print(train_df['Age'].isna())",
      "metadata": {
        "execution": {
          "iopub.status.busy": "2023-05-12T16:30:14.698374Z",
          "iopub.execute_input": "2023-05-12T16:30:14.698821Z",
          "iopub.status.idle": "2023-05-12T16:30:14.706966Z",
          "shell.execute_reply.started": "2023-05-12T16:30:14.698785Z",
          "shell.execute_reply": "2023-05-12T16:30:14.706053Z"
        },
        "trusted": true
      },
      "execution_count": null,
      "outputs": []
    },
    {
      "cell_type": "markdown",
      "source": "Создадим новый столбец, показывающий, была ли каюта у пассажира и высчитаем шанс на выживание у людей с каютой, а также без нее.",
      "metadata": {}
    },
    {
      "cell_type": "code",
      "source": "\ntrain_df['has_cabin'] = train_df['Cabin'].notnull().astype(int)\n\n\n\nsurvival_rates = train_df.groupby('has_cabin')['Survived'].mean()\n\n\nprint(survival_rates)",
      "metadata": {
        "papermill": {
          "duration": 0.034036,
          "end_time": "2023-05-08T06:58:51.756637",
          "exception": false,
          "start_time": "2023-05-08T06:58:51.722601",
          "status": "completed"
        },
        "tags": [],
        "execution": {
          "iopub.status.busy": "2023-05-12T16:31:39.090256Z",
          "iopub.execute_input": "2023-05-12T16:31:39.090717Z",
          "iopub.status.idle": "2023-05-12T16:31:39.101845Z",
          "shell.execute_reply.started": "2023-05-12T16:31:39.090684Z",
          "shell.execute_reply": "2023-05-12T16:31:39.100448Z"
        },
        "trusted": true
      },
      "execution_count": null,
      "outputs": []
    },
    {
      "cell_type": "markdown",
      "source": "Видим, что люди жившие в каютах имели шанс на выживание в катастрофе - 67%.",
      "metadata": {}
    },
    {
      "cell_type": "code",
      "source": "print(train_df[['Cabin', 'has_cabin']].head())",
      "metadata": {
        "papermill": {
          "duration": 0.030243,
          "end_time": "2023-05-08T06:58:51.836617",
          "exception": false,
          "start_time": "2023-05-08T06:58:51.806374",
          "status": "completed"
        },
        "tags": [],
        "execution": {
          "iopub.status.busy": "2023-05-12T16:31:55.275484Z",
          "iopub.execute_input": "2023-05-12T16:31:55.276029Z",
          "iopub.status.idle": "2023-05-12T16:31:55.287489Z",
          "shell.execute_reply.started": "2023-05-12T16:31:55.275992Z",
          "shell.execute_reply": "2023-05-12T16:31:55.286493Z"
        },
        "trusted": true
      },
      "execution_count": null,
      "outputs": []
    },
    {
      "cell_type": "code",
      "source": "\nnum_zeros = (train_df['has_cabin'] == 0).sum()\n\n\nprint(num_zeros)",
      "metadata": {
        "papermill": {
          "duration": 0.029876,
          "end_time": "2023-05-08T06:58:51.885565",
          "exception": false,
          "start_time": "2023-05-08T06:58:51.855689",
          "status": "completed"
        },
        "tags": [],
        "execution": {
          "iopub.status.busy": "2023-05-12T16:32:00.322844Z",
          "iopub.execute_input": "2023-05-12T16:32:00.323282Z",
          "iopub.status.idle": "2023-05-12T16:32:00.332222Z",
          "shell.execute_reply.started": "2023-05-12T16:32:00.323247Z",
          "shell.execute_reply": "2023-05-12T16:32:00.330500Z"
        },
        "trusted": true
      },
      "execution_count": null,
      "outputs": []
    },
    {
      "cell_type": "markdown",
      "source": "Судя по тому, что у нас достаточно много пропусков в столбце наличия каюты - оставим бинарный столбец, а оригинальный столбец с номером - удалим.",
      "metadata": {}
    },
    {
      "cell_type": "code",
      "source": "train_df = train_df.drop('Cabin', axis=1)\ntrain_df.head()",
      "metadata": {
        "papermill": {
          "duration": 0.039429,
          "end_time": "2023-05-08T06:58:51.979180",
          "exception": false,
          "start_time": "2023-05-08T06:58:51.939751",
          "status": "completed"
        },
        "tags": [],
        "execution": {
          "iopub.status.busy": "2023-05-12T16:32:15.859546Z",
          "iopub.execute_input": "2023-05-12T16:32:15.859974Z",
          "iopub.status.idle": "2023-05-12T16:32:15.879417Z",
          "shell.execute_reply.started": "2023-05-12T16:32:15.859942Z",
          "shell.execute_reply": "2023-05-12T16:32:15.877942Z"
        },
        "trusted": true
      },
      "execution_count": null,
      "outputs": []
    },
    {
      "cell_type": "code",
      "source": "train_df.info()",
      "metadata": {
        "papermill": {
          "duration": 0.039302,
          "end_time": "2023-05-08T06:58:52.035811",
          "exception": false,
          "start_time": "2023-05-08T06:58:51.996509",
          "status": "completed"
        },
        "tags": [],
        "execution": {
          "iopub.status.busy": "2023-05-12T16:34:44.497783Z",
          "iopub.execute_input": "2023-05-12T16:34:44.498209Z",
          "iopub.status.idle": "2023-05-12T16:34:44.513477Z",
          "shell.execute_reply.started": "2023-05-12T16:34:44.498177Z",
          "shell.execute_reply": "2023-05-12T16:34:44.512011Z"
        },
        "trusted": true
      },
      "execution_count": null,
      "outputs": []
    },
    {
      "cell_type": "markdown",
      "source": "# Подготовка данных к обучению",
      "metadata": {}
    },
    {
      "cell_type": "markdown",
      "source": "Так как на графике распределения возраста была явная скошенность - применим StandartScaler и OneHotEncoder к категориальным и количественным данным.",
      "metadata": {}
    },
    {
      "cell_type": "code",
      "source": "preprocessor = ColumnTransformer(\n    transformers=[\n        ('num', StandardScaler(), ['Age', 'Fare']), \n        ('cat', OneHotEncoder(sparse_output= False, drop='first'), ['Sex', 'Embarked']) \n    ])",
      "metadata": {
        "papermill": {
          "duration": 0.029997,
          "end_time": "2023-05-08T06:58:52.120681",
          "exception": false,
          "start_time": "2023-05-08T06:58:52.090684",
          "status": "completed"
        },
        "tags": [],
        "execution": {
          "iopub.status.busy": "2023-05-12T16:34:44.974582Z",
          "iopub.execute_input": "2023-05-12T16:34:44.974973Z",
          "iopub.status.idle": "2023-05-12T16:34:44.981543Z",
          "shell.execute_reply.started": "2023-05-12T16:34:44.974944Z",
          "shell.execute_reply": "2023-05-12T16:34:44.980131Z"
        },
        "trusted": true
      },
      "execution_count": null,
      "outputs": []
    },
    {
      "cell_type": "code",
      "source": "X= preprocessor.fit_transform(train_df)\nX.shape",
      "metadata": {
        "papermill": {
          "duration": 0.048153,
          "end_time": "2023-05-08T06:58:52.188334",
          "exception": false,
          "start_time": "2023-05-08T06:58:52.140181",
          "status": "completed"
        },
        "tags": [],
        "execution": {
          "iopub.status.busy": "2023-05-12T16:34:45.104417Z",
          "iopub.execute_input": "2023-05-12T16:34:45.104955Z",
          "iopub.status.idle": "2023-05-12T16:34:45.307230Z",
          "shell.execute_reply.started": "2023-05-12T16:34:45.104915Z",
          "shell.execute_reply": "2023-05-12T16:34:45.305599Z"
        },
        "trusted": true
      },
      "execution_count": null,
      "outputs": []
    },
    {
      "cell_type": "markdown",
      "source": "Получили данные типа array - преобразуем их в новый датасет.",
      "metadata": {}
    },
    {
      "cell_type": "code",
      "source": "X_transformed = np.hstack((train_df, X))",
      "metadata": {
        "execution": {
          "iopub.status.busy": "2023-05-12T16:34:45.411309Z",
          "iopub.execute_input": "2023-05-12T16:34:45.411737Z",
          "iopub.status.idle": "2023-05-12T16:34:45.417602Z",
          "shell.execute_reply.started": "2023-05-12T16:34:45.411704Z",
          "shell.execute_reply": "2023-05-12T16:34:45.416608Z"
        },
        "trusted": true
      },
      "execution_count": null,
      "outputs": []
    },
    {
      "cell_type": "code",
      "source": "final_df= pd.DataFrame(columns=['survived','pclass','Sex','age','sibsp','parch','fare','emarked','cabin','nage','nfare','sex','em1','em2'],data= X_transformed)\nfinal_df.head()",
      "metadata": {
        "execution": {
          "iopub.status.busy": "2023-05-12T16:34:45.561543Z",
          "iopub.execute_input": "2023-05-12T16:34:45.562001Z",
          "iopub.status.idle": "2023-05-12T16:34:45.584448Z",
          "shell.execute_reply.started": "2023-05-12T16:34:45.561968Z",
          "shell.execute_reply": "2023-05-12T16:34:45.582914Z"
        },
        "trusted": true
      },
      "execution_count": null,
      "outputs": []
    },
    {
      "cell_type": "markdown",
      "source": "После преобразования данных можно удалить столбцы 'Sex', 'age' и 'fare', так как появились аналогичные колонки с названиями 'nage', 'nfare', 'sex', 'em1', 'em2'.",
      "metadata": {}
    },
    {
      "cell_type": "code",
      "source": "main_df = final_df[['pclass','sibsp','parch','cabin','nage','nfare','sex','em1','em2']]\nmain_df = main_df.astype(int)\ntarget = final_df['survived']\ntarget = target.astype(int)",
      "metadata": {
        "execution": {
          "iopub.status.busy": "2023-05-12T16:34:45.821786Z",
          "iopub.execute_input": "2023-05-12T16:34:45.822203Z",
          "iopub.status.idle": "2023-05-12T16:34:45.831302Z",
          "shell.execute_reply.started": "2023-05-12T16:34:45.822168Z",
          "shell.execute_reply": "2023-05-12T16:34:45.829996Z"
        },
        "trusted": true
      },
      "execution_count": null,
      "outputs": []
    },
    {
      "cell_type": "code",
      "source": "main_df.info()",
      "metadata": {
        "execution": {
          "iopub.status.busy": "2023-05-12T16:34:46.071933Z",
          "iopub.execute_input": "2023-05-12T16:34:46.072340Z",
          "iopub.status.idle": "2023-05-12T16:34:46.089064Z",
          "shell.execute_reply.started": "2023-05-12T16:34:46.072308Z",
          "shell.execute_reply": "2023-05-12T16:34:46.087610Z"
        },
        "trusted": true
      },
      "execution_count": null,
      "outputs": []
    },
    {
      "cell_type": "markdown",
      "source": "# Обучение моделей",
      "metadata": {}
    },
    {
      "cell_type": "code",
      "source": "x_train, x_test, y_train, y_test = train_test_split(main_df, target, test_size = 0.1, random_state=1234)",
      "metadata": {
        "execution": {
          "iopub.status.busy": "2023-05-12T16:44:34.820550Z",
          "iopub.execute_input": "2023-05-12T16:44:34.820943Z",
          "iopub.status.idle": "2023-05-12T16:44:34.830864Z",
          "shell.execute_reply.started": "2023-05-12T16:44:34.820914Z",
          "shell.execute_reply": "2023-05-12T16:44:34.829053Z"
        },
        "trusted": true
      },
      "execution_count": null,
      "outputs": []
    },
    {
      "cell_type": "code",
      "source": "\nlr = LogisticRegression()\n\nscore_lr = cross_val_score(lr,x_train, y_train, cv= 20)\nprint(score_lr.mean())\n\nscore_lr = score_lr.mean()",
      "metadata": {
        "execution": {
          "iopub.status.busy": "2023-05-12T16:51:34.775035Z",
          "iopub.execute_input": "2023-05-12T16:51:34.775471Z",
          "iopub.status.idle": "2023-05-12T16:51:35.035240Z",
          "shell.execute_reply.started": "2023-05-12T16:51:34.775433Z",
          "shell.execute_reply": "2023-05-12T16:51:35.033879Z"
        },
        "trusted": true
      },
      "execution_count": null,
      "outputs": []
    },
    {
      "cell_type": "markdown",
      "source": "# Random Forest",
      "metadata": {}
    },
    {
      "cell_type": "code",
      "source": "rfc = RandomForestClassifier(n_estimators=10, random_state= 1234)\n\n\n    \nscore_rfc = cross_val_score(rfc,x_train, y_train, cv= 20)\nprint(score_rfc.mean())\n\nscore_rfc = score_rfc.mean()",
      "metadata": {
        "execution": {
          "iopub.status.busy": "2023-05-12T16:51:35.694311Z",
          "iopub.execute_input": "2023-05-12T16:51:35.694994Z",
          "iopub.status.idle": "2023-05-12T16:51:36.414844Z",
          "shell.execute_reply.started": "2023-05-12T16:51:35.694956Z",
          "shell.execute_reply": "2023-05-12T16:51:36.413608Z"
        },
        "trusted": true
      },
      "execution_count": null,
      "outputs": []
    },
    {
      "cell_type": "markdown",
      "source": "# Decision Tree",
      "metadata": {}
    },
    {
      "cell_type": "code",
      "source": "dtc = DecisionTreeClassifier(random_state=1234)\n\n\n\nscore_dtc = cross_val_score(dtc,x_train, y_train, cv= 20)\nprint(score_dtc.mean())\n\nscore_dtc = score_dtc.mean()",
      "metadata": {
        "execution": {
          "iopub.status.busy": "2023-05-12T16:51:36.417354Z",
          "iopub.execute_input": "2023-05-12T16:51:36.418405Z",
          "iopub.status.idle": "2023-05-12T16:51:36.561573Z",
          "shell.execute_reply.started": "2023-05-12T16:51:36.418364Z",
          "shell.execute_reply": "2023-05-12T16:51:36.560261Z"
        },
        "trusted": true
      },
      "execution_count": null,
      "outputs": []
    },
    {
      "cell_type": "markdown",
      "source": "# K-Neighbours",
      "metadata": {}
    },
    {
      "cell_type": "code",
      "source": "knn= KNeighborsClassifier()\n\n\n\nscore_knn = cross_val_score(knn ,x_train, y_train, cv= 20)\nprint(score_knn.mean())\n\nscore_knn = score_knn.mean()",
      "metadata": {
        "execution": {
          "iopub.status.busy": "2023-05-12T16:51:36.563964Z",
          "iopub.execute_input": "2023-05-12T16:51:36.565014Z",
          "iopub.status.idle": "2023-05-12T16:51:36.759988Z",
          "shell.execute_reply.started": "2023-05-12T16:51:36.564966Z",
          "shell.execute_reply": "2023-05-12T16:51:36.758809Z"
        },
        "trusted": true
      },
      "execution_count": null,
      "outputs": []
    },
    {
      "cell_type": "markdown",
      "source": "# Сравнение моделей",
      "metadata": {}
    },
    {
      "cell_type": "code",
      "source": "models = ['Logistic Regression', 'Random Forest','Decision Tree', 'K-Neighbours']\nscore = [score_lr, score_rfc, score_dtc, score_knn]\n\nmodel_comp = pd.DataFrame({'Model': models,'Score': score})\n\ndisplay(model_comp)",
      "metadata": {
        "execution": {
          "iopub.status.busy": "2023-05-12T16:51:36.763164Z",
          "iopub.execute_input": "2023-05-12T16:51:36.763688Z",
          "iopub.status.idle": "2023-05-12T16:51:36.779129Z",
          "shell.execute_reply.started": "2023-05-12T16:51:36.763639Z",
          "shell.execute_reply": "2023-05-12T16:51:36.777651Z"
        },
        "trusted": true
      },
      "execution_count": null,
      "outputs": []
    },
    {
      "cell_type": "markdown",
      "source": "Модель Random Forest показала наиболее качественные результаты. Лучший результат: 0.807.",
      "metadata": {}
    },
    {
      "cell_type": "code",
      "source": "from sklearn.ensemble import RandomForestClassifier\n\n\n\ny = train_df[\"Survived\"]\n\nfeatures = [\"Pclass\", \"Sex\", \"SibSp\", \"Parch\"]\nX = pd.get_dummies(train_df[features])\nX_test = pd.get_dummies(test_df[features])\n\nmodel = RandomForestClassifier(n_estimators=100, max_depth=3, random_state=1234)\nmodel.fit(X, y)\npredictions = model.predict(X_test)\n\noutput = pd.DataFrame({'PassengerId': test_df.PassengerId, 'Survived': predictions})\noutput.to_csv('submission.csv', index=False)",
      "metadata": {
        "execution": {
          "iopub.status.busy": "2023-05-12T17:01:58.625751Z",
          "iopub.execute_input": "2023-05-12T17:01:58.626136Z",
          "iopub.status.idle": "2023-05-12T17:01:58.929409Z",
          "shell.execute_reply.started": "2023-05-12T17:01:58.626106Z",
          "shell.execute_reply": "2023-05-12T17:01:58.928354Z"
        },
        "trusted": true
      },
      "execution_count": null,
      "outputs": []
    },
    {
      "cell_type": "markdown",
      "source": "# Заключение",
      "metadata": {}
    },
    {
      "cell_type": "markdown",
      "source": "Многие вещи увеличили бы шансы на выживание пассажиров, но далеко не все можно было предусмотреть и изменить. Женщины и дети спаслись с большей вероятностью, пассажиры первого класса выжили с большей вероятностью, чем пассажиры второго и третьего классов. Однако, если вы - мужчина на Титанике, то ваш шанс на выживание больше, если на корабль вы сели из Cherbourgh. Также, путешествие, как минимум, с 1 родственником также увеличивало вероятность выживания.",
      "metadata": {}
    }
  ]
}